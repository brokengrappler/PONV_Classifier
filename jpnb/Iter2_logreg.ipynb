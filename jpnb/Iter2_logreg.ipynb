{
 "cells": [
  {
   "cell_type": "code",
   "execution_count": 1,
   "metadata": {
    "ExecuteTime": {
     "end_time": "2020-08-02T19:32:58.632211Z",
     "start_time": "2020-08-02T19:32:56.168702Z"
    }
   },
   "outputs": [],
   "source": [
    "from sklearn.model_selection import train_test_split\n",
    "from sklearn.metrics import confusion_matrix, f1_score, roc_auc_score, roc_curve, precision_score, recall_score, accuracy_score\n",
    "from sklearn.linear_model import LogisticRegression\n",
    "from sklearn.feature_selection import RFE\n",
    "from sklearn.model_selection import GridSearchCV\n",
    "from sklearn.preprocessing import StandardScaler\n",
    "\n",
    "import pandas as pd\n",
    "import numpy as np\n",
    "import matplotlib.pyplot as plt\n",
    "import seaborn as sns\n",
    "sns.set()"
   ]
  },
  {
   "cell_type": "code",
   "execution_count": 2,
   "metadata": {
    "ExecuteTime": {
     "end_time": "2020-08-02T19:32:59.500448Z",
     "start_time": "2020-08-02T19:32:59.093005Z"
    }
   },
   "outputs": [],
   "source": [
    "analysis_df = pd.read_pickle('../pkl_files/analysis_df.pkl')\n",
    "analysis_x = analysis_df.drop(['ponv', 'vomiting24h'], axis=1)\n",
    "analysis_y = analysis_df['ponv']"
   ]
  },
  {
   "cell_type": "code",
   "execution_count": 3,
   "metadata": {
    "ExecuteTime": {
     "end_time": "2020-08-02T19:32:59.989874Z",
     "start_time": "2020-08-02T19:32:59.974919Z"
    }
   },
   "outputs": [],
   "source": [
    "# Extract Test Set\n",
    "tv_x, test_x, tv_y, test_y = train_test_split(analysis_x, analysis_y, test_size=.2, random_state=10)\n",
    "train_x, val_x, train_y, val_y = train_test_split(tv_x, tv_y, test_size=.25, random_state=444)"
   ]
  },
  {
   "cell_type": "code",
   "execution_count": 4,
   "metadata": {
    "ExecuteTime": {
     "end_time": "2020-08-02T19:33:00.874435Z",
     "start_time": "2020-08-02T19:33:00.762499Z"
    }
   },
   "outputs": [],
   "source": [
    "import log_reg_tuning as lrt\n",
    "import Extract_feats_PONV as efp"
   ]
  },
  {
   "cell_type": "code",
   "execution_count": 5,
   "metadata": {
    "ExecuteTime": {
     "end_time": "2020-08-02T19:33:01.758172Z",
     "start_time": "2020-08-02T19:33:01.727888Z"
    }
   },
   "outputs": [
    {
     "name": "stderr",
     "output_type": "stream",
     "text": [
      "/Users/paulchung/Dropbox (Personal)/Paul Working Folder/Home/Coding/Metis/github_backup/Project-3-Classifier/jpnb/Extract_feats_PONV.py:38: SettingWithCopyWarning: \n",
      "A value is trying to be set on a copy of a slice from a DataFrame.\n",
      "Try using .loc[row_indexer,col_indexer] = value instead\n",
      "\n",
      "See the caveats in the documentation: https://pandas.pydata.org/pandas-docs/stable/user_guide/indexing.html#returning-a-view-versus-a-copy\n",
      "  input_plus_FE['tot_drugs'] = input_plus_FE[['tramadol_dose_pacu', 'ketamine_dose',\n"
     ]
    }
   ],
   "source": [
    "train_input = efp.total_drug_interaction(analysis_df, tv_x)"
   ]
  },
  {
   "cell_type": "code",
   "execution_count": 6,
   "metadata": {
    "ExecuteTime": {
     "end_time": "2020-08-02T19:33:03.275571Z",
     "start_time": "2020-08-02T19:33:02.891495Z"
    }
   },
   "outputs": [
    {
     "name": "stdout",
     "output_type": "stream",
     "text": [
      "Avg. f1 score: 0.5100269436168303\n",
      "Avg. Roc/Auc score 0.6763515119632141\n"
     ]
    }
   ],
   "source": [
    "final_model = lrt.ponv_log_reg(train_input, tv_y) "
   ]
  },
  {
   "cell_type": "code",
   "execution_count": 7,
   "metadata": {
    "ExecuteTime": {
     "end_time": "2020-08-02T19:33:04.165099Z",
     "start_time": "2020-08-02T19:33:04.155841Z"
    }
   },
   "outputs": [
    {
     "data": {
      "text/plain": [
       "array([[ 0.25693044,  0.26899168,  0.34609677,  0.06150443,  0.03335027,\n",
       "        -0.03244043,  0.00457399,  0.11857737, -0.01029932, -0.11143685,\n",
       "        -0.07399713, -0.04779388,  0.03036829, -0.12737722, -0.02656633,\n",
       "        -0.09888601, -0.13022477, -0.0905523 , -0.09429716, -0.06797089,\n",
       "        -0.10214832, -0.26985139,  0.01542435, -0.18692711, -0.00112437,\n",
       "        -0.08242827, -0.01354896, -0.09436774, -0.02535684,  0.36159877,\n",
       "        -0.21189793, -0.24616839,  0.038026  , -0.14092645,  0.07597714,\n",
       "         0.18622592,  0.09113634, -0.0182406 ]])"
      ]
     },
     "execution_count": 7,
     "metadata": {},
     "output_type": "execute_result"
    }
   ],
   "source": [
    "final_model.coef_"
   ]
  },
  {
   "cell_type": "code",
   "execution_count": 8,
   "metadata": {
    "ExecuteTime": {
     "end_time": "2020-08-02T19:33:05.618949Z",
     "start_time": "2020-08-02T19:33:05.599941Z"
    }
   },
   "outputs": [
    {
     "name": "stderr",
     "output_type": "stream",
     "text": [
      "/Users/paulchung/Dropbox (Personal)/Paul Working Folder/Home/Coding/Metis/github_backup/Project-3-Classifier/jpnb/Extract_feats_PONV.py:38: SettingWithCopyWarning: \n",
      "A value is trying to be set on a copy of a slice from a DataFrame.\n",
      "Try using .loc[row_indexer,col_indexer] = value instead\n",
      "\n",
      "See the caveats in the documentation: https://pandas.pydata.org/pandas-docs/stable/user_guide/indexing.html#returning-a-view-versus-a-copy\n",
      "  input_plus_FE['tot_drugs'] = input_plus_FE[['tramadol_dose_pacu', 'ketamine_dose',\n"
     ]
    }
   ],
   "source": [
    "val_input = efp.total_drug_interaction(analysis_df, val_x)"
   ]
  },
  {
   "cell_type": "code",
   "execution_count": 9,
   "metadata": {
    "ExecuteTime": {
     "end_time": "2020-08-02T19:33:10.709241Z",
     "start_time": "2020-08-02T19:33:10.684941Z"
    }
   },
   "outputs": [],
   "source": [
    "val_x_sc = lrt.std_scale(train_input, val_input)[1]"
   ]
  },
  {
   "cell_type": "code",
   "execution_count": 10,
   "metadata": {
    "ExecuteTime": {
     "end_time": "2020-08-02T19:33:11.429873Z",
     "start_time": "2020-08-02T19:33:11.411885Z"
    }
   },
   "outputs": [
    {
     "data": {
      "text/plain": [
       "array([ True,  True,  True, False,  True, False, False, False, False,\n",
       "       False, False, False,  True, False,  True,  True, False,  True,\n",
       "        True,  True, False,  True, False,  True, False,  True, False,\n",
       "        True,  True, False, False,  True,  True,  True, False,  True,\n",
       "        True,  True, False,  True, False,  True,  True, False, False,\n",
       "        True, False,  True, False, False, False, False, False,  True,\n",
       "       False,  True,  True,  True,  True, False, False, False,  True,\n",
       "       False,  True, False, False,  True, False, False,  True,  True,\n",
       "       False,  True, False, False,  True, False,  True, False, False,\n",
       "       False, False, False,  True,  True, False, False,  True,  True,\n",
       "       False, False, False,  True, False,  True,  True,  True,  True,\n",
       "        True,  True, False, False,  True, False,  True,  True, False,\n",
       "       False,  True,  True,  True,  True,  True, False, False,  True,\n",
       "        True, False,  True,  True, False, False,  True, False, False,\n",
       "       False,  True, False, False, False, False,  True, False,  True,\n",
       "       False, False,  True,  True,  True, False,  True,  True,  True,\n",
       "        True, False,  True,  True, False,  True,  True, False,  True,\n",
       "        True, False, False,  True, False, False,  True, False, False,\n",
       "       False,  True,  True,  True,  True, False, False,  True,  True,\n",
       "        True, False,  True, False, False,  True, False, False,  True,\n",
       "        True,  True, False, False, False,  True,  True,  True, False,\n",
       "       False,  True,  True,  True, False, False, False, False,  True,\n",
       "        True,  True,  True,  True, False, False,  True, False,  True,\n",
       "       False, False,  True, False, False, False,  True, False,  True,\n",
       "        True,  True,  True, False, False, False, False, False,  True,\n",
       "        True, False, False,  True,  True, False,  True,  True, False,\n",
       "        True,  True,  True, False, False,  True,  True,  True, False,\n",
       "        True,  True, False,  True,  True, False, False, False,  True,\n",
       "        True,  True, False, False,  True,  True,  True,  True,  True,\n",
       "        True,  True, False,  True, False, False,  True,  True, False,\n",
       "       False,  True,  True,  True,  True, False, False, False,  True,\n",
       "       False, False,  True, False,  True, False,  True,  True,  True,\n",
       "       False,  True,  True,  True,  True,  True,  True, False,  True,\n",
       "       False,  True, False, False,  True,  True, False, False, False,\n",
       "        True, False,  True, False, False, False, False,  True, False,\n",
       "        True,  True, False, False, False,  True,  True,  True, False,\n",
       "       False, False,  True,  True,  True,  True,  True, False,  True,\n",
       "        True, False,  True,  True, False, False, False,  True, False,\n",
       "       False, False, False,  True, False,  True, False,  True,  True,\n",
       "        True,  True,  True,  True, False, False, False,  True, False,\n",
       "        True,  True, False, False, False,  True,  True, False,  True,\n",
       "        True, False, False,  True, False,  True, False, False])"
      ]
     },
     "execution_count": 10,
     "metadata": {},
     "output_type": "execute_result"
    }
   ],
   "source": [
    "final_model.predict(val_x_sc)"
   ]
  },
  {
   "cell_type": "code",
   "execution_count": 11,
   "metadata": {
    "ExecuteTime": {
     "end_time": "2020-08-02T19:33:12.273631Z",
     "start_time": "2020-08-02T19:33:12.263708Z"
    }
   },
   "outputs": [
    {
     "data": {
      "text/plain": [
       "array([[151, 115],\n",
       "       [ 30,  81]])"
      ]
     },
     "execution_count": 11,
     "metadata": {},
     "output_type": "execute_result"
    }
   ],
   "source": [
    "confusion_matrix(val_y, final_model.predict(val_x_sc))\n"
   ]
  },
  {
   "cell_type": "code",
   "execution_count": 12,
   "metadata": {
    "ExecuteTime": {
     "end_time": "2020-08-02T19:33:13.044566Z",
     "start_time": "2020-08-02T19:33:13.034273Z"
    }
   },
   "outputs": [
    {
     "data": {
      "text/plain": [
       "0.5276872964169381"
      ]
     },
     "execution_count": 12,
     "metadata": {},
     "output_type": "execute_result"
    }
   ],
   "source": [
    "f1_score(val_y, final_model.predict(val_x_sc))"
   ]
  },
  {
   "cell_type": "code",
   "execution_count": 13,
   "metadata": {
    "ExecuteTime": {
     "end_time": "2020-08-02T19:33:17.034457Z",
     "start_time": "2020-08-02T19:33:14.376823Z"
    }
   },
   "outputs": [
    {
     "name": "stdout",
     "output_type": "stream",
     "text": [
      "Logistic Regression Model best F1 score 0.529 at prob decision threshold >= 0.494\n"
     ]
    },
    {
     "data": {
      "image/png": "[encoded data removed]",
      "text/plain": [
       "<Figure size 432x288 with 1 Axes>"
      ]
     },
     "metadata": {},
     "output_type": "display_data"
    }
   ],
   "source": [
    "thresh_ps = np.linspace(.10,.50,1000)\n",
    "model_val_probs = final_model.predict_proba(val_x_sc)[:,1] # positive class probs, same basic logistic model we fit in section 2 \n",
    "\n",
    "f1_scores, prec_scores, rec_scores, acc_scores = [], [], [], []\n",
    "for p in thresh_ps:\n",
    "    model_val_labels = model_val_probs >= p\n",
    "    f1_scores.append(f1_score(val_y, model_val_labels))    \n",
    "    prec_scores.append(precision_score(val_y, model_val_labels))\n",
    "    rec_scores.append(recall_score(val_y, model_val_labels))\n",
    "    acc_scores.append(accuracy_score(val_y, model_val_labels))\n",
    "    \n",
    "plt.plot(thresh_ps, f1_scores)\n",
    "plt.plot(thresh_ps, prec_scores)\n",
    "plt.plot(thresh_ps, rec_scores)\n",
    "plt.plot(thresh_ps, acc_scores)\n",
    "\n",
    "plt.title('Metric Scores vs. Positive Class Decision Probability Threshold')\n",
    "plt.legend(['F1','Precision','Recall','Accuracy'])\n",
    "plt.xlabel('P threshold')\n",
    "plt.ylabel('Metric score')\n",
    "\n",
    "best_f1_score = np.max(f1_scores) \n",
    "best_thresh_p = thresh_ps[np.argmax(f1_scores)]\n",
    "\n",
    "print('Logistic Regression Model best F1 score %.3f at prob decision threshold >= %.3f' \n",
    "      % (best_f1_score, best_thresh_p))"
   ]
  },
  {
   "cell_type": "code",
   "execution_count": 14,
   "metadata": {
    "ExecuteTime": {
     "end_time": "2020-08-02T19:33:21.767845Z",
     "start_time": "2020-08-02T19:33:21.760653Z"
    }
   },
   "outputs": [],
   "source": [
    "import pickle\n",
    "pickle.dump(final_model, open('lr_pickled_model.p', 'wb'))"
   ]
  },
  {
   "cell_type": "markdown",
   "metadata": {},
   "source": [
    "'solver':['liblinear', 'saga'],\\\n",
    "'penalty': ['l1', 'l2'],\\\n",
    "'tol': (1e-6, 100, 'log-uniform'),\\\n",
    "'C': (1e-6, 100, 'log-uniform'),\\\n",
    "'fit_intercept': [True, False]\\\n",
    "LogisticRegression(C=100, penalty='l1', solver='liblinear', tol=1e-06)"
   ]
  },
  {
   "cell_type": "markdown",
   "metadata": {},
   "source": [
    "# GridSearchCV hypertuning"
   ]
  },
  {
   "cell_type": "code",
   "execution_count": null,
   "metadata": {
    "ExecuteTime": {
     "end_time": "2020-08-02T17:03:57.143678Z",
     "start_time": "2020-08-02T17:03:43.070366Z"
    }
   },
   "outputs": [],
   "source": [
    "param_grid = {\n",
    "    'solver':['liblinear', 'saga'],\n",
    "    'penalty': ['l1', 'l2'],\n",
    "    'tol': (1e-6, 100, 'log-uniform'),\n",
    "    'C': (1e-6, 100, 'log-uniform'),\n",
    "    'fit_intercept': [True, False]\n",
    "}\n",
    "clf = GridSearchCV(final_model, param_grid=param_grid, cv=10, verbose=True, n_jobs=-1)\n",
    "best_clf = clf.fit(train_input, tv_y)"
   ]
  },
  {
   "cell_type": "code",
   "execution_count": null,
   "metadata": {
    "ExecuteTime": {
     "end_time": "2020-08-02T17:03:58.491639Z",
     "start_time": "2020-08-02T17:03:58.470106Z"
    }
   },
   "outputs": [],
   "source": [
    "best_clf.best_estimator_"
   ]
  },
  {
   "cell_type": "code",
   "execution_count": null,
   "metadata": {
    "ExecuteTime": {
     "end_time": "2020-08-02T17:04:13.988560Z",
     "start_time": "2020-08-02T17:04:13.980677Z"
    },
    "scrolled": true
   },
   "outputs": [],
   "source": [
    "dict(zip(train_input.columns,final_model.coef_[0]))"
   ]
  },
  {
   "cell_type": "markdown",
   "metadata": {},
   "source": [
    "# Predict on Test"
   ]
  },
  {
   "cell_type": "code",
   "execution_count": 15,
   "metadata": {
    "ExecuteTime": {
     "end_time": "2020-08-02T19:33:25.785290Z",
     "start_time": "2020-08-02T19:33:25.763146Z"
    }
   },
   "outputs": [
    {
     "name": "stderr",
     "output_type": "stream",
     "text": [
      "/Users/paulchung/Dropbox (Personal)/Paul Working Folder/Home/Coding/Metis/github_backup/Project-3-Classifier/jpnb/Extract_feats_PONV.py:38: SettingWithCopyWarning: \n",
      "A value is trying to be set on a copy of a slice from a DataFrame.\n",
      "Try using .loc[row_indexer,col_indexer] = value instead\n",
      "\n",
      "See the caveats in the documentation: https://pandas.pydata.org/pandas-docs/stable/user_guide/indexing.html#returning-a-view-versus-a-copy\n",
      "  input_plus_FE['tot_drugs'] = input_plus_FE[['tramadol_dose_pacu', 'ketamine_dose',\n"
     ]
    }
   ],
   "source": [
    "test_input = efp.total_drug_interaction(analysis_df, test_x)"
   ]
  },
  {
   "cell_type": "code",
   "execution_count": 16,
   "metadata": {
    "ExecuteTime": {
     "end_time": "2020-08-02T19:33:26.510912Z",
     "start_time": "2020-08-02T19:33:26.488773Z"
    }
   },
   "outputs": [],
   "source": [
    "test_input_sc = lrt.std_scale(train_input, test_input)[1]"
   ]
  },
  {
   "cell_type": "code",
   "execution_count": 17,
   "metadata": {
    "ExecuteTime": {
     "end_time": "2020-08-02T19:33:27.291493Z",
     "start_time": "2020-08-02T19:33:27.284062Z"
    }
   },
   "outputs": [],
   "source": [
    "final_soft = final_model.predict_proba(test_input_sc)\n",
    "final_hard = final_model.predict(test_input_sc)\n",
    "final_cm = confusion_matrix(test_y, final_hard)"
   ]
  },
  {
   "cell_type": "code",
   "execution_count": 18,
   "metadata": {
    "ExecuteTime": {
     "end_time": "2020-08-02T19:33:28.059945Z",
     "start_time": "2020-08-02T19:33:28.051306Z"
    }
   },
   "outputs": [
    {
     "data": {
      "text/plain": [
       "0.45390070921985815"
      ]
     },
     "execution_count": 18,
     "metadata": {},
     "output_type": "execute_result"
    }
   ],
   "source": [
    "f1_score(test_y, final_hard)"
   ]
  },
  {
   "cell_type": "code",
   "execution_count": 19,
   "metadata": {
    "ExecuteTime": {
     "end_time": "2020-08-02T19:33:28.998495Z",
     "start_time": "2020-08-02T19:33:28.993580Z"
    }
   },
   "outputs": [
    {
     "data": {
      "text/plain": [
       "array([[159, 106],\n",
       "       [ 48,  64]])"
      ]
     },
     "execution_count": 19,
     "metadata": {},
     "output_type": "execute_result"
    }
   ],
   "source": [
    "final_cm"
   ]
  },
  {
   "cell_type": "markdown",
   "metadata": {
    "ExecuteTime": {
     "end_time": "2020-08-02T17:13:09.423963Z",
     "start_time": "2020-08-02T17:13:09.419642Z"
    }
   },
   "source": [
    "# Apfel Output"
   ]
  },
  {
   "cell_type": "code",
   "execution_count": 20,
   "metadata": {
    "ExecuteTime": {
     "end_time": "2020-08-02T19:35:04.553434Z",
     "start_time": "2020-08-02T19:35:04.547979Z"
    }
   },
   "outputs": [],
   "source": [
    "import baseline_apfel as apfel"
   ]
  },
  {
   "cell_type": "code",
   "execution_count": 23,
   "metadata": {
    "ExecuteTime": {
     "end_time": "2020-08-02T19:36:34.358960Z",
     "start_time": "2020-08-02T19:36:34.348848Z"
    }
   },
   "outputs": [
    {
     "name": "stderr",
     "output_type": "stream",
     "text": [
      "/Users/paulchung/Dropbox (Personal)/Paul Working Folder/Home/Coding/Metis/github_backup/Project-3-Classifier/jpnb/baseline_apfel.py:6: SettingWithCopyWarning: \n",
      "A value is trying to be set on a copy of a slice from a DataFrame.\n",
      "Try using .loc[row_indexer,col_indexer] = value instead\n",
      "\n",
      "See the caveats in the documentation: https://pandas.pydata.org/pandas-docs/stable/user_guide/indexing.html#returning-a-view-versus-a-copy\n",
      "  apfel_output['apfel_prob'] = apfel_output['apfel'].map({0: .1, 1: .2, 2: .4, 3: .6, 4: .8})\n",
      "/Users/paulchung/Dropbox (Personal)/Paul Working Folder/Home/Coding/Metis/github_backup/Project-3-Classifier/jpnb/baseline_apfel.py:7: SettingWithCopyWarning: \n",
      "A value is trying to be set on a copy of a slice from a DataFrame.\n",
      "Try using .loc[row_indexer,col_indexer] = value instead\n",
      "\n",
      "See the caveats in the documentation: https://pandas.pydata.org/pandas-docs/stable/user_guide/indexing.html#returning-a-view-versus-a-copy\n",
      "  apfel_output['apfel_pred'] = apfel_output['apfel_prob'].apply(lambda x: True if x > 0.5 else False)\n",
      "/Users/paulchung/Dropbox (Personal)/Paul Working Folder/Home/Coding/Metis/github_backup/Project-3-Classifier/jpnb/baseline_apfel.py:8: SettingWithCopyWarning: \n",
      "A value is trying to be set on a copy of a slice from a DataFrame.\n",
      "Try using .loc[row_indexer,col_indexer] = value instead\n",
      "\n",
      "See the caveats in the documentation: https://pandas.pydata.org/pandas-docs/stable/user_guide/indexing.html#returning-a-view-versus-a-copy\n",
      "  apfel_output['actual'] = test_y\n"
     ]
    }
   ],
   "source": [
    "apfel_output = apfel.apfel_prob(test_x, test_y)"
   ]
  },
  {
   "cell_type": "code",
   "execution_count": 24,
   "metadata": {
    "ExecuteTime": {
     "end_time": "2020-08-02T19:36:38.581985Z",
     "start_time": "2020-08-02T19:36:38.574277Z"
    }
   },
   "outputs": [
    {
     "data": {
      "text/plain": [
       "array([[172,  93],\n",
       "       [ 49,  63]])"
      ]
     },
     "execution_count": 24,
     "metadata": {},
     "output_type": "execute_result"
    }
   ],
   "source": [
    "confusion_matrix(apfel_output['actual'], apfel_output['apfel_pred'])"
   ]
  },
  {
   "cell_type": "code",
   "execution_count": 26,
   "metadata": {
    "ExecuteTime": {
     "end_time": "2020-08-02T19:37:14.416787Z",
     "start_time": "2020-08-02T19:37:14.407914Z"
    }
   },
   "outputs": [
    {
     "data": {
      "text/plain": [
       "0.47014925373134325"
      ]
     },
     "execution_count": 26,
     "metadata": {},
     "output_type": "execute_result"
    }
   ],
   "source": [
    "f1_score(apfel_output['actual'], apfel_output['apfel_pred'])"
   ]
  },
  {
   "cell_type": "code",
   "execution_count": null,
   "metadata": {},
   "outputs": [],
   "source": []
  }
 ],
 "metadata": {
  "kernelspec": {
   "display_name": "Python [conda env:metis] *",
   "language": "python",
   "name": "conda-env-metis-py"
  },
  "language_info": {
   "codemirror_mode": {
    "name": "ipython",
    "version": 3
   },
   "file_extension": ".py",
   "mimetype": "text/x-python",
   "name": "python",
   "nbconvert_exporter": "python",
   "pygments_lexer": "ipython3",
   "version": "3.8.3"
  }
 },
 "nbformat": 4,
 "nbformat_minor": 4
}
