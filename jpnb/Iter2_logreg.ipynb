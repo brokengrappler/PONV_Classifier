{
 "cells": [
  {
   "cell_type": "code",
   "execution_count": 1,
   "metadata": {
    "ExecuteTime": {
     "end_time": "2020-08-02T20:26:35.813500Z",
     "start_time": "2020-08-02T20:26:33.713218Z"
    }
   },
   "outputs": [],
   "source": [
    "from sklearn.model_selection import train_test_split\n",
    "from sklearn.metrics import confusion_matrix, f1_score, roc_auc_score, roc_curve, precision_score, recall_score, accuracy_score\n",
    "from sklearn.linear_model import LogisticRegression\n",
    "from sklearn.feature_selection import RFE\n",
    "from sklearn.model_selection import GridSearchCV\n",
    "from sklearn.preprocessing import StandardScaler\n",
    "\n",
    "import pandas as pd\n",
    "import numpy as np\n",
    "import matplotlib.pyplot as plt\n",
    "import seaborn as sns\n",
    "sns.set()"
   ]
  },
  {
   "cell_type": "code",
   "execution_count": 2,
   "metadata": {
    "ExecuteTime": {
     "end_time": "2020-08-02T20:26:36.873222Z",
     "start_time": "2020-08-02T20:26:36.420769Z"
    }
   },
   "outputs": [],
   "source": [
    "analysis_df = pd.read_pickle('../pkl_files/analysis_df.pkl')\n",
    "analysis_x = analysis_df.drop(['ponv', 'vomiting24h'], axis=1)\n",
    "analysis_y = analysis_df['ponv']"
   ]
  },
  {
   "cell_type": "code",
   "execution_count": 3,
   "metadata": {
    "ExecuteTime": {
     "end_time": "2020-08-02T20:26:37.959797Z",
     "start_time": "2020-08-02T20:26:37.946990Z"
    }
   },
   "outputs": [],
   "source": [
    "# Extract Test Set\n",
    "tv_x, test_x, tv_y, test_y = train_test_split(analysis_x, analysis_y, test_size=.2, random_state=10)\n",
    "train_x, val_x, train_y, val_y = train_test_split(tv_x, tv_y, test_size=.25, random_state=444)"
   ]
  },
  {
   "cell_type": "code",
   "execution_count": 4,
   "metadata": {
    "ExecuteTime": {
     "end_time": "2020-08-02T20:26:39.167066Z",
     "start_time": "2020-08-02T20:26:39.043982Z"
    }
   },
   "outputs": [],
   "source": [
    "import log_reg_tuning as lrt\n",
    "import Extract_feats_PONV as efp"
   ]
  },
  {
   "cell_type": "code",
   "execution_count": 5,
   "metadata": {
    "ExecuteTime": {
     "end_time": "2020-08-02T20:26:39.944192Z",
     "start_time": "2020-08-02T20:26:39.922562Z"
    }
   },
   "outputs": [
    {
     "name": "stderr",
     "output_type": "stream",
     "text": [
      "/Users/paulchung/Dropbox (Personal)/Paul Working Folder/Home/Coding/Metis/github_backup/Project-3-Classifier/jpnb/Extract_feats_PONV.py:38: SettingWithCopyWarning: \n",
      "A value is trying to be set on a copy of a slice from a DataFrame.\n",
      "Try using .loc[row_indexer,col_indexer] = value instead\n",
      "\n",
      "See the caveats in the documentation: https://pandas.pydata.org/pandas-docs/stable/user_guide/indexing.html#returning-a-view-versus-a-copy\n",
      "  input_plus_FE['tot_drugs'] = input_plus_FE[['tramadol_dose_pacu', 'ketamine_dose',\n"
     ]
    }
   ],
   "source": [
    "train_input = efp.total_drug_interaction(analysis_df, tv_x)"
   ]
  },
  {
   "cell_type": "code",
   "execution_count": 6,
   "metadata": {
    "ExecuteTime": {
     "end_time": "2020-08-02T20:26:41.819030Z",
     "start_time": "2020-08-02T20:26:41.450610Z"
    }
   },
   "outputs": [
    {
     "name": "stdout",
     "output_type": "stream",
     "text": [
      "Avg. f1 score: 0.5057639987698459\n",
      "Avg. Roc/Auc score 0.6733120109923995\n"
     ]
    }
   ],
   "source": [
    "final_model = lrt.ponv_log_reg(train_input, tv_y) "
   ]
  },
  {
   "cell_type": "code",
   "execution_count": 7,
   "metadata": {
    "ExecuteTime": {
     "end_time": "2020-08-02T20:26:46.409611Z",
     "start_time": "2020-08-02T20:26:46.401793Z"
    }
   },
   "outputs": [
    {
     "data": {
      "text/plain": [
       "array([[ 0.24727741,  0.2882728 ,  0.32499507,  0.07249045,  0.02541421,\n",
       "        -0.03084377,  0.01111237,  0.11339319, -0.02723381, -0.10683753,\n",
       "        -0.06617614, -0.03931586,  0.02421246, -0.12860762, -0.02566572,\n",
       "        -0.10585641, -0.15603081, -0.12932098, -0.09833735, -0.0733003 ,\n",
       "        -0.14864069, -0.35290005,  0.01736669, -0.23260759, -0.01005653,\n",
       "        -0.10203835, -0.0145543 , -0.10424377, -0.03259067,  0.33480406,\n",
       "        -0.18539375, -0.25186567,  0.03588335, -0.12965906,  0.07879517,\n",
       "         0.17083813,  0.08407194, -0.02461652]])"
      ]
     },
     "execution_count": 7,
     "metadata": {},
     "output_type": "execute_result"
    }
   ],
   "source": [
    "final_model.coef_"
   ]
  },
  {
   "cell_type": "code",
   "execution_count": 8,
   "metadata": {
    "ExecuteTime": {
     "end_time": "2020-08-02T20:26:47.396086Z",
     "start_time": "2020-08-02T20:26:47.376208Z"
    }
   },
   "outputs": [
    {
     "name": "stderr",
     "output_type": "stream",
     "text": [
      "/Users/paulchung/Dropbox (Personal)/Paul Working Folder/Home/Coding/Metis/github_backup/Project-3-Classifier/jpnb/Extract_feats_PONV.py:38: SettingWithCopyWarning: \n",
      "A value is trying to be set on a copy of a slice from a DataFrame.\n",
      "Try using .loc[row_indexer,col_indexer] = value instead\n",
      "\n",
      "See the caveats in the documentation: https://pandas.pydata.org/pandas-docs/stable/user_guide/indexing.html#returning-a-view-versus-a-copy\n",
      "  input_plus_FE['tot_drugs'] = input_plus_FE[['tramadol_dose_pacu', 'ketamine_dose',\n"
     ]
    }
   ],
   "source": [
    "val_input = efp.total_drug_interaction(analysis_df, val_x)"
   ]
  },
  {
   "cell_type": "code",
   "execution_count": 9,
   "metadata": {
    "ExecuteTime": {
     "end_time": "2020-08-02T20:26:48.711664Z",
     "start_time": "2020-08-02T20:26:48.690232Z"
    }
   },
   "outputs": [],
   "source": [
    "val_x_sc = lrt.std_scale(train_input, val_input)[1]"
   ]
  },
  {
   "cell_type": "code",
   "execution_count": 10,
   "metadata": {
    "ExecuteTime": {
     "end_time": "2020-08-02T20:26:49.274233Z",
     "start_time": "2020-08-02T20:26:49.256624Z"
    }
   },
   "outputs": [
    {
     "data": {
      "text/plain": [
       "array([ True,  True,  True, False,  True, False, False, False, False,\n",
       "       False, False, False,  True, False,  True,  True, False,  True,\n",
       "        True,  True, False,  True, False,  True, False,  True, False,\n",
       "       False,  True, False, False,  True,  True,  True, False,  True,\n",
       "        True,  True, False,  True, False,  True,  True, False, False,\n",
       "        True, False,  True, False, False, False, False, False,  True,\n",
       "       False,  True,  True,  True,  True, False, False, False,  True,\n",
       "       False,  True,  True, False,  True, False, False,  True,  True,\n",
       "       False,  True, False, False,  True, False,  True, False, False,\n",
       "       False, False, False,  True,  True, False, False,  True,  True,\n",
       "       False, False, False,  True, False,  True,  True,  True,  True,\n",
       "        True,  True, False, False,  True, False,  True,  True,  True,\n",
       "       False,  True,  True,  True,  True,  True,  True, False,  True,\n",
       "       False, False,  True,  True, False, False,  True, False, False,\n",
       "       False,  True, False,  True, False, False,  True, False,  True,\n",
       "       False, False,  True,  True,  True, False,  True,  True,  True,\n",
       "        True, False,  True,  True, False,  True,  True, False,  True,\n",
       "        True, False, False,  True, False, False,  True, False, False,\n",
       "       False,  True,  True,  True,  True, False, False,  True,  True,\n",
       "        True, False,  True, False, False,  True, False, False,  True,\n",
       "        True,  True, False, False, False,  True,  True,  True, False,\n",
       "       False,  True,  True,  True, False, False, False, False,  True,\n",
       "        True,  True,  True,  True, False, False,  True,  True,  True,\n",
       "       False, False,  True, False, False, False,  True, False,  True,\n",
       "        True,  True,  True, False, False, False, False, False,  True,\n",
       "        True, False, False,  True,  True, False,  True,  True, False,\n",
       "        True,  True,  True, False, False,  True,  True,  True, False,\n",
       "        True,  True, False,  True,  True, False, False, False,  True,\n",
       "        True,  True, False, False,  True,  True,  True,  True,  True,\n",
       "        True,  True, False,  True, False, False,  True, False, False,\n",
       "       False,  True,  True,  True,  True, False, False, False,  True,\n",
       "       False, False,  True, False,  True, False,  True,  True,  True,\n",
       "       False,  True,  True,  True,  True,  True,  True, False,  True,\n",
       "       False,  True, False, False,  True,  True, False, False, False,\n",
       "        True, False,  True, False, False, False, False,  True, False,\n",
       "        True,  True, False, False, False,  True,  True,  True, False,\n",
       "       False, False,  True,  True,  True,  True,  True, False,  True,\n",
       "        True, False, False,  True, False, False, False,  True, False,\n",
       "       False, False, False,  True, False,  True, False,  True,  True,\n",
       "        True,  True,  True,  True,  True,  True, False,  True, False,\n",
       "        True,  True, False, False, False,  True,  True, False,  True,\n",
       "        True, False, False,  True, False,  True, False, False])"
      ]
     },
     "execution_count": 10,
     "metadata": {},
     "output_type": "execute_result"
    }
   ],
   "source": [
    "final_model.predict(val_x_sc)"
   ]
  },
  {
   "cell_type": "code",
   "execution_count": 11,
   "metadata": {
    "ExecuteTime": {
     "end_time": "2020-08-02T20:26:50.257891Z",
     "start_time": "2020-08-02T20:26:50.247481Z"
    }
   },
   "outputs": [
    {
     "data": {
      "text/plain": [
       "array([[150, 116],\n",
       "       [ 28,  83]])"
      ]
     },
     "execution_count": 11,
     "metadata": {},
     "output_type": "execute_result"
    }
   ],
   "source": [
    "confusion_matrix(val_y, final_model.predict(val_x_sc))\n"
   ]
  },
  {
   "cell_type": "code",
   "execution_count": 12,
   "metadata": {
    "ExecuteTime": {
     "end_time": "2020-08-02T20:26:53.179044Z",
     "start_time": "2020-08-02T20:26:53.169155Z"
    }
   },
   "outputs": [
    {
     "data": {
      "text/plain": [
       "0.5354838709677419"
      ]
     },
     "execution_count": 12,
     "metadata": {},
     "output_type": "execute_result"
    }
   ],
   "source": [
    "f1_score(val_y, final_model.predict(val_x_sc))"
   ]
  },
  {
   "cell_type": "code",
   "execution_count": 13,
   "metadata": {
    "ExecuteTime": {
     "end_time": "2020-08-02T20:27:01.682560Z",
     "start_time": "2020-08-02T20:26:59.138070Z"
    }
   },
   "outputs": [
    {
     "name": "stdout",
     "output_type": "stream",
     "text": [
      "Logistic Regression Model best F1 score 0.538 at prob decision threshold >= 0.498\n"
     ]
    },
    {
     "data": {
      "image/png": "[encoded data removed]",
      "text/plain": [
       "<Figure size 432x288 with 1 Axes>"
      ]
     },
     "metadata": {},
     "output_type": "display_data"
    }
   ],
   "source": [
    "thresh_ps = np.linspace(.10,.50,1000)\n",
    "model_val_probs = final_model.predict_proba(val_x_sc)[:,1] # positive class probs, same basic logistic model we fit in section 2 \n",
    "\n",
    "f1_scores, prec_scores, rec_scores, acc_scores = [], [], [], []\n",
    "for p in thresh_ps:\n",
    "    model_val_labels = model_val_probs >= p\n",
    "    f1_scores.append(f1_score(val_y, model_val_labels))    \n",
    "    prec_scores.append(precision_score(val_y, model_val_labels))\n",
    "    rec_scores.append(recall_score(val_y, model_val_labels))\n",
    "    acc_scores.append(accuracy_score(val_y, model_val_labels))\n",
    "    \n",
    "plt.plot(thresh_ps, f1_scores)\n",
    "plt.plot(thresh_ps, prec_scores)\n",
    "plt.plot(thresh_ps, rec_scores)\n",
    "plt.plot(thresh_ps, acc_scores)\n",
    "\n",
    "plt.title('Metric Scores vs. Positive Class Decision Probability Threshold')\n",
    "plt.legend(['F1','Precision','Recall','Accuracy'])\n",
    "plt.xlabel('P threshold')\n",
    "plt.ylabel('Metric score')\n",
    "\n",
    "best_f1_score = np.max(f1_scores) \n",
    "best_thresh_p = thresh_ps[np.argmax(f1_scores)]\n",
    "\n",
    "print('Logistic Regression Model best F1 score %.3f at prob decision threshold >= %.3f' \n",
    "      % (best_f1_score, best_thresh_p))"
   ]
  },
  {
   "cell_type": "code",
   "execution_count": 14,
   "metadata": {
    "ExecuteTime": {
     "end_time": "2020-08-02T20:27:01.690440Z",
     "start_time": "2020-08-02T20:27:01.685860Z"
    }
   },
   "outputs": [],
   "source": [
    "import pickle\n",
    "pickle.dump(final_model, open('lr_pickled_model.p', 'wb'))"
   ]
  },
  {
   "cell_type": "markdown",
   "metadata": {},
   "source": [
    "'solver':['liblinear', 'saga'],\\\n",
    "'penalty': ['l1', 'l2'],\\\n",
    "'tol': (1e-6, 100, 'log-uniform'),\\\n",
    "'C': (1e-6, 100, 'log-uniform'),\\\n",
    "'fit_intercept': [True, False]\\\n",
    "LogisticRegression(C=100, penalty='l1', solver='liblinear', tol=1e-06)"
   ]
  },
  {
   "cell_type": "markdown",
   "metadata": {},
   "source": [
    "# GridSearchCV hypertuning"
   ]
  },
  {
   "cell_type": "code",
   "execution_count": 15,
   "metadata": {
    "ExecuteTime": {
     "end_time": "2020-08-02T20:27:31.183016Z",
     "start_time": "2020-08-02T20:27:08.487514Z"
    }
   },
   "outputs": [
    {
     "name": "stdout",
     "output_type": "stream",
     "text": [
      "Fitting 10 folds for each of 72 candidates, totalling 720 fits\n"
     ]
    },
    {
     "name": "stderr",
     "output_type": "stream",
     "text": [
      "[Parallel(n_jobs=-1)]: Using backend LokyBackend with 8 concurrent workers.\n",
      "[Parallel(n_jobs=-1)]: Done  34 tasks      | elapsed:    2.3s\n",
      "[Parallel(n_jobs=-1)]: Done 720 out of 720 | elapsed:   22.7s finished\n"
     ]
    }
   ],
   "source": [
    "param_grid = {\n",
    "    'solver':['liblinear', 'saga'],\n",
    "    'penalty': ['l1', 'l2'],\n",
    "    'tol': (1e-6, 100, 'log-uniform'),\n",
    "    'C': (1e-6, 100, 'log-uniform'),\n",
    "    'fit_intercept': [True, False]\n",
    "}\n",
    "clf = GridSearchCV(final_model, param_grid=param_grid, cv=10, verbose=True, n_jobs=-1)\n",
    "best_clf = clf.fit(train_input, tv_y)"
   ]
  },
  {
   "cell_type": "code",
   "execution_count": 16,
   "metadata": {
    "ExecuteTime": {
     "end_time": "2020-08-02T20:27:35.578918Z",
     "start_time": "2020-08-02T20:27:35.573048Z"
    }
   },
   "outputs": [
    {
     "data": {
      "text/plain": [
       "LogisticRegression(C=1e-06, class_weight={0: 1, 1: 2}, max_iter=1000,\n",
       "                   penalty='l1', solver='liblinear', tol=100)"
      ]
     },
     "execution_count": 16,
     "metadata": {},
     "output_type": "execute_result"
    }
   ],
   "source": [
    "best_clf.best_estimator_"
   ]
  },
  {
   "cell_type": "code",
   "execution_count": 17,
   "metadata": {
    "ExecuteTime": {
     "end_time": "2020-08-02T20:27:50.257722Z",
     "start_time": "2020-08-02T20:27:50.251653Z"
    },
    "scrolled": true
   },
   "outputs": [
    {
     "data": {
      "text/plain": [
       "{'gender_code': 0.24727740990286226,\n",
       " 'non_smoker': 0.28827279728232363,\n",
       " 'previous_ponv': 0.32499507213472517,\n",
       " 'postoperative_opioids': 0.07249045430982205,\n",
       " 'pancreatectomy': 0.025414207147910203,\n",
       " 'hysterectomy_vlp': -0.030843768142270734,\n",
       " 'anexectomy_ovariectomy': 0.011112367527613817,\n",
       " 'cystectomy': 0.11339319106953816,\n",
       " 'extensive_lymphadenectomy': -0.027233807915637127,\n",
       " 'plastic': -0.10683752998795612,\n",
       " 'cytoreduction': -0.06617614215775872,\n",
       " 'hysterectomy': -0.03931585976115815,\n",
       " 'nephrectomy': 0.02421246059396368,\n",
       " 'mastectomy': -0.12860762479045323,\n",
       " 'thoracic': -0.025665724737803007,\n",
       " 'exploratory_laparotomy': -0.10585640847219657,\n",
       " 'hepatectomy': -0.15603081479788802,\n",
       " 'prostatectomy': -0.1293209842478553,\n",
       " 'breast_lumpectomy': -0.09833735134163599,\n",
       " 'spine_surgery': -0.07330030353097804,\n",
       " 'head_neck': -0.1486406855706709,\n",
       " 'orthopedic': -0.35290005176868705,\n",
       " 'fentanil_mcg': 0.017366691507636048,\n",
       " 'sufentanil_mcg': -0.23260758535964152,\n",
       " 'tramadol_dose_pacu': -0.01005653478685263,\n",
       " 'ketamine_dose': -0.10203834526119786,\n",
       " 'intraoperative_morphine_dose': -0.01455429653570032,\n",
       " 'previous_chemotherapy': -0.10424376979723589,\n",
       " 'how_many_months_ago_chemotherapy': -0.032590670308416815,\n",
       " 'post_chemotherapy_nausea': 0.33480405908509053,\n",
       " 'post_chemotherapy_vomiting': -0.18539375423420848,\n",
       " 'age': -0.25186567324679066,\n",
       " 'intraoperative_ondansetron_dose': 0.03588334587232365,\n",
       " 'dexamethasone_dose': -0.12965906327250112,\n",
       " 'intraoperative_dimenidrate_dose': 0.07879516960177504,\n",
       " 'metoclopramide_dose': 0.17083813488035274,\n",
       " 'droperidol_dose': 0.08407194268861659,\n",
       " 'tot_drugs': -0.024616518580099746}"
      ]
     },
     "execution_count": 17,
     "metadata": {},
     "output_type": "execute_result"
    }
   ],
   "source": [
    "dict(zip(train_input.columns,final_model.coef_[0]))"
   ]
  },
  {
   "cell_type": "markdown",
   "metadata": {},
   "source": [
    "# Predict on Test"
   ]
  },
  {
   "cell_type": "code",
   "execution_count": 18,
   "metadata": {
    "ExecuteTime": {
     "end_time": "2020-08-02T20:27:53.228412Z",
     "start_time": "2020-08-02T20:27:53.206805Z"
    }
   },
   "outputs": [
    {
     "name": "stderr",
     "output_type": "stream",
     "text": [
      "/Users/paulchung/Dropbox (Personal)/Paul Working Folder/Home/Coding/Metis/github_backup/Project-3-Classifier/jpnb/Extract_feats_PONV.py:38: SettingWithCopyWarning: \n",
      "A value is trying to be set on a copy of a slice from a DataFrame.\n",
      "Try using .loc[row_indexer,col_indexer] = value instead\n",
      "\n",
      "See the caveats in the documentation: https://pandas.pydata.org/pandas-docs/stable/user_guide/indexing.html#returning-a-view-versus-a-copy\n",
      "  input_plus_FE['tot_drugs'] = input_plus_FE[['tramadol_dose_pacu', 'ketamine_dose',\n"
     ]
    }
   ],
   "source": [
    "test_input = efp.total_drug_interaction(analysis_df, test_x)"
   ]
  },
  {
   "cell_type": "code",
   "execution_count": 19,
   "metadata": {
    "ExecuteTime": {
     "end_time": "2020-08-02T20:27:54.301440Z",
     "start_time": "2020-08-02T20:27:54.276050Z"
    }
   },
   "outputs": [],
   "source": [
    "test_input_sc = lrt.std_scale(train_input, test_input)[1]"
   ]
  },
  {
   "cell_type": "code",
   "execution_count": 20,
   "metadata": {
    "ExecuteTime": {
     "end_time": "2020-08-02T20:27:55.552729Z",
     "start_time": "2020-08-02T20:27:55.545147Z"
    }
   },
   "outputs": [],
   "source": [
    "final_soft = final_model.predict_proba(test_input_sc)\n",
    "final_hard = final_model.predict(test_input_sc)\n",
    "final_cm = confusion_matrix(test_y, final_hard)"
   ]
  },
  {
   "cell_type": "code",
   "execution_count": 21,
   "metadata": {
    "ExecuteTime": {
     "end_time": "2020-08-02T20:27:56.781943Z",
     "start_time": "2020-08-02T20:27:56.773783Z"
    }
   },
   "outputs": [
    {
     "data": {
      "text/plain": [
       "0.46416382252559724"
      ]
     },
     "execution_count": 21,
     "metadata": {},
     "output_type": "execute_result"
    }
   ],
   "source": [
    "f1_score(test_y, final_hard)"
   ]
  },
  {
   "cell_type": "code",
   "execution_count": 22,
   "metadata": {
    "ExecuteTime": {
     "end_time": "2020-08-02T20:27:58.115218Z",
     "start_time": "2020-08-02T20:27:58.109790Z"
    }
   },
   "outputs": [
    {
     "data": {
      "text/plain": [
       "array([[152, 113],\n",
       "       [ 44,  68]])"
      ]
     },
     "execution_count": 22,
     "metadata": {},
     "output_type": "execute_result"
    }
   ],
   "source": [
    "final_cm"
   ]
  },
  {
   "cell_type": "markdown",
   "metadata": {
    "ExecuteTime": {
     "end_time": "2020-08-02T17:13:09.423963Z",
     "start_time": "2020-08-02T17:13:09.419642Z"
    }
   },
   "source": [
    "# Apfel Output"
   ]
  },
  {
   "cell_type": "code",
   "execution_count": 23,
   "metadata": {
    "ExecuteTime": {
     "end_time": "2020-08-02T20:28:02.834019Z",
     "start_time": "2020-08-02T20:28:02.828405Z"
    }
   },
   "outputs": [],
   "source": [
    "import baseline_apfel as apfel"
   ]
  },
  {
   "cell_type": "code",
   "execution_count": 24,
   "metadata": {
    "ExecuteTime": {
     "end_time": "2020-08-02T20:28:03.630279Z",
     "start_time": "2020-08-02T20:28:03.616950Z"
    }
   },
   "outputs": [
    {
     "name": "stderr",
     "output_type": "stream",
     "text": [
      "/Users/paulchung/Dropbox (Personal)/Paul Working Folder/Home/Coding/Metis/github_backup/Project-3-Classifier/jpnb/baseline_apfel.py:6: SettingWithCopyWarning: \n",
      "A value is trying to be set on a copy of a slice from a DataFrame.\n",
      "Try using .loc[row_indexer,col_indexer] = value instead\n",
      "\n",
      "See the caveats in the documentation: https://pandas.pydata.org/pandas-docs/stable/user_guide/indexing.html#returning-a-view-versus-a-copy\n",
      "  apfel_output['apfel_prob'] = apfel_output['apfel'].map({0: .1, 1: .2, 2: .4, 3: .6, 4: .8})\n",
      "/Users/paulchung/Dropbox (Personal)/Paul Working Folder/Home/Coding/Metis/github_backup/Project-3-Classifier/jpnb/baseline_apfel.py:7: SettingWithCopyWarning: \n",
      "A value is trying to be set on a copy of a slice from a DataFrame.\n",
      "Try using .loc[row_indexer,col_indexer] = value instead\n",
      "\n",
      "See the caveats in the documentation: https://pandas.pydata.org/pandas-docs/stable/user_guide/indexing.html#returning-a-view-versus-a-copy\n",
      "  apfel_output['apfel_pred'] = apfel_output['apfel_prob'].apply(lambda x: True if x > 0.5 else False)\n",
      "/Users/paulchung/Dropbox (Personal)/Paul Working Folder/Home/Coding/Metis/github_backup/Project-3-Classifier/jpnb/baseline_apfel.py:8: SettingWithCopyWarning: \n",
      "A value is trying to be set on a copy of a slice from a DataFrame.\n",
      "Try using .loc[row_indexer,col_indexer] = value instead\n",
      "\n",
      "See the caveats in the documentation: https://pandas.pydata.org/pandas-docs/stable/user_guide/indexing.html#returning-a-view-versus-a-copy\n",
      "  apfel_output['actual'] = test_y\n"
     ]
    }
   ],
   "source": [
    "apfel_output = apfel.apfel_prob(test_x, test_y)"
   ]
  },
  {
   "cell_type": "code",
   "execution_count": 25,
   "metadata": {
    "ExecuteTime": {
     "end_time": "2020-08-02T20:28:04.475059Z",
     "start_time": "2020-08-02T20:28:04.468801Z"
    }
   },
   "outputs": [
    {
     "data": {
      "text/plain": [
       "array([[172,  93],\n",
       "       [ 49,  63]])"
      ]
     },
     "execution_count": 25,
     "metadata": {},
     "output_type": "execute_result"
    }
   ],
   "source": [
    "confusion_matrix(apfel_output['actual'], apfel_output['apfel_pred'])"
   ]
  },
  {
   "cell_type": "code",
   "execution_count": 26,
   "metadata": {
    "ExecuteTime": {
     "end_time": "2020-08-02T20:28:05.401299Z",
     "start_time": "2020-08-02T20:28:05.392780Z"
    }
   },
   "outputs": [
    {
     "data": {
      "text/plain": [
       "0.47014925373134325"
      ]
     },
     "execution_count": 26,
     "metadata": {},
     "output_type": "execute_result"
    }
   ],
   "source": [
    "f1_score(apfel_output['actual'], apfel_output['apfel_pred'])"
   ]
  },
  {
   "cell_type": "code",
   "execution_count": null,
   "metadata": {},
   "outputs": [],
   "source": []
  }
 ],
 "metadata": {
  "kernelspec": {
   "display_name": "Python [conda env:metis] *",
   "language": "python",
   "name": "conda-env-metis-py"
  },
  "language_info": {
   "codemirror_mode": {
    "name": "ipython",
    "version": 3
   },
   "file_extension": ".py",
   "mimetype": "text/x-python",
   "name": "python",
   "nbconvert_exporter": "python",
   "pygments_lexer": "ipython3",
   "version": "3.8.3"
  }
 },
 "nbformat": 4,
 "nbformat_minor": 4
}
