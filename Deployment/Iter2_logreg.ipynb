{
 "cells": [
  {
   "cell_type": "code",
   "execution_count": 1,
   "metadata": {
    "ExecuteTime": {
     "end_time": "2020-08-04T18:10:18.293648Z",
     "start_time": "2020-08-04T18:10:16.564157Z"
    }
   },
   "outputs": [],
   "source": [
    "from sklearn.model_selection import train_test_split\n",
    "from sklearn.metrics import confusion_matrix, f1_score, roc_auc_score, roc_curve, precision_score,\\\n",
    "recall_score, precision_recall_curve, accuracy_score\n",
    "from sklearn.linear_model import LogisticRegression\n",
    "from sklearn.feature_selection import RFE\n",
    "from sklearn.model_selection import GridSearchCV\n",
    "from sklearn.preprocessing import StandardScaler\n",
    "\n",
    "import pandas as pd\n",
    "import numpy as np\n",
    "import matplotlib.pyplot as plt\n",
    "import seaborn as sns\n",
    "sns.set()"
   ]
  },
  {
   "cell_type": "code",
   "execution_count": 2,
   "metadata": {
    "ExecuteTime": {
     "end_time": "2020-08-04T18:10:19.521376Z",
     "start_time": "2020-08-04T18:10:19.174898Z"
    }
   },
   "outputs": [],
   "source": [
    "analysis_df = pd.read_pickle('../pkl_files/analysis_df.pkl')\n",
    "analysis_x = analysis_df.drop(['ponv', 'vomiting24h'], axis=1)\n",
    "analysis_y = analysis_df['ponv']"
   ]
  },
  {
   "cell_type": "code",
   "execution_count": 3,
   "metadata": {
    "ExecuteTime": {
     "end_time": "2020-08-04T18:10:20.349652Z",
     "start_time": "2020-08-04T18:10:20.338967Z"
    }
   },
   "outputs": [],
   "source": [
    "# Extract Test Set\n",
    "tv_x, test_x, tv_y, test_y = train_test_split(analysis_x, analysis_y, test_size=.2, random_state=10)\n",
    "train_x, val_x, train_y, val_y = train_test_split(tv_x, tv_y, test_size=.25, random_state=444)"
   ]
  },
  {
   "cell_type": "code",
   "execution_count": 4,
   "metadata": {
    "ExecuteTime": {
     "end_time": "2020-08-04T18:10:20.999937Z",
     "start_time": "2020-08-04T18:10:20.890990Z"
    }
   },
   "outputs": [],
   "source": [
    "import log_reg_tuning as lrt\n",
    "import Extract_feats_PONV as efp\n",
    "import Oversample"
   ]
  },
  {
   "cell_type": "code",
   "execution_count": 5,
   "metadata": {
    "ExecuteTime": {
     "end_time": "2020-08-04T18:10:22.065099Z",
     "start_time": "2020-08-04T18:10:21.993888Z"
    }
   },
   "outputs": [],
   "source": [
    "# train-val set extract\n",
    "tv_fin_x =  efp.extract_features(analysis_df, tv_x)\n",
    "test_fin_x = efp.extract_features(analysis_df, test_x)"
   ]
  },
  {
   "cell_type": "code",
   "execution_count": 6,
   "metadata": {
    "ExecuteTime": {
     "end_time": "2020-08-04T18:10:26.323165Z",
     "start_time": "2020-08-04T18:10:25.846618Z"
    }
   },
   "outputs": [
    {
     "name": "stdout",
     "output_type": "stream",
     "text": [
      "Avg. f1 score: 0.49060999462438615\n",
      "Avg. Roc/Auc score 0.6628837089521642\n"
     ]
    }
   ],
   "source": [
    "# # Testing based on train val - this is garbage\n",
    "test_model = lrt.ponv_log_reg(tv_fin_x, tv_y)"
   ]
  },
  {
   "cell_type": "markdown",
   "metadata": {},
   "source": [
    "# Predict Test"
   ]
  },
  {
   "cell_type": "code",
   "execution_count": 7,
   "metadata": {
    "ExecuteTime": {
     "end_time": "2020-08-04T18:10:32.142824Z",
     "start_time": "2020-08-04T18:10:32.108131Z"
    }
   },
   "outputs": [],
   "source": [
    "# extract selected train and test features\n",
    "os_tv_x, os_tv_y = Oversample.return_oversample(2, tv_fin_x, tv_y)\n",
    "#scale features\n",
    "train_input_sc, test_input_sc = lrt.std_scale(os_tv_x, test_fin_x)"
   ]
  },
  {
   "cell_type": "code",
   "execution_count": 8,
   "metadata": {
    "ExecuteTime": {
     "end_time": "2020-08-04T18:10:33.394175Z",
     "start_time": "2020-08-04T18:10:33.377085Z"
    }
   },
   "outputs": [
    {
     "data": {
      "text/plain": [
       "LogisticRegression(C=100, fit_intercept=False, solver='liblinear', tol=1e-06)"
      ]
     },
     "execution_count": 8,
     "metadata": {},
     "output_type": "execute_result"
    }
   ],
   "source": [
    "#final_model = LogisticRegression(C=1000, class_weight={0 : 1, 1 : 2}, penalty='l1',\n",
    "#                            solver='liblinear', tol=1e-6, max_iter=1000)\n",
    "final_model = LogisticRegression(C=100, fit_intercept=False, solver='liblinear', tol=1e-06)\n",
    "final_model.fit(train_input_sc, os_tv_y)"
   ]
  },
  {
   "cell_type": "code",
   "execution_count": 9,
   "metadata": {
    "ExecuteTime": {
     "end_time": "2020-08-04T18:10:34.677108Z",
     "start_time": "2020-08-04T18:10:34.673926Z"
    }
   },
   "outputs": [],
   "source": [
    "import pickle\n",
    "pickle.dump(final_model, open('lr_final_model.p', 'wb'))"
   ]
  },
  {
   "cell_type": "code",
   "execution_count": 10,
   "metadata": {
    "ExecuteTime": {
     "end_time": "2020-08-04T18:10:35.888288Z",
     "start_time": "2020-08-04T18:10:35.883606Z"
    }
   },
   "outputs": [
    {
     "data": {
      "text/plain": [
       "{'gender_code': 0.3061267946437948,\n",
       " 'non_smoker': 0.20684740944924315,\n",
       " 'previous_ponv': 0.3436313421673297,\n",
       " 'postoperative_opioids': 0.11600011941556439,\n",
       " 'pancreatectomy': 0.14825075538391128,\n",
       " 'hysterectomy_vlp': -0.008652117938347845,\n",
       " 'anexectomy_ovariectomy': 0.02558250665703895,\n",
       " 'cystectomy': 0.144732948527601,\n",
       " 'extensive_lymphadenectomy': 0.017992995184003498,\n",
       " 'plastic': -0.09218853966052303,\n",
       " 'cytoreduction': -0.0022803982489848387,\n",
       " 'hysterectomy': -0.05665833847764438,\n",
       " 'nephrectomy': 0.07189551484129768,\n",
       " 'mastectomy': -0.11618673063087556,\n",
       " 'gastrointestinal': 0.05341099123294996,\n",
       " 'thoracic': 0.008258570913280696,\n",
       " 'exploratory_laparotomy': -0.053225520836680716,\n",
       " 'hepatectomy': -0.09686997071333091,\n",
       " 'prostatectomy': 0.01922121227663952,\n",
       " 'breast_lumpectomy': -0.032103394221251004,\n",
       " 'spine_surgery': -0.04652695045543955,\n",
       " 'head_neck': -0.08371654480522876,\n",
       " 'orthopedic': -0.244751618726024,\n",
       " 'fentanil_mcg': 0.062428198723168425,\n",
       " 'sufentanil_mcg': -0.1112313672849018,\n",
       " 'tramadol_dose_pacu': -0.05173706295061803,\n",
       " 'ketamine_dose': -0.16030580532884597,\n",
       " 'intraoperative_morphine_dose': -0.03100054867629567,\n",
       " 'previous_chemotherapy': -0.1738886177035626,\n",
       " 'how_many_months_ago_chemotherapy': -0.0545342669911177,\n",
       " 'post_chemotherapy_nausea': 0.4093944406374663,\n",
       " 'post_chemotherapy_vomiting': -0.11388520868033199,\n",
       " 'age': -0.2368850590606591,\n",
       " 'tot_drugs': 0.1566927621786783}"
      ]
     },
     "execution_count": 10,
     "metadata": {},
     "output_type": "execute_result"
    }
   ],
   "source": [
    "dict(zip(tv_fin_x.columns,final_model.coef_[0]))"
   ]
  },
  {
   "cell_type": "markdown",
   "metadata": {},
   "source": [
    "# Predict on Test"
   ]
  },
  {
   "cell_type": "code",
   "execution_count": 11,
   "metadata": {
    "ExecuteTime": {
     "end_time": "2020-08-04T18:10:41.532079Z",
     "start_time": "2020-08-04T18:10:41.526204Z"
    }
   },
   "outputs": [],
   "source": [
    "final_soft = final_model.predict_proba(test_input_sc)\n",
    "final_hard = (final_model.predict_proba(test_input_sc)[:,1] > .45)\n",
    "final_cm = confusion_matrix(test_y, final_hard)"
   ]
  },
  {
   "cell_type": "code",
   "execution_count": 12,
   "metadata": {
    "ExecuteTime": {
     "end_time": "2020-08-04T18:10:42.317408Z",
     "start_time": "2020-08-04T18:10:42.313090Z"
    }
   },
   "outputs": [
    {
     "data": {
      "text/plain": [
       "array([[150, 115],\n",
       "       [ 36,  76]])"
      ]
     },
     "execution_count": 12,
     "metadata": {},
     "output_type": "execute_result"
    }
   ],
   "source": [
    "final_cm"
   ]
  },
  {
   "cell_type": "code",
   "execution_count": 13,
   "metadata": {
    "ExecuteTime": {
     "end_time": "2020-08-04T18:10:43.107954Z",
     "start_time": "2020-08-04T18:10:43.101547Z"
    }
   },
   "outputs": [
    {
     "name": "stdout",
     "output_type": "stream",
     "text": [
      "ROC/AUC: 0.6223045822102425\n",
      "F1: 0.5016501650165017\n"
     ]
    }
   ],
   "source": [
    "print(f'ROC/AUC: {roc_auc_score(test_y, final_hard)}')\n",
    "print(f'F1: {f1_score(test_y, final_hard)}')"
   ]
  },
  {
   "cell_type": "code",
   "execution_count": 14,
   "metadata": {
    "ExecuteTime": {
     "end_time": "2020-08-04T18:10:48.006693Z",
     "start_time": "2020-08-04T18:10:44.005463Z"
    }
   },
   "outputs": [
    {
     "name": "stdout",
     "output_type": "stream",
     "text": [
      "Logistic Regression Model best F1 score 0.674 at prob decision threshold >= 0.354\n"
     ]
    },
    {
     "data": {
      "image/png": "[encoded data removed]",
      "text/plain": [
       "<Figure size 432x288 with 1 Axes>"
      ]
     },
     "metadata": {},
     "output_type": "display_data"
    }
   ],
   "source": [
    "thresh_ps = np.linspace(.10,.50,1000)\n",
    "model_val_probs = final_model.predict_proba(train_input_sc)[:,1]\n",
    "\n",
    "f1_scores, prec_scores, rec_scores, acc_scores = [], [], [], []\n",
    "for p in thresh_ps:\n",
    "    model_val_labels = model_val_probs >= p\n",
    "    f1_scores.append(f1_score(os_tv_y, model_val_labels))    \n",
    "    prec_scores.append(precision_score(os_tv_y, model_val_labels))\n",
    "    rec_scores.append(recall_score(os_tv_y, model_val_labels))\n",
    "    acc_scores.append(accuracy_score(os_tv_y, model_val_labels))\n",
    "    \n",
    "plt.plot(thresh_ps, f1_scores)\n",
    "plt.plot(thresh_ps, prec_scores)\n",
    "plt.plot(thresh_ps, rec_scores)\n",
    "plt.plot(thresh_ps, acc_scores)\n",
    "\n",
    "plt.title('Metric Scores vs. Positive Class Decision Probability Threshold')\n",
    "plt.legend(['F1','Precision','Recall','Accuracy'])\n",
    "plt.xlabel('P threshold')\n",
    "plt.ylabel('Metric score')\n",
    "\n",
    "best_f1_score = np.max(f1_scores) \n",
    "best_thresh_p = thresh_ps[np.argmax(f1_scores)]\n",
    "\n",
    "print('Logistic Regression Model best F1 score %.3f at prob decision threshold >= %.3f' \n",
    "      % (best_f1_score, best_thresh_p))"
   ]
  },
  {
   "cell_type": "markdown",
   "metadata": {},
   "source": [
    "'solver':['liblinear', 'saga'],\\\n",
    "'penalty': ['l1', 'l2'],\\\n",
    "'tol': (1e-6, 100, 'log-uniform'),\\\n",
    "'C': (1e-6, 100, 'log-uniform'),\\\n",
    "'fit_intercept': [True, False]\\\n",
    "LogisticRegression(C=100, penalty='l1', solver='liblinear', tol=1e-06)"
   ]
  },
  {
   "cell_type": "code",
   "execution_count": 15,
   "metadata": {
    "ExecuteTime": {
     "end_time": "2020-08-04T18:10:53.467522Z",
     "start_time": "2020-08-04T18:10:53.199092Z"
    }
   },
   "outputs": [
    {
     "data": {
      "text/plain": [
       "<matplotlib.legend.Legend at 0x7fe65fa980d0>"
      ]
     },
     "execution_count": 15,
     "metadata": {},
     "output_type": "execute_result"
    },
    {
     "data": {
      "image/png": "[encoded data removed]",
      "text/plain": [
       "<Figure size 480x320 with 1 Axes>"
      ]
     },
     "metadata": {},
     "output_type": "display_data"
    }
   ],
   "source": [
    "precision_curve, recall_curve, threshold_curve = precision_recall_curve(test_y, \n",
    "                                                                        final_model.predict_proba(test_input_sc)[:,1] )\n",
    "\n",
    "plt.figure(dpi=80)\n",
    "plt.plot(threshold_curve, precision_curve[1:],label='precision')\n",
    "plt.plot(threshold_curve, recall_curve[1:], label='recall')\n",
    "plt.legend()"
   ]
  },
  {
   "cell_type": "markdown",
   "metadata": {},
   "source": [
    "# GridSearchCV hypertuning"
   ]
  },
  {
   "cell_type": "code",
   "execution_count": null,
   "metadata": {
    "ExecuteTime": {
     "end_time": "2020-08-04T17:59:11.809665Z",
     "start_time": "2020-08-04T17:59:08.013229Z"
    }
   },
   "outputs": [],
   "source": [
    "# GridSearch for logreg\n",
    "param_grid = {\n",
    "    'solver':['liblinear', 'saga'],\n",
    "    'penalty': ['l1', 'l2'],\n",
    "    'tol': (1e-6, 100, 'log-uniform'),\n",
    "    'C': (1e-6, 100, 'log-uniform'),\n",
    "    'fit_intercept': [True, False]\n",
    "}\n",
    "clf = GridSearchCV(test_model, param_grid=param_grid, cv=10, scoring='roc_auc', verbose=True, n_jobs=-1)\n",
    "best_clf = clf.fit(tv_fin_x, tv_y)"
   ]
  },
  {
   "cell_type": "code",
   "execution_count": null,
   "metadata": {
    "ExecuteTime": {
     "end_time": "2020-08-04T17:59:15.233650Z",
     "start_time": "2020-08-04T17:59:15.227544Z"
    }
   },
   "outputs": [],
   "source": [
    "best_clf.best_estimator_"
   ]
  },
  {
   "cell_type": "markdown",
   "metadata": {
    "ExecuteTime": {
     "end_time": "2020-08-02T17:13:09.423963Z",
     "start_time": "2020-08-02T17:13:09.419642Z"
    }
   },
   "source": [
    "# Apfel Output"
   ]
  },
  {
   "cell_type": "code",
   "execution_count": 27,
   "metadata": {
    "ExecuteTime": {
     "end_time": "2020-08-04T18:20:21.310512Z",
     "start_time": "2020-08-04T18:20:21.298231Z"
    }
   },
   "outputs": [],
   "source": [
    "import baseline_apfel as apfel"
   ]
  },
  {
   "cell_type": "code",
   "execution_count": 28,
   "metadata": {
    "ExecuteTime": {
     "end_time": "2020-08-04T18:20:21.891687Z",
     "start_time": "2020-08-04T18:20:21.874352Z"
    }
   },
   "outputs": [
    {
     "name": "stderr",
     "output_type": "stream",
     "text": [
      "/Users/paulchung/Dropbox (Personal)/Paul Working Folder/Home/Coding/Metis/github_backup/Project-3-Classifier/Deployment/baseline_apfel.py:6: SettingWithCopyWarning: \n",
      "A value is trying to be set on a copy of a slice from a DataFrame.\n",
      "Try using .loc[row_indexer,col_indexer] = value instead\n",
      "\n",
      "See the caveats in the documentation: https://pandas.pydata.org/pandas-docs/stable/user_guide/indexing.html#returning-a-view-versus-a-copy\n",
      "  apfel_output['apfel_prob'] = apfel_output['apfel'].map({0: .1, 1: .2, 2: .4, 3: .6, 4: .8})\n",
      "/Users/paulchung/Dropbox (Personal)/Paul Working Folder/Home/Coding/Metis/github_backup/Project-3-Classifier/Deployment/baseline_apfel.py:7: SettingWithCopyWarning: \n",
      "A value is trying to be set on a copy of a slice from a DataFrame.\n",
      "Try using .loc[row_indexer,col_indexer] = value instead\n",
      "\n",
      "See the caveats in the documentation: https://pandas.pydata.org/pandas-docs/stable/user_guide/indexing.html#returning-a-view-versus-a-copy\n",
      "  apfel_output['apfel_pred'] = apfel_output['apfel_prob'].apply(lambda x: True if x > 0.5 else False)\n",
      "/Users/paulchung/Dropbox (Personal)/Paul Working Folder/Home/Coding/Metis/github_backup/Project-3-Classifier/Deployment/baseline_apfel.py:8: SettingWithCopyWarning: \n",
      "A value is trying to be set on a copy of a slice from a DataFrame.\n",
      "Try using .loc[row_indexer,col_indexer] = value instead\n",
      "\n",
      "See the caveats in the documentation: https://pandas.pydata.org/pandas-docs/stable/user_guide/indexing.html#returning-a-view-versus-a-copy\n",
      "  apfel_output['actual'] = test_y\n"
     ]
    }
   ],
   "source": [
    "apfel_output = apfel.apfel_prob(test_x, test_y)"
   ]
  },
  {
   "cell_type": "code",
   "execution_count": 29,
   "metadata": {
    "ExecuteTime": {
     "end_time": "2020-08-04T18:20:22.459925Z",
     "start_time": "2020-08-04T18:20:22.447614Z"
    }
   },
   "outputs": [
    {
     "data": {
      "text/plain": [
       "array([[172,  93],\n",
       "       [ 49,  63]])"
      ]
     },
     "execution_count": 29,
     "metadata": {},
     "output_type": "execute_result"
    }
   ],
   "source": [
    "apfel_cm = confusion_matrix(apfel_output['actual'], apfel_output['apfel_pred'])\n",
    "apfel_cm"
   ]
  },
  {
   "cell_type": "code",
   "execution_count": 30,
   "metadata": {
    "ExecuteTime": {
     "end_time": "2020-08-04T18:20:23.205288Z",
     "start_time": "2020-08-04T18:20:23.195625Z"
    }
   },
   "outputs": [
    {
     "data": {
      "text/plain": [
       "0.47014925373134325"
      ]
     },
     "execution_count": 30,
     "metadata": {},
     "output_type": "execute_result"
    }
   ],
   "source": [
    "f1_score(apfel_output['actual'], apfel_output['apfel_pred'])"
   ]
  },
  {
   "cell_type": "code",
   "execution_count": 132,
   "metadata": {
    "ExecuteTime": {
     "end_time": "2020-08-05T01:51:57.055966Z",
     "start_time": "2020-08-05T01:51:56.814175Z"
    }
   },
   "outputs": [
    {
     "data": {
      "text/plain": [
       "0.6057783018867925"
      ]
     },
     "execution_count": 132,
     "metadata": {},
     "output_type": "execute_result"
    }
   ],
   "source": [
    "roc_auc_score(apfel_output['actual'], apfel_output['apfel_pred'])"
   ]
  },
  {
   "cell_type": "markdown",
   "metadata": {},
   "source": [
    "# Output Data for Visualizations"
   ]
  },
  {
   "cell_type": "code",
   "execution_count": 88,
   "metadata": {
    "ExecuteTime": {
     "end_time": "2020-08-04T22:55:35.176716Z",
     "start_time": "2020-08-04T22:55:35.171158Z"
    }
   },
   "outputs": [],
   "source": [
    "patientid = np.array(test_x['patientid'])"
   ]
  },
  {
   "cell_type": "code",
   "execution_count": 95,
   "metadata": {
    "ExecuteTime": {
     "end_time": "2020-08-04T22:58:20.458185Z",
     "start_time": "2020-08-04T22:58:18.602860Z"
    }
   },
   "outputs": [],
   "source": [
    "final_summary = pd.DataFrame([patientid,final_hard,final_soft[:,1]]).T"
   ]
  },
  {
   "cell_type": "code",
   "execution_count": 99,
   "metadata": {
    "ExecuteTime": {
     "end_time": "2020-08-04T22:59:11.718119Z",
     "start_time": "2020-08-04T22:59:11.710294Z"
    }
   },
   "outputs": [],
   "source": [
    "finaly_summary = final_summary.rename({0:'patientid',1:'hard_pred',2:'soft_pred'}, axis=1)"
   ]
  },
  {
   "cell_type": "code",
   "execution_count": 101,
   "metadata": {
    "ExecuteTime": {
     "end_time": "2020-08-04T23:04:15.836610Z",
     "start_time": "2020-08-04T23:04:15.805935Z"
    }
   },
   "outputs": [],
   "source": [
    "apfel_output.to_csv('../Viz/apfel_output.csv')\n",
    "np.savetxt('../Viz/apfel_cm.csv', apfel_cm, delimiter=',')\n",
    "final_summary.to_csv('../Viz/final_prob.csv', header=True)\n",
    "np.savetxt('../Viz/final_cm.csv', final_cm, delimiter=',')"
   ]
  },
  {
   "cell_type": "code",
   "execution_count": 131,
   "metadata": {
    "ExecuteTime": {
     "end_time": "2020-08-05T00:21:27.674653Z",
     "start_time": "2020-08-05T00:21:27.535136Z"
    }
   },
   "outputs": [
    {
     "data": {
      "image/png": "[encoded data removed]",
      "text/plain": [
       "<Figure size 900x600 with 1 Axes>"
      ]
     },
     "metadata": {},
     "output_type": "display_data"
    }
   ],
   "source": [
    "plt.figure(dpi=150)\n",
    "plt.title('Apfel Scoring Confusion Matrix', fontsize=20, fontweight='bold')\n",
    "sns.heatmap(apfel_cm, cmap=plt.cm.Blues, annot=True, square=True, \n",
    "            linewidths=0.1, fmt=\".0f\", cbar=False,\n",
    "           xticklabels=['OK', 'PONV'],\n",
    "           yticklabels=['OK', 'PONV'])\n",
    "plt.xlabel('Prediction', fontsize=14)\n",
    "plt.ylabel('Actual', fontsize=14)\n",
    "plt.savefig('../Viz/Apfel_CM.png')"
   ]
  },
  {
   "cell_type": "code",
   "execution_count": 129,
   "metadata": {
    "ExecuteTime": {
     "end_time": "2020-08-05T00:16:56.233534Z",
     "start_time": "2020-08-05T00:16:55.988537Z"
    }
   },
   "outputs": [
    {
     "data": {
      "image/png": "[encoded data removed]",
      "text/plain": [
       "<Figure size 900x600 with 1 Axes>"
      ]
     },
     "metadata": {},
     "output_type": "display_data"
    }
   ],
   "source": [
    "fig = plt.figure(dpi=150, facecolor='w', edgecolor='k')\n",
    "\n",
    "plt.title('Prototype Confusion Matrix', fontsize=20, fontweight='bold')\n",
    "\n",
    "fig = sns.heatmap(final_cm, cmap=plt.cm.Blues, annot=True, square=True, \n",
    "            linewidths=0.1, fmt=\".0f\", cbar=False,\n",
    "           xticklabels=['OK', 'PONV'],\n",
    "           yticklabels=['OK', 'PONV'])\n",
    "plt.xlabel('Prediction', fontsize=14)\n",
    "plt.ylabel('Actual', fontsize=14)\n",
    "plt.savefig('../Viz/Final_CM.png')"
   ]
  },
  {
   "cell_type": "markdown",
   "metadata": {},
   "source": [
    "# Streamlit App Test"
   ]
  },
  {
   "cell_type": "code",
   "execution_count": 21,
   "metadata": {
    "ExecuteTime": {
     "end_time": "2020-08-04T18:11:59.818596Z",
     "start_time": "2020-08-04T18:11:59.794056Z"
    }
   },
   "outputs": [
    {
     "data": {
      "text/html": [
       "<div>\n",
       "<style scoped>\n",
       "    .dataframe tbody tr th:only-of-type {\n",
       "        vertical-align: middle;\n",
       "    }\n",
       "\n",
       "    .dataframe tbody tr th {\n",
       "        vertical-align: top;\n",
       "    }\n",
       "\n",
       "    .dataframe thead th {\n",
       "        text-align: right;\n",
       "    }\n",
       "</style>\n",
       "<table border=\"1\" class=\"dataframe\">\n",
       "  <thead>\n",
       "    <tr style=\"text-align: right;\">\n",
       "      <th></th>\n",
       "      <th>patientid</th>\n",
       "      <th>age</th>\n",
       "      <th>apfel</th>\n",
       "      <th>previous_ponv</th>\n",
       "      <th>postoperative_opioids</th>\n",
       "      <th>non_smoker</th>\n",
       "      <th>surgery_group</th>\n",
       "      <th>chronic_opioid_user</th>\n",
       "      <th>previous_chemotherapy</th>\n",
       "      <th>how_many_months_ago_chemotherapy</th>\n",
       "      <th>...</th>\n",
       "      <th>esophagectomy</th>\n",
       "      <th>breast_lumpectomy</th>\n",
       "      <th>pancreatectomy</th>\n",
       "      <th>hip_arthoplasty</th>\n",
       "      <th>soft_tissue_resection</th>\n",
       "      <th>limb_amputation</th>\n",
       "      <th>gallbladder</th>\n",
       "      <th>gender_code</th>\n",
       "      <th>reg_ae_fillna</th>\n",
       "      <th>resc_ae_fillna</th>\n",
       "    </tr>\n",
       "  </thead>\n",
       "  <tbody>\n",
       "    <tr>\n",
       "      <th>861</th>\n",
       "      <td>932</td>\n",
       "      <td>49</td>\n",
       "      <td>2</td>\n",
       "      <td>False</td>\n",
       "      <td>False</td>\n",
       "      <td>True</td>\n",
       "      <td>Gynaecological Surgery</td>\n",
       "      <td>False</td>\n",
       "      <td>False</td>\n",
       "      <td>0.0</td>\n",
       "      <td>...</td>\n",
       "      <td>0</td>\n",
       "      <td>0</td>\n",
       "      <td>0</td>\n",
       "      <td>0</td>\n",
       "      <td>0</td>\n",
       "      <td>0</td>\n",
       "      <td>0</td>\n",
       "      <td>1</td>\n",
       "      <td>True</td>\n",
       "      <td>False</td>\n",
       "    </tr>\n",
       "    <tr>\n",
       "      <th>1370</th>\n",
       "      <td>1487</td>\n",
       "      <td>37</td>\n",
       "      <td>3</td>\n",
       "      <td>False</td>\n",
       "      <td>True</td>\n",
       "      <td>True</td>\n",
       "      <td>Gastrointenstinal Surgery</td>\n",
       "      <td>False</td>\n",
       "      <td>True</td>\n",
       "      <td>36.0</td>\n",
       "      <td>...</td>\n",
       "      <td>0</td>\n",
       "      <td>0</td>\n",
       "      <td>0</td>\n",
       "      <td>0</td>\n",
       "      <td>0</td>\n",
       "      <td>0</td>\n",
       "      <td>0</td>\n",
       "      <td>1</td>\n",
       "      <td>True</td>\n",
       "      <td>True</td>\n",
       "    </tr>\n",
       "    <tr>\n",
       "      <th>946</th>\n",
       "      <td>1033</td>\n",
       "      <td>51</td>\n",
       "      <td>3</td>\n",
       "      <td>False</td>\n",
       "      <td>True</td>\n",
       "      <td>True</td>\n",
       "      <td>Breast surgery</td>\n",
       "      <td>False</td>\n",
       "      <td>True</td>\n",
       "      <td>1.0</td>\n",
       "      <td>...</td>\n",
       "      <td>0</td>\n",
       "      <td>0</td>\n",
       "      <td>0</td>\n",
       "      <td>0</td>\n",
       "      <td>0</td>\n",
       "      <td>0</td>\n",
       "      <td>0</td>\n",
       "      <td>1</td>\n",
       "      <td>False</td>\n",
       "      <td>False</td>\n",
       "    </tr>\n",
       "    <tr>\n",
       "      <th>697</th>\n",
       "      <td>743</td>\n",
       "      <td>64</td>\n",
       "      <td>2</td>\n",
       "      <td>False</td>\n",
       "      <td>False</td>\n",
       "      <td>True</td>\n",
       "      <td>Gastrointenstinal Surgery</td>\n",
       "      <td>False</td>\n",
       "      <td>False</td>\n",
       "      <td>0.0</td>\n",
       "      <td>...</td>\n",
       "      <td>0</td>\n",
       "      <td>0</td>\n",
       "      <td>0</td>\n",
       "      <td>0</td>\n",
       "      <td>0</td>\n",
       "      <td>0</td>\n",
       "      <td>0</td>\n",
       "      <td>1</td>\n",
       "      <td>False</td>\n",
       "      <td>True</td>\n",
       "    </tr>\n",
       "    <tr>\n",
       "      <th>1883</th>\n",
       "      <td>2014</td>\n",
       "      <td>47</td>\n",
       "      <td>3</td>\n",
       "      <td>False</td>\n",
       "      <td>True</td>\n",
       "      <td>True</td>\n",
       "      <td>Breast surgery</td>\n",
       "      <td>False</td>\n",
       "      <td>True</td>\n",
       "      <td>2.0</td>\n",
       "      <td>...</td>\n",
       "      <td>0</td>\n",
       "      <td>0</td>\n",
       "      <td>0</td>\n",
       "      <td>0</td>\n",
       "      <td>0</td>\n",
       "      <td>0</td>\n",
       "      <td>0</td>\n",
       "      <td>1</td>\n",
       "      <td>True</td>\n",
       "      <td>True</td>\n",
       "    </tr>\n",
       "    <tr>\n",
       "      <th>1830</th>\n",
       "      <td>1961</td>\n",
       "      <td>76</td>\n",
       "      <td>3</td>\n",
       "      <td>True</td>\n",
       "      <td>True</td>\n",
       "      <td>False</td>\n",
       "      <td>Gastrointenstinal Surgery</td>\n",
       "      <td>False</td>\n",
       "      <td>True</td>\n",
       "      <td>3.0</td>\n",
       "      <td>...</td>\n",
       "      <td>0</td>\n",
       "      <td>0</td>\n",
       "      <td>0</td>\n",
       "      <td>0</td>\n",
       "      <td>0</td>\n",
       "      <td>0</td>\n",
       "      <td>0</td>\n",
       "      <td>1</td>\n",
       "      <td>True</td>\n",
       "      <td>True</td>\n",
       "    </tr>\n",
       "    <tr>\n",
       "      <th>1156</th>\n",
       "      <td>1259</td>\n",
       "      <td>66</td>\n",
       "      <td>2</td>\n",
       "      <td>False</td>\n",
       "      <td>True</td>\n",
       "      <td>True</td>\n",
       "      <td>Ortopedic Surgery</td>\n",
       "      <td>True</td>\n",
       "      <td>False</td>\n",
       "      <td>0.0</td>\n",
       "      <td>...</td>\n",
       "      <td>0</td>\n",
       "      <td>0</td>\n",
       "      <td>0</td>\n",
       "      <td>0</td>\n",
       "      <td>0</td>\n",
       "      <td>0</td>\n",
       "      <td>0</td>\n",
       "      <td>0</td>\n",
       "      <td>False</td>\n",
       "      <td>True</td>\n",
       "    </tr>\n",
       "    <tr>\n",
       "      <th>1773</th>\n",
       "      <td>1903</td>\n",
       "      <td>21</td>\n",
       "      <td>3</td>\n",
       "      <td>True</td>\n",
       "      <td>True</td>\n",
       "      <td>False</td>\n",
       "      <td>Other</td>\n",
       "      <td>False</td>\n",
       "      <td>False</td>\n",
       "      <td>0.0</td>\n",
       "      <td>...</td>\n",
       "      <td>0</td>\n",
       "      <td>0</td>\n",
       "      <td>0</td>\n",
       "      <td>0</td>\n",
       "      <td>0</td>\n",
       "      <td>0</td>\n",
       "      <td>0</td>\n",
       "      <td>1</td>\n",
       "      <td>True</td>\n",
       "      <td>False</td>\n",
       "    </tr>\n",
       "    <tr>\n",
       "      <th>982</th>\n",
       "      <td>1073</td>\n",
       "      <td>65</td>\n",
       "      <td>3</td>\n",
       "      <td>False</td>\n",
       "      <td>True</td>\n",
       "      <td>True</td>\n",
       "      <td>Gastrointenstinal Surgery</td>\n",
       "      <td>False</td>\n",
       "      <td>False</td>\n",
       "      <td>0.0</td>\n",
       "      <td>...</td>\n",
       "      <td>0</td>\n",
       "      <td>0</td>\n",
       "      <td>0</td>\n",
       "      <td>0</td>\n",
       "      <td>0</td>\n",
       "      <td>0</td>\n",
       "      <td>0</td>\n",
       "      <td>1</td>\n",
       "      <td>True</td>\n",
       "      <td>False</td>\n",
       "    </tr>\n",
       "    <tr>\n",
       "      <th>1146</th>\n",
       "      <td>1247</td>\n",
       "      <td>56</td>\n",
       "      <td>3</td>\n",
       "      <td>False</td>\n",
       "      <td>True</td>\n",
       "      <td>True</td>\n",
       "      <td>Breast surgery</td>\n",
       "      <td>False</td>\n",
       "      <td>True</td>\n",
       "      <td>2.0</td>\n",
       "      <td>...</td>\n",
       "      <td>0</td>\n",
       "      <td>0</td>\n",
       "      <td>0</td>\n",
       "      <td>0</td>\n",
       "      <td>0</td>\n",
       "      <td>0</td>\n",
       "      <td>0</td>\n",
       "      <td>1</td>\n",
       "      <td>False</td>\n",
       "      <td>False</td>\n",
       "    </tr>\n",
       "  </tbody>\n",
       "</table>\n",
       "<p>10 rows × 84 columns</p>\n",
       "</div>"
      ],
      "text/plain": [
       "      patientid  age  apfel  previous_ponv  postoperative_opioids  non_smoker  \\\n",
       "861         932   49      2          False                  False        True   \n",
       "1370       1487   37      3          False                   True        True   \n",
       "946        1033   51      3          False                   True        True   \n",
       "697         743   64      2          False                  False        True   \n",
       "1883       2014   47      3          False                   True        True   \n",
       "1830       1961   76      3           True                   True       False   \n",
       "1156       1259   66      2          False                   True        True   \n",
       "1773       1903   21      3           True                   True       False   \n",
       "982        1073   65      3          False                   True        True   \n",
       "1146       1247   56      3          False                   True        True   \n",
       "\n",
       "                  surgery_group  chronic_opioid_user  previous_chemotherapy  \\\n",
       "861      Gynaecological Surgery                False                  False   \n",
       "1370  Gastrointenstinal Surgery                False                   True   \n",
       "946              Breast surgery                False                   True   \n",
       "697   Gastrointenstinal Surgery                False                  False   \n",
       "1883             Breast surgery                False                   True   \n",
       "1830  Gastrointenstinal Surgery                False                   True   \n",
       "1156          Ortopedic Surgery                 True                  False   \n",
       "1773                      Other                False                  False   \n",
       "982   Gastrointenstinal Surgery                False                  False   \n",
       "1146             Breast surgery                False                   True   \n",
       "\n",
       "      how_many_months_ago_chemotherapy  ...  esophagectomy  breast_lumpectomy  \\\n",
       "861                                0.0  ...              0                  0   \n",
       "1370                              36.0  ...              0                  0   \n",
       "946                                1.0  ...              0                  0   \n",
       "697                                0.0  ...              0                  0   \n",
       "1883                               2.0  ...              0                  0   \n",
       "1830                               3.0  ...              0                  0   \n",
       "1156                               0.0  ...              0                  0   \n",
       "1773                               0.0  ...              0                  0   \n",
       "982                                0.0  ...              0                  0   \n",
       "1146                               2.0  ...              0                  0   \n",
       "\n",
       "      pancreatectomy  hip_arthoplasty  soft_tissue_resection  limb_amputation  \\\n",
       "861                0                0                      0                0   \n",
       "1370               0                0                      0                0   \n",
       "946                0                0                      0                0   \n",
       "697                0                0                      0                0   \n",
       "1883               0                0                      0                0   \n",
       "1830               0                0                      0                0   \n",
       "1156               0                0                      0                0   \n",
       "1773               0                0                      0                0   \n",
       "982                0                0                      0                0   \n",
       "1146               0                0                      0                0   \n",
       "\n",
       "      gallbladder  gender_code  reg_ae_fillna  resc_ae_fillna  \n",
       "861             0            1           True           False  \n",
       "1370            0            1           True            True  \n",
       "946             0            1          False           False  \n",
       "697             0            1          False            True  \n",
       "1883            0            1           True            True  \n",
       "1830            0            1           True            True  \n",
       "1156            0            0          False            True  \n",
       "1773            0            1           True           False  \n",
       "982             0            1           True           False  \n",
       "1146            0            1          False           False  \n",
       "\n",
       "[10 rows x 84 columns]"
      ]
     },
     "execution_count": 21,
     "metadata": {},
     "output_type": "execute_result"
    }
   ],
   "source": [
    "tv_x.iloc[:10,:]"
   ]
  },
  {
   "cell_type": "code",
   "execution_count": 22,
   "metadata": {
    "ExecuteTime": {
     "end_time": "2020-08-04T18:12:13.324160Z",
     "start_time": "2020-08-04T18:12:13.305991Z"
    }
   },
   "outputs": [
    {
     "data": {
      "text/html": [
       "<div>\n",
       "<style scoped>\n",
       "    .dataframe tbody tr th:only-of-type {\n",
       "        vertical-align: middle;\n",
       "    }\n",
       "\n",
       "    .dataframe tbody tr th {\n",
       "        vertical-align: top;\n",
       "    }\n",
       "\n",
       "    .dataframe thead th {\n",
       "        text-align: right;\n",
       "    }\n",
       "</style>\n",
       "<table border=\"1\" class=\"dataframe\">\n",
       "  <thead>\n",
       "    <tr style=\"text-align: right;\">\n",
       "      <th></th>\n",
       "      <th>patientid</th>\n",
       "      <th>age</th>\n",
       "      <th>apfel</th>\n",
       "      <th>previous_ponv</th>\n",
       "      <th>postoperative_opioids</th>\n",
       "      <th>non_smoker</th>\n",
       "      <th>surgery_group</th>\n",
       "      <th>chronic_opioid_user</th>\n",
       "      <th>previous_chemotherapy</th>\n",
       "      <th>how_many_months_ago_chemotherapy</th>\n",
       "      <th>...</th>\n",
       "      <th>esophagectomy</th>\n",
       "      <th>breast_lumpectomy</th>\n",
       "      <th>pancreatectomy</th>\n",
       "      <th>hip_arthoplasty</th>\n",
       "      <th>soft_tissue_resection</th>\n",
       "      <th>limb_amputation</th>\n",
       "      <th>gallbladder</th>\n",
       "      <th>gender_code</th>\n",
       "      <th>reg_ae_fillna</th>\n",
       "      <th>resc_ae_fillna</th>\n",
       "    </tr>\n",
       "  </thead>\n",
       "  <tbody>\n",
       "    <tr>\n",
       "      <th>1370</th>\n",
       "      <td>1487</td>\n",
       "      <td>37</td>\n",
       "      <td>3</td>\n",
       "      <td>False</td>\n",
       "      <td>True</td>\n",
       "      <td>True</td>\n",
       "      <td>Gastrointenstinal Surgery</td>\n",
       "      <td>False</td>\n",
       "      <td>True</td>\n",
       "      <td>36.0</td>\n",
       "      <td>...</td>\n",
       "      <td>0</td>\n",
       "      <td>0</td>\n",
       "      <td>0</td>\n",
       "      <td>0</td>\n",
       "      <td>0</td>\n",
       "      <td>0</td>\n",
       "      <td>0</td>\n",
       "      <td>1</td>\n",
       "      <td>True</td>\n",
       "      <td>True</td>\n",
       "    </tr>\n",
       "  </tbody>\n",
       "</table>\n",
       "<p>1 rows × 84 columns</p>\n",
       "</div>"
      ],
      "text/plain": [
       "      patientid  age  apfel  previous_ponv  postoperative_opioids  non_smoker  \\\n",
       "1370       1487   37      3          False                   True        True   \n",
       "\n",
       "                  surgery_group  chronic_opioid_user  previous_chemotherapy  \\\n",
       "1370  Gastrointenstinal Surgery                False                   True   \n",
       "\n",
       "      how_many_months_ago_chemotherapy  ...  esophagectomy  breast_lumpectomy  \\\n",
       "1370                              36.0  ...              0                  0   \n",
       "\n",
       "      pancreatectomy  hip_arthoplasty  soft_tissue_resection  limb_amputation  \\\n",
       "1370               0                0                      0                0   \n",
       "\n",
       "      gallbladder  gender_code  reg_ae_fillna  resc_ae_fillna  \n",
       "1370            0            1           True            True  \n",
       "\n",
       "[1 rows x 84 columns]"
      ]
     },
     "execution_count": 22,
     "metadata": {},
     "output_type": "execute_result"
    }
   ],
   "source": [
    "stlit_test = tv_x.iloc[[1]]\n",
    "stlit_test"
   ]
  },
  {
   "cell_type": "code",
   "execution_count": 23,
   "metadata": {
    "ExecuteTime": {
     "end_time": "2020-08-04T18:12:27.031950Z",
     "start_time": "2020-08-04T18:12:27.025599Z"
    }
   },
   "outputs": [
    {
     "data": {
      "text/plain": [
       "intraoperative_ondansetron_dose    8\n",
       "dexamethasone_dose                 4\n",
       "intraoperative_dimenidrate_dose    0\n",
       "metoclopramide_dose                0\n",
       "droperidol_dose                    0\n",
       "Name: 1370, dtype: object"
      ]
     },
     "execution_count": 23,
     "metadata": {},
     "output_type": "execute_result"
    }
   ],
   "source": [
    "emetogenics = ['intraoperative_ondansetron_dose', 'dexamethasone_dose', 'intraoperative_dimenidrate_dose',\n",
    "                   'metoclopramide_dose', 'droperidol_dose']\n",
    "stlit_test.loc[1370,emetogenics]"
   ]
  },
  {
   "cell_type": "code",
   "execution_count": 24,
   "metadata": {
    "ExecuteTime": {
     "end_time": "2020-08-04T18:12:46.099165Z",
     "start_time": "2020-08-04T18:12:46.077651Z"
    }
   },
   "outputs": [
    {
     "data": {
      "text/plain": [
       "{'gender_code': 1,\n",
       " 'non_smoker': True,\n",
       " 'previous_ponv': False,\n",
       " 'postoperative_opioids': True,\n",
       " 'pancreatectomy': 0,\n",
       " 'hysterectomy_vlp': 0,\n",
       " 'anexectomy_ovariectomy': 0,\n",
       " 'cystectomy': 0,\n",
       " 'extensive_lymphadenectomy': 0,\n",
       " 'plastic': 0,\n",
       " 'cytoreduction': 0,\n",
       " 'hysterectomy': 0,\n",
       " 'nephrectomy': 0,\n",
       " 'mastectomy': 0,\n",
       " 'gastrointestinal': 1,\n",
       " 'thoracic': 0,\n",
       " 'exploratory_laparotomy': 0,\n",
       " 'hepatectomy': 0,\n",
       " 'prostatectomy': 0,\n",
       " 'breast_lumpectomy': 0,\n",
       " 'spine_surgery': 0,\n",
       " 'head_neck': 0,\n",
       " 'orthopedic': 0,\n",
       " 'fentanil_mcg': 300.0,\n",
       " 'sufentanil_mcg': 0.0,\n",
       " 'tramadol_dose_pacu': 0.0,\n",
       " 'ketamine_dose': 0.0,\n",
       " 'intraoperative_morphine_dose': 0.0,\n",
       " 'previous_chemotherapy': True,\n",
       " 'how_many_months_ago_chemotherapy': 36.0,\n",
       " 'post_chemotherapy_nausea': False,\n",
       " 'post_chemotherapy_vomiting': False,\n",
       " 'age': 37,\n",
       " 'tot_drugs': 12.3}"
      ]
     },
     "execution_count": 24,
     "metadata": {},
     "output_type": "execute_result"
    }
   ],
   "source": [
    "stlit_x =  efp.extract_features(analysis_df, stlit_test)\n",
    "dict(zip(stlit_x.columns, stlit_x.values[0]))"
   ]
  },
  {
   "cell_type": "code",
   "execution_count": 143,
   "metadata": {
    "ExecuteTime": {
     "end_time": "2020-08-05T05:05:37.088266Z",
     "start_time": "2020-08-05T05:05:37.031419Z"
    }
   },
   "outputs": [
    {
     "data": {
      "text/plain": [
       "array([0.58833135])"
      ]
     },
     "execution_count": 143,
     "metadata": {},
     "output_type": "execute_result"
    }
   ],
   "source": [
    "scaler = pickle.load(open(\"ponv_scaler.p\",\"rb\"))\n",
    "st_model = pickle.load(open(\"lr_final_model.p\",\"rb\"))\n",
    "stlit_x_sc = scaler.transform(stlit_x)\n",
    "st_model.predict_proba(stlit_x_sc)[:,1]"
   ]
  },
  {
   "cell_type": "code",
   "execution_count": null,
   "metadata": {},
   "outputs": [],
   "source": []
  }
 ],
 "metadata": {
  "kernelspec": {
   "display_name": "Python [conda env:metis] *",
   "language": "python",
   "name": "conda-env-metis-py"
  },
  "language_info": {
   "codemirror_mode": {
    "name": "ipython",
    "version": 3
   },
   "file_extension": ".py",
   "mimetype": "text/x-python",
   "name": "python",
   "nbconvert_exporter": "python",
   "pygments_lexer": "ipython3",
   "version": "3.8.3"
  }
 },
 "nbformat": 4,
 "nbformat_minor": 4
}
