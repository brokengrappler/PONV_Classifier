{
 "cells": [
  {
   "cell_type": "code",
   "execution_count": 1,
   "metadata": {
    "ExecuteTime": {
     "end_time": "2020-08-08T22:41:29.107870Z",
     "start_time": "2020-08-08T22:41:26.588771Z"
    }
   },
   "outputs": [],
   "source": [
    "import pandas as pd\n",
    "import numpy as np\n",
    "import matplotlib.pyplot as plt\n",
    "import seaborn as sns\n",
    "sns.set()"
   ]
  },
  {
   "cell_type": "code",
   "execution_count": 2,
   "metadata": {
    "ExecuteTime": {
     "end_time": "2020-08-08T22:41:29.117224Z",
     "start_time": "2020-08-08T22:41:29.113094Z"
    }
   },
   "outputs": [],
   "source": [
    "file = '../raw_data/PONV_data.csv'"
   ]
  },
  {
   "cell_type": "code",
   "execution_count": 3,
   "metadata": {
    "ExecuteTime": {
     "end_time": "2020-08-08T22:41:29.150063Z",
     "start_time": "2020-08-08T22:41:29.121546Z"
    }
   },
   "outputs": [],
   "source": [
    "raw_df = pd.read_csv(file, index_col=0)"
   ]
  },
  {
   "cell_type": "markdown",
   "metadata": {},
   "source": [
    "## The following script is a hybrid of EDA and cleaning raw data downloaded from https://data.mendeley.com/datasets/gsnj8vmgm2/1."
   ]
  },
  {
   "cell_type": "markdown",
   "metadata": {},
   "source": [
    "#### Describe all features in data set"
   ]
  },
  {
   "cell_type": "code",
   "execution_count": 4,
   "metadata": {
    "ExecuteTime": {
     "end_time": "2020-08-08T22:41:29.300465Z",
     "start_time": "2020-08-08T22:41:29.152504Z"
    }
   },
   "outputs": [
    {
     "data": {
      "text/html": [
       "<div>\n",
       "<style scoped>\n",
       "    .dataframe tbody tr th:only-of-type {\n",
       "        vertical-align: middle;\n",
       "    }\n",
       "\n",
       "    .dataframe tbody tr th {\n",
       "        vertical-align: top;\n",
       "    }\n",
       "\n",
       "    .dataframe thead th {\n",
       "        text-align: right;\n",
       "    }\n",
       "</style>\n",
       "<table border=\"1\" class=\"dataframe\">\n",
       "  <thead>\n",
       "    <tr style=\"text-align: right;\">\n",
       "      <th></th>\n",
       "      <th>sex</th>\n",
       "      <th>age</th>\n",
       "      <th>Apfel</th>\n",
       "      <th>previous.ponv</th>\n",
       "      <th>postoperative.opioids</th>\n",
       "      <th>non.smoker</th>\n",
       "      <th>surgical.procedure</th>\n",
       "      <th>surgery.group</th>\n",
       "      <th>chronic opioid user</th>\n",
       "      <th>previous.chemotherapy</th>\n",
       "    </tr>\n",
       "  </thead>\n",
       "  <tbody>\n",
       "    <tr>\n",
       "      <th>count</th>\n",
       "      <td>1945</td>\n",
       "      <td>1945.000000</td>\n",
       "      <td>1945.000000</td>\n",
       "      <td>1945</td>\n",
       "      <td>1945</td>\n",
       "      <td>1945</td>\n",
       "      <td>1945</td>\n",
       "      <td>1945</td>\n",
       "      <td>1905</td>\n",
       "      <td>1945</td>\n",
       "    </tr>\n",
       "    <tr>\n",
       "      <th>unique</th>\n",
       "      <td>2</td>\n",
       "      <td>NaN</td>\n",
       "      <td>NaN</td>\n",
       "      <td>2</td>\n",
       "      <td>2</td>\n",
       "      <td>2</td>\n",
       "      <td>25</td>\n",
       "      <td>11</td>\n",
       "      <td>2</td>\n",
       "      <td>2</td>\n",
       "    </tr>\n",
       "    <tr>\n",
       "      <th>top</th>\n",
       "      <td>Female</td>\n",
       "      <td>NaN</td>\n",
       "      <td>NaN</td>\n",
       "      <td>False</td>\n",
       "      <td>True</td>\n",
       "      <td>True</td>\n",
       "      <td>Cirurgia Gastrointestinal</td>\n",
       "      <td>Gastrointenstinal Surgery</td>\n",
       "      <td>False</td>\n",
       "      <td>False</td>\n",
       "    </tr>\n",
       "    <tr>\n",
       "      <th>freq</th>\n",
       "      <td>1172</td>\n",
       "      <td>NaN</td>\n",
       "      <td>NaN</td>\n",
       "      <td>1514</td>\n",
       "      <td>1408</td>\n",
       "      <td>1413</td>\n",
       "      <td>461</td>\n",
       "      <td>572</td>\n",
       "      <td>1653</td>\n",
       "      <td>1242</td>\n",
       "    </tr>\n",
       "    <tr>\n",
       "      <th>mean</th>\n",
       "      <td>NaN</td>\n",
       "      <td>57.735219</td>\n",
       "      <td>2.283290</td>\n",
       "      <td>NaN</td>\n",
       "      <td>NaN</td>\n",
       "      <td>NaN</td>\n",
       "      <td>NaN</td>\n",
       "      <td>NaN</td>\n",
       "      <td>NaN</td>\n",
       "      <td>NaN</td>\n",
       "    </tr>\n",
       "    <tr>\n",
       "      <th>std</th>\n",
       "      <td>NaN</td>\n",
       "      <td>13.787941</td>\n",
       "      <td>0.977869</td>\n",
       "      <td>NaN</td>\n",
       "      <td>NaN</td>\n",
       "      <td>NaN</td>\n",
       "      <td>NaN</td>\n",
       "      <td>NaN</td>\n",
       "      <td>NaN</td>\n",
       "      <td>NaN</td>\n",
       "    </tr>\n",
       "    <tr>\n",
       "      <th>min</th>\n",
       "      <td>NaN</td>\n",
       "      <td>14.000000</td>\n",
       "      <td>0.000000</td>\n",
       "      <td>NaN</td>\n",
       "      <td>NaN</td>\n",
       "      <td>NaN</td>\n",
       "      <td>NaN</td>\n",
       "      <td>NaN</td>\n",
       "      <td>NaN</td>\n",
       "      <td>NaN</td>\n",
       "    </tr>\n",
       "    <tr>\n",
       "      <th>25%</th>\n",
       "      <td>NaN</td>\n",
       "      <td>49.000000</td>\n",
       "      <td>2.000000</td>\n",
       "      <td>NaN</td>\n",
       "      <td>NaN</td>\n",
       "      <td>NaN</td>\n",
       "      <td>NaN</td>\n",
       "      <td>NaN</td>\n",
       "      <td>NaN</td>\n",
       "      <td>NaN</td>\n",
       "    </tr>\n",
       "    <tr>\n",
       "      <th>50%</th>\n",
       "      <td>NaN</td>\n",
       "      <td>59.000000</td>\n",
       "      <td>2.000000</td>\n",
       "      <td>NaN</td>\n",
       "      <td>NaN</td>\n",
       "      <td>NaN</td>\n",
       "      <td>NaN</td>\n",
       "      <td>NaN</td>\n",
       "      <td>NaN</td>\n",
       "      <td>NaN</td>\n",
       "    </tr>\n",
       "    <tr>\n",
       "      <th>75%</th>\n",
       "      <td>NaN</td>\n",
       "      <td>67.000000</td>\n",
       "      <td>3.000000</td>\n",
       "      <td>NaN</td>\n",
       "      <td>NaN</td>\n",
       "      <td>NaN</td>\n",
       "      <td>NaN</td>\n",
       "      <td>NaN</td>\n",
       "      <td>NaN</td>\n",
       "      <td>NaN</td>\n",
       "    </tr>\n",
       "    <tr>\n",
       "      <th>max</th>\n",
       "      <td>NaN</td>\n",
       "      <td>96.000000</td>\n",
       "      <td>4.000000</td>\n",
       "      <td>NaN</td>\n",
       "      <td>NaN</td>\n",
       "      <td>NaN</td>\n",
       "      <td>NaN</td>\n",
       "      <td>NaN</td>\n",
       "      <td>NaN</td>\n",
       "      <td>NaN</td>\n",
       "    </tr>\n",
       "  </tbody>\n",
       "</table>\n",
       "</div>"
      ],
      "text/plain": [
       "           sex          age        Apfel previous.ponv postoperative.opioids  \\\n",
       "count     1945  1945.000000  1945.000000          1945                  1945   \n",
       "unique       2          NaN          NaN             2                     2   \n",
       "top     Female          NaN          NaN         False                  True   \n",
       "freq      1172          NaN          NaN          1514                  1408   \n",
       "mean       NaN    57.735219     2.283290           NaN                   NaN   \n",
       "std        NaN    13.787941     0.977869           NaN                   NaN   \n",
       "min        NaN    14.000000     0.000000           NaN                   NaN   \n",
       "25%        NaN    49.000000     2.000000           NaN                   NaN   \n",
       "50%        NaN    59.000000     2.000000           NaN                   NaN   \n",
       "75%        NaN    67.000000     3.000000           NaN                   NaN   \n",
       "max        NaN    96.000000     4.000000           NaN                   NaN   \n",
       "\n",
       "       non.smoker         surgical.procedure              surgery.group  \\\n",
       "count        1945                       1945                       1945   \n",
       "unique          2                         25                         11   \n",
       "top          True  Cirurgia Gastrointestinal  Gastrointenstinal Surgery   \n",
       "freq         1413                        461                        572   \n",
       "mean          NaN                        NaN                        NaN   \n",
       "std           NaN                        NaN                        NaN   \n",
       "min           NaN                        NaN                        NaN   \n",
       "25%           NaN                        NaN                        NaN   \n",
       "50%           NaN                        NaN                        NaN   \n",
       "75%           NaN                        NaN                        NaN   \n",
       "max           NaN                        NaN                        NaN   \n",
       "\n",
       "       chronic opioid user previous.chemotherapy  \n",
       "count                 1905                  1945  \n",
       "unique                   2                     2  \n",
       "top                  False                 False  \n",
       "freq                  1653                  1242  \n",
       "mean                   NaN                   NaN  \n",
       "std                    NaN                   NaN  \n",
       "min                    NaN                   NaN  \n",
       "25%                    NaN                   NaN  \n",
       "50%                    NaN                   NaN  \n",
       "75%                    NaN                   NaN  \n",
       "max                    NaN                   NaN  "
      ]
     },
     "execution_count": 4,
     "metadata": {},
     "output_type": "execute_result"
    }
   ],
   "source": [
    "raw_df.describe(include='all').iloc[:,:10]"
   ]
  },
  {
   "cell_type": "code",
   "execution_count": 5,
   "metadata": {
    "ExecuteTime": {
     "end_time": "2020-08-08T22:41:29.438141Z",
     "start_time": "2020-08-08T22:41:29.303067Z"
    }
   },
   "outputs": [
    {
     "data": {
      "text/html": [
       "<div>\n",
       "<style scoped>\n",
       "    .dataframe tbody tr th:only-of-type {\n",
       "        vertical-align: middle;\n",
       "    }\n",
       "\n",
       "    .dataframe tbody tr th {\n",
       "        vertical-align: top;\n",
       "    }\n",
       "\n",
       "    .dataframe thead th {\n",
       "        text-align: right;\n",
       "    }\n",
       "</style>\n",
       "<table border=\"1\" class=\"dataframe\">\n",
       "  <thead>\n",
       "    <tr style=\"text-align: right;\">\n",
       "      <th></th>\n",
       "      <th>how.many.months.ago.chemotherapy</th>\n",
       "      <th>chemotherapy.emetogenicity</th>\n",
       "      <th>post.chemotherapy.nausea</th>\n",
       "      <th>post.chemotherapy.vomiting</th>\n",
       "      <th>ever.smoked</th>\n",
       "      <th>anesthesia.technique</th>\n",
       "      <th>neuraxial.opioid</th>\n",
       "      <th>intraoperative.opioid</th>\n",
       "      <th>remifentanil</th>\n",
       "      <th>fentanil.mcg</th>\n",
       "    </tr>\n",
       "  </thead>\n",
       "  <tbody>\n",
       "    <tr>\n",
       "      <th>count</th>\n",
       "      <td>669.000000</td>\n",
       "      <td>615</td>\n",
       "      <td>734</td>\n",
       "      <td>747</td>\n",
       "      <td>1945</td>\n",
       "      <td>1945.000000</td>\n",
       "      <td>1432</td>\n",
       "      <td>1944</td>\n",
       "      <td>1945</td>\n",
       "      <td>1945.000000</td>\n",
       "    </tr>\n",
       "    <tr>\n",
       "      <th>unique</th>\n",
       "      <td>NaN</td>\n",
       "      <td>4</td>\n",
       "      <td>2</td>\n",
       "      <td>2</td>\n",
       "      <td>2</td>\n",
       "      <td>NaN</td>\n",
       "      <td>2</td>\n",
       "      <td>2</td>\n",
       "      <td>2</td>\n",
       "      <td>NaN</td>\n",
       "    </tr>\n",
       "    <tr>\n",
       "      <th>top</th>\n",
       "      <td>NaN</td>\n",
       "      <td>b.low(10-30%)</td>\n",
       "      <td>True</td>\n",
       "      <td>False</td>\n",
       "      <td>False</td>\n",
       "      <td>NaN</td>\n",
       "      <td>True</td>\n",
       "      <td>True</td>\n",
       "      <td>False</td>\n",
       "      <td>NaN</td>\n",
       "    </tr>\n",
       "    <tr>\n",
       "      <th>freq</th>\n",
       "      <td>NaN</td>\n",
       "      <td>261</td>\n",
       "      <td>386</td>\n",
       "      <td>464</td>\n",
       "      <td>1058</td>\n",
       "      <td>NaN</td>\n",
       "      <td>1176</td>\n",
       "      <td>1806</td>\n",
       "      <td>1589</td>\n",
       "      <td>NaN</td>\n",
       "    </tr>\n",
       "    <tr>\n",
       "      <th>mean</th>\n",
       "      <td>13.029178</td>\n",
       "      <td>NaN</td>\n",
       "      <td>NaN</td>\n",
       "      <td>NaN</td>\n",
       "      <td>NaN</td>\n",
       "      <td>3.138303</td>\n",
       "      <td>NaN</td>\n",
       "      <td>NaN</td>\n",
       "      <td>NaN</td>\n",
       "      <td>192.611913</td>\n",
       "    </tr>\n",
       "    <tr>\n",
       "      <th>std</th>\n",
       "      <td>33.094539</td>\n",
       "      <td>NaN</td>\n",
       "      <td>NaN</td>\n",
       "      <td>NaN</td>\n",
       "      <td>NaN</td>\n",
       "      <td>1.466673</td>\n",
       "      <td>NaN</td>\n",
       "      <td>NaN</td>\n",
       "      <td>NaN</td>\n",
       "      <td>267.248842</td>\n",
       "    </tr>\n",
       "    <tr>\n",
       "      <th>min</th>\n",
       "      <td>0.000000</td>\n",
       "      <td>NaN</td>\n",
       "      <td>NaN</td>\n",
       "      <td>NaN</td>\n",
       "      <td>NaN</td>\n",
       "      <td>1.000000</td>\n",
       "      <td>NaN</td>\n",
       "      <td>NaN</td>\n",
       "      <td>NaN</td>\n",
       "      <td>0.000000</td>\n",
       "    </tr>\n",
       "    <tr>\n",
       "      <th>25%</th>\n",
       "      <td>1.000000</td>\n",
       "      <td>NaN</td>\n",
       "      <td>NaN</td>\n",
       "      <td>NaN</td>\n",
       "      <td>NaN</td>\n",
       "      <td>1.000000</td>\n",
       "      <td>NaN</td>\n",
       "      <td>NaN</td>\n",
       "      <td>NaN</td>\n",
       "      <td>0.000000</td>\n",
       "    </tr>\n",
       "    <tr>\n",
       "      <th>50%</th>\n",
       "      <td>3.000000</td>\n",
       "      <td>NaN</td>\n",
       "      <td>NaN</td>\n",
       "      <td>NaN</td>\n",
       "      <td>NaN</td>\n",
       "      <td>4.000000</td>\n",
       "      <td>NaN</td>\n",
       "      <td>NaN</td>\n",
       "      <td>NaN</td>\n",
       "      <td>0.000000</td>\n",
       "    </tr>\n",
       "    <tr>\n",
       "      <th>75%</th>\n",
       "      <td>10.000000</td>\n",
       "      <td>NaN</td>\n",
       "      <td>NaN</td>\n",
       "      <td>NaN</td>\n",
       "      <td>NaN</td>\n",
       "      <td>4.000000</td>\n",
       "      <td>NaN</td>\n",
       "      <td>NaN</td>\n",
       "      <td>NaN</td>\n",
       "      <td>350.000000</td>\n",
       "    </tr>\n",
       "    <tr>\n",
       "      <th>max</th>\n",
       "      <td>360.000000</td>\n",
       "      <td>NaN</td>\n",
       "      <td>NaN</td>\n",
       "      <td>NaN</td>\n",
       "      <td>NaN</td>\n",
       "      <td>6.000000</td>\n",
       "      <td>NaN</td>\n",
       "      <td>NaN</td>\n",
       "      <td>NaN</td>\n",
       "      <td>3000.000000</td>\n",
       "    </tr>\n",
       "  </tbody>\n",
       "</table>\n",
       "</div>"
      ],
      "text/plain": [
       "        how.many.months.ago.chemotherapy chemotherapy.emetogenicity  \\\n",
       "count                         669.000000                        615   \n",
       "unique                               NaN                          4   \n",
       "top                                  NaN              b.low(10-30%)   \n",
       "freq                                 NaN                        261   \n",
       "mean                           13.029178                        NaN   \n",
       "std                            33.094539                        NaN   \n",
       "min                             0.000000                        NaN   \n",
       "25%                             1.000000                        NaN   \n",
       "50%                             3.000000                        NaN   \n",
       "75%                            10.000000                        NaN   \n",
       "max                           360.000000                        NaN   \n",
       "\n",
       "       post.chemotherapy.nausea post.chemotherapy.vomiting ever.smoked  \\\n",
       "count                       734                        747        1945   \n",
       "unique                        2                          2           2   \n",
       "top                        True                      False       False   \n",
       "freq                        386                        464        1058   \n",
       "mean                        NaN                        NaN         NaN   \n",
       "std                         NaN                        NaN         NaN   \n",
       "min                         NaN                        NaN         NaN   \n",
       "25%                         NaN                        NaN         NaN   \n",
       "50%                         NaN                        NaN         NaN   \n",
       "75%                         NaN                        NaN         NaN   \n",
       "max                         NaN                        NaN         NaN   \n",
       "\n",
       "        anesthesia.technique neuraxial.opioid intraoperative.opioid  \\\n",
       "count            1945.000000             1432                  1944   \n",
       "unique                   NaN                2                     2   \n",
       "top                      NaN             True                  True   \n",
       "freq                     NaN             1176                  1806   \n",
       "mean                3.138303              NaN                   NaN   \n",
       "std                 1.466673              NaN                   NaN   \n",
       "min                 1.000000              NaN                   NaN   \n",
       "25%                 1.000000              NaN                   NaN   \n",
       "50%                 4.000000              NaN                   NaN   \n",
       "75%                 4.000000              NaN                   NaN   \n",
       "max                 6.000000              NaN                   NaN   \n",
       "\n",
       "       remifentanil  fentanil.mcg  \n",
       "count          1945   1945.000000  \n",
       "unique            2           NaN  \n",
       "top           False           NaN  \n",
       "freq           1589           NaN  \n",
       "mean            NaN    192.611913  \n",
       "std             NaN    267.248842  \n",
       "min             NaN      0.000000  \n",
       "25%             NaN      0.000000  \n",
       "50%             NaN      0.000000  \n",
       "75%             NaN    350.000000  \n",
       "max             NaN   3000.000000  "
      ]
     },
     "execution_count": 5,
     "metadata": {},
     "output_type": "execute_result"
    }
   ],
   "source": [
    "raw_df.describe(include='all').iloc[:,10:20]"
   ]
  },
  {
   "cell_type": "code",
   "execution_count": 6,
   "metadata": {
    "ExecuteTime": {
     "end_time": "2020-08-08T22:41:29.566242Z",
     "start_time": "2020-08-08T22:41:29.439773Z"
    }
   },
   "outputs": [
    {
     "data": {
      "text/html": [
       "<div>\n",
       "<style scoped>\n",
       "    .dataframe tbody tr th:only-of-type {\n",
       "        vertical-align: middle;\n",
       "    }\n",
       "\n",
       "    .dataframe tbody tr th {\n",
       "        vertical-align: top;\n",
       "    }\n",
       "\n",
       "    .dataframe thead th {\n",
       "        text-align: right;\n",
       "    }\n",
       "</style>\n",
       "<table border=\"1\" class=\"dataframe\">\n",
       "  <thead>\n",
       "    <tr style=\"text-align: right;\">\n",
       "      <th></th>\n",
       "      <th>sufentanil.mcg</th>\n",
       "      <th>continuous.sufentanil</th>\n",
       "      <th>tramadol.pacu</th>\n",
       "      <th>tramadol.dose.pacu</th>\n",
       "      <th>intraoperative.ketamine</th>\n",
       "      <th>ketamine.dose</th>\n",
       "      <th>intraoperative.morphine</th>\n",
       "      <th>intraoperative.morphine.dose</th>\n",
       "      <th>ondansetron.intraoperative</th>\n",
       "      <th>intraoperative.ondansetron.dose</th>\n",
       "    </tr>\n",
       "  </thead>\n",
       "  <tbody>\n",
       "    <tr>\n",
       "      <th>count</th>\n",
       "      <td>1945.000000</td>\n",
       "      <td>1945</td>\n",
       "      <td>1945</td>\n",
       "      <td>1945.000000</td>\n",
       "      <td>1945</td>\n",
       "      <td>1944.000000</td>\n",
       "      <td>1943</td>\n",
       "      <td>1932.000000</td>\n",
       "      <td>1945</td>\n",
       "      <td>1941.000000</td>\n",
       "    </tr>\n",
       "    <tr>\n",
       "      <th>unique</th>\n",
       "      <td>NaN</td>\n",
       "      <td>2</td>\n",
       "      <td>2</td>\n",
       "      <td>NaN</td>\n",
       "      <td>2</td>\n",
       "      <td>NaN</td>\n",
       "      <td>2</td>\n",
       "      <td>NaN</td>\n",
       "      <td>2</td>\n",
       "      <td>NaN</td>\n",
       "    </tr>\n",
       "    <tr>\n",
       "      <th>top</th>\n",
       "      <td>NaN</td>\n",
       "      <td>False</td>\n",
       "      <td>False</td>\n",
       "      <td>NaN</td>\n",
       "      <td>False</td>\n",
       "      <td>NaN</td>\n",
       "      <td>False</td>\n",
       "      <td>NaN</td>\n",
       "      <td>True</td>\n",
       "      <td>NaN</td>\n",
       "    </tr>\n",
       "    <tr>\n",
       "      <th>freq</th>\n",
       "      <td>NaN</td>\n",
       "      <td>1924</td>\n",
       "      <td>1855</td>\n",
       "      <td>NaN</td>\n",
       "      <td>1806</td>\n",
       "      <td>NaN</td>\n",
       "      <td>1636</td>\n",
       "      <td>NaN</td>\n",
       "      <td>1543</td>\n",
       "      <td>NaN</td>\n",
       "    </tr>\n",
       "    <tr>\n",
       "      <th>mean</th>\n",
       "      <td>21.676401</td>\n",
       "      <td>NaN</td>\n",
       "      <td>NaN</td>\n",
       "      <td>3.753213</td>\n",
       "      <td>NaN</td>\n",
       "      <td>2.210648</td>\n",
       "      <td>NaN</td>\n",
       "      <td>0.680642</td>\n",
       "      <td>NaN</td>\n",
       "      <td>6.109222</td>\n",
       "    </tr>\n",
       "    <tr>\n",
       "      <th>std</th>\n",
       "      <td>45.799991</td>\n",
       "      <td>NaN</td>\n",
       "      <td>NaN</td>\n",
       "      <td>17.824036</td>\n",
       "      <td>NaN</td>\n",
       "      <td>10.501403</td>\n",
       "      <td>NaN</td>\n",
       "      <td>1.868191</td>\n",
       "      <td>NaN</td>\n",
       "      <td>3.256148</td>\n",
       "    </tr>\n",
       "    <tr>\n",
       "      <th>min</th>\n",
       "      <td>0.000000</td>\n",
       "      <td>NaN</td>\n",
       "      <td>NaN</td>\n",
       "      <td>0.000000</td>\n",
       "      <td>NaN</td>\n",
       "      <td>0.000000</td>\n",
       "      <td>NaN</td>\n",
       "      <td>0.000000</td>\n",
       "      <td>NaN</td>\n",
       "      <td>0.000000</td>\n",
       "    </tr>\n",
       "    <tr>\n",
       "      <th>25%</th>\n",
       "      <td>0.000000</td>\n",
       "      <td>NaN</td>\n",
       "      <td>NaN</td>\n",
       "      <td>0.000000</td>\n",
       "      <td>NaN</td>\n",
       "      <td>0.000000</td>\n",
       "      <td>NaN</td>\n",
       "      <td>0.000000</td>\n",
       "      <td>NaN</td>\n",
       "      <td>4.000000</td>\n",
       "    </tr>\n",
       "    <tr>\n",
       "      <th>50%</th>\n",
       "      <td>0.000000</td>\n",
       "      <td>NaN</td>\n",
       "      <td>NaN</td>\n",
       "      <td>0.000000</td>\n",
       "      <td>NaN</td>\n",
       "      <td>0.000000</td>\n",
       "      <td>NaN</td>\n",
       "      <td>0.000000</td>\n",
       "      <td>NaN</td>\n",
       "      <td>8.000000</td>\n",
       "    </tr>\n",
       "    <tr>\n",
       "      <th>75%</th>\n",
       "      <td>35.000000</td>\n",
       "      <td>NaN</td>\n",
       "      <td>NaN</td>\n",
       "      <td>0.000000</td>\n",
       "      <td>NaN</td>\n",
       "      <td>0.000000</td>\n",
       "      <td>NaN</td>\n",
       "      <td>0.000000</td>\n",
       "      <td>NaN</td>\n",
       "      <td>8.000000</td>\n",
       "    </tr>\n",
       "    <tr>\n",
       "      <th>max</th>\n",
       "      <td>600.000000</td>\n",
       "      <td>NaN</td>\n",
       "      <td>NaN</td>\n",
       "      <td>100.000000</td>\n",
       "      <td>NaN</td>\n",
       "      <td>200.000000</td>\n",
       "      <td>NaN</td>\n",
       "      <td>10.000000</td>\n",
       "      <td>NaN</td>\n",
       "      <td>8.000000</td>\n",
       "    </tr>\n",
       "  </tbody>\n",
       "</table>\n",
       "</div>"
      ],
      "text/plain": [
       "        sufentanil.mcg continuous.sufentanil tramadol.pacu  \\\n",
       "count      1945.000000                  1945          1945   \n",
       "unique             NaN                     2             2   \n",
       "top                NaN                 False         False   \n",
       "freq               NaN                  1924          1855   \n",
       "mean         21.676401                   NaN           NaN   \n",
       "std          45.799991                   NaN           NaN   \n",
       "min           0.000000                   NaN           NaN   \n",
       "25%           0.000000                   NaN           NaN   \n",
       "50%           0.000000                   NaN           NaN   \n",
       "75%          35.000000                   NaN           NaN   \n",
       "max         600.000000                   NaN           NaN   \n",
       "\n",
       "        tramadol.dose.pacu intraoperative.ketamine  ketamine.dose  \\\n",
       "count          1945.000000                    1945    1944.000000   \n",
       "unique                 NaN                       2            NaN   \n",
       "top                    NaN                   False            NaN   \n",
       "freq                   NaN                    1806            NaN   \n",
       "mean              3.753213                     NaN       2.210648   \n",
       "std              17.824036                     NaN      10.501403   \n",
       "min               0.000000                     NaN       0.000000   \n",
       "25%               0.000000                     NaN       0.000000   \n",
       "50%               0.000000                     NaN       0.000000   \n",
       "75%               0.000000                     NaN       0.000000   \n",
       "max             100.000000                     NaN     200.000000   \n",
       "\n",
       "       intraoperative.morphine  intraoperative.morphine.dose  \\\n",
       "count                     1943                   1932.000000   \n",
       "unique                       2                           NaN   \n",
       "top                      False                           NaN   \n",
       "freq                      1636                           NaN   \n",
       "mean                       NaN                      0.680642   \n",
       "std                        NaN                      1.868191   \n",
       "min                        NaN                      0.000000   \n",
       "25%                        NaN                      0.000000   \n",
       "50%                        NaN                      0.000000   \n",
       "75%                        NaN                      0.000000   \n",
       "max                        NaN                     10.000000   \n",
       "\n",
       "       ondansetron.intraoperative  intraoperative.ondansetron.dose  \n",
       "count                        1945                      1941.000000  \n",
       "unique                          2                              NaN  \n",
       "top                          True                              NaN  \n",
       "freq                         1543                              NaN  \n",
       "mean                          NaN                         6.109222  \n",
       "std                           NaN                         3.256148  \n",
       "min                           NaN                         0.000000  \n",
       "25%                           NaN                         4.000000  \n",
       "50%                           NaN                         8.000000  \n",
       "75%                           NaN                         8.000000  \n",
       "max                           NaN                         8.000000  "
      ]
     },
     "execution_count": 6,
     "metadata": {},
     "output_type": "execute_result"
    }
   ],
   "source": [
    "raw_df.describe(include='all').iloc[:,20:30]"
   ]
  },
  {
   "cell_type": "code",
   "execution_count": 7,
   "metadata": {
    "ExecuteTime": {
     "end_time": "2020-08-08T22:41:29.694516Z",
     "start_time": "2020-08-08T22:41:29.568291Z"
    }
   },
   "outputs": [
    {
     "data": {
      "text/html": [
       "<div>\n",
       "<style scoped>\n",
       "    .dataframe tbody tr th:only-of-type {\n",
       "        vertical-align: middle;\n",
       "    }\n",
       "\n",
       "    .dataframe tbody tr th {\n",
       "        vertical-align: top;\n",
       "    }\n",
       "\n",
       "    .dataframe thead th {\n",
       "        text-align: right;\n",
       "    }\n",
       "</style>\n",
       "<table border=\"1\" class=\"dataframe\">\n",
       "  <thead>\n",
       "    <tr style=\"text-align: right;\">\n",
       "      <th></th>\n",
       "      <th>intraoperative.dexamethasone</th>\n",
       "      <th>dexamethasone.dose</th>\n",
       "      <th>intraoperative.dimenidrate</th>\n",
       "      <th>intraoperative.dimenidrate.dose</th>\n",
       "      <th>Intraoperative.metoclopramide</th>\n",
       "      <th>metoclopramide.dose</th>\n",
       "      <th>intraoperative.droperidol</th>\n",
       "      <th>droperidol.dose</th>\n",
       "      <th>nausea.6h</th>\n",
       "      <th>vomiting.6h</th>\n",
       "    </tr>\n",
       "  </thead>\n",
       "  <tbody>\n",
       "    <tr>\n",
       "      <th>count</th>\n",
       "      <td>1945</td>\n",
       "      <td>1937.000000</td>\n",
       "      <td>1945</td>\n",
       "      <td>1945.000000</td>\n",
       "      <td>1945</td>\n",
       "      <td>1945.000000</td>\n",
       "      <td>1945</td>\n",
       "      <td>1945.000000</td>\n",
       "      <td>1872</td>\n",
       "      <td>1866</td>\n",
       "    </tr>\n",
       "    <tr>\n",
       "      <th>unique</th>\n",
       "      <td>2</td>\n",
       "      <td>NaN</td>\n",
       "      <td>2</td>\n",
       "      <td>NaN</td>\n",
       "      <td>2</td>\n",
       "      <td>NaN</td>\n",
       "      <td>2</td>\n",
       "      <td>NaN</td>\n",
       "      <td>2</td>\n",
       "      <td>2</td>\n",
       "    </tr>\n",
       "    <tr>\n",
       "      <th>top</th>\n",
       "      <td>True</td>\n",
       "      <td>NaN</td>\n",
       "      <td>False</td>\n",
       "      <td>NaN</td>\n",
       "      <td>False</td>\n",
       "      <td>NaN</td>\n",
       "      <td>False</td>\n",
       "      <td>NaN</td>\n",
       "      <td>False</td>\n",
       "      <td>False</td>\n",
       "    </tr>\n",
       "    <tr>\n",
       "      <th>freq</th>\n",
       "      <td>1085</td>\n",
       "      <td>NaN</td>\n",
       "      <td>1931</td>\n",
       "      <td>NaN</td>\n",
       "      <td>1900</td>\n",
       "      <td>NaN</td>\n",
       "      <td>1931</td>\n",
       "      <td>NaN</td>\n",
       "      <td>1598</td>\n",
       "      <td>1714</td>\n",
       "    </tr>\n",
       "    <tr>\n",
       "      <th>mean</th>\n",
       "      <td>NaN</td>\n",
       "      <td>3.796593</td>\n",
       "      <td>NaN</td>\n",
       "      <td>0.246787</td>\n",
       "      <td>NaN</td>\n",
       "      <td>0.231362</td>\n",
       "      <td>NaN</td>\n",
       "      <td>0.034961</td>\n",
       "      <td>NaN</td>\n",
       "      <td>NaN</td>\n",
       "    </tr>\n",
       "    <tr>\n",
       "      <th>std</th>\n",
       "      <td>NaN</td>\n",
       "      <td>3.821282</td>\n",
       "      <td>NaN</td>\n",
       "      <td>3.049788</td>\n",
       "      <td>NaN</td>\n",
       "      <td>1.503748</td>\n",
       "      <td>NaN</td>\n",
       "      <td>0.435750</td>\n",
       "      <td>NaN</td>\n",
       "      <td>NaN</td>\n",
       "    </tr>\n",
       "    <tr>\n",
       "      <th>min</th>\n",
       "      <td>NaN</td>\n",
       "      <td>0.000000</td>\n",
       "      <td>NaN</td>\n",
       "      <td>0.000000</td>\n",
       "      <td>NaN</td>\n",
       "      <td>0.000000</td>\n",
       "      <td>NaN</td>\n",
       "      <td>0.000000</td>\n",
       "      <td>NaN</td>\n",
       "      <td>NaN</td>\n",
       "    </tr>\n",
       "    <tr>\n",
       "      <th>25%</th>\n",
       "      <td>NaN</td>\n",
       "      <td>0.000000</td>\n",
       "      <td>NaN</td>\n",
       "      <td>0.000000</td>\n",
       "      <td>NaN</td>\n",
       "      <td>0.000000</td>\n",
       "      <td>NaN</td>\n",
       "      <td>0.000000</td>\n",
       "      <td>NaN</td>\n",
       "      <td>NaN</td>\n",
       "    </tr>\n",
       "    <tr>\n",
       "      <th>50%</th>\n",
       "      <td>NaN</td>\n",
       "      <td>4.000000</td>\n",
       "      <td>NaN</td>\n",
       "      <td>0.000000</td>\n",
       "      <td>NaN</td>\n",
       "      <td>0.000000</td>\n",
       "      <td>NaN</td>\n",
       "      <td>0.000000</td>\n",
       "      <td>NaN</td>\n",
       "      <td>NaN</td>\n",
       "    </tr>\n",
       "    <tr>\n",
       "      <th>75%</th>\n",
       "      <td>NaN</td>\n",
       "      <td>8.000000</td>\n",
       "      <td>NaN</td>\n",
       "      <td>0.000000</td>\n",
       "      <td>NaN</td>\n",
       "      <td>0.000000</td>\n",
       "      <td>NaN</td>\n",
       "      <td>0.000000</td>\n",
       "      <td>NaN</td>\n",
       "      <td>NaN</td>\n",
       "    </tr>\n",
       "    <tr>\n",
       "      <th>max</th>\n",
       "      <td>NaN</td>\n",
       "      <td>10.000000</td>\n",
       "      <td>NaN</td>\n",
       "      <td>50.000000</td>\n",
       "      <td>NaN</td>\n",
       "      <td>10.000000</td>\n",
       "      <td>NaN</td>\n",
       "      <td>6.250000</td>\n",
       "      <td>NaN</td>\n",
       "      <td>NaN</td>\n",
       "    </tr>\n",
       "  </tbody>\n",
       "</table>\n",
       "</div>"
      ],
      "text/plain": [
       "       intraoperative.dexamethasone  dexamethasone.dose  \\\n",
       "count                          1945         1937.000000   \n",
       "unique                            2                 NaN   \n",
       "top                            True                 NaN   \n",
       "freq                           1085                 NaN   \n",
       "mean                            NaN            3.796593   \n",
       "std                             NaN            3.821282   \n",
       "min                             NaN            0.000000   \n",
       "25%                             NaN            0.000000   \n",
       "50%                             NaN            4.000000   \n",
       "75%                             NaN            8.000000   \n",
       "max                             NaN           10.000000   \n",
       "\n",
       "       intraoperative.dimenidrate  intraoperative.dimenidrate.dose  \\\n",
       "count                        1945                      1945.000000   \n",
       "unique                          2                              NaN   \n",
       "top                         False                              NaN   \n",
       "freq                         1931                              NaN   \n",
       "mean                          NaN                         0.246787   \n",
       "std                           NaN                         3.049788   \n",
       "min                           NaN                         0.000000   \n",
       "25%                           NaN                         0.000000   \n",
       "50%                           NaN                         0.000000   \n",
       "75%                           NaN                         0.000000   \n",
       "max                           NaN                        50.000000   \n",
       "\n",
       "       Intraoperative.metoclopramide  metoclopramide.dose  \\\n",
       "count                           1945          1945.000000   \n",
       "unique                             2                  NaN   \n",
       "top                            False                  NaN   \n",
       "freq                            1900                  NaN   \n",
       "mean                             NaN             0.231362   \n",
       "std                              NaN             1.503748   \n",
       "min                              NaN             0.000000   \n",
       "25%                              NaN             0.000000   \n",
       "50%                              NaN             0.000000   \n",
       "75%                              NaN             0.000000   \n",
       "max                              NaN            10.000000   \n",
       "\n",
       "       intraoperative.droperidol  droperidol.dose nausea.6h vomiting.6h  \n",
       "count                       1945      1945.000000      1872        1866  \n",
       "unique                         2              NaN         2           2  \n",
       "top                        False              NaN     False       False  \n",
       "freq                        1931              NaN      1598        1714  \n",
       "mean                         NaN         0.034961       NaN         NaN  \n",
       "std                          NaN         0.435750       NaN         NaN  \n",
       "min                          NaN         0.000000       NaN         NaN  \n",
       "25%                          NaN         0.000000       NaN         NaN  \n",
       "50%                          NaN         0.000000       NaN         NaN  \n",
       "75%                          NaN         0.000000       NaN         NaN  \n",
       "max                          NaN         6.250000       NaN         NaN  "
      ]
     },
     "execution_count": 7,
     "metadata": {},
     "output_type": "execute_result"
    }
   ],
   "source": [
    "raw_df.describe(include='all').iloc[:,30:40]"
   ]
  },
  {
   "cell_type": "code",
   "execution_count": 8,
   "metadata": {
    "ExecuteTime": {
     "end_time": "2020-08-08T22:41:29.823554Z",
     "start_time": "2020-08-08T22:41:29.697957Z"
    }
   },
   "outputs": [
    {
     "data": {
      "text/html": [
       "<div>\n",
       "<style scoped>\n",
       "    .dataframe tbody tr th:only-of-type {\n",
       "        vertical-align: middle;\n",
       "    }\n",
       "\n",
       "    .dataframe tbody tr th {\n",
       "        vertical-align: top;\n",
       "    }\n",
       "\n",
       "    .dataframe thead th {\n",
       "        text-align: right;\n",
       "    }\n",
       "</style>\n",
       "<table border=\"1\" class=\"dataframe\">\n",
       "  <thead>\n",
       "    <tr style=\"text-align: right;\">\n",
       "      <th></th>\n",
       "      <th>rescue.antiemetic.6h</th>\n",
       "      <th>rescue.antiemetic.6h.which</th>\n",
       "      <th>postoperative.systemic.analgesic.regular</th>\n",
       "      <th>postoperative.systemic.analgesi.rescue</th>\n",
       "      <th>epidural.pca.24h</th>\n",
       "      <th>venous.pca.24h</th>\n",
       "      <th>regular.antiemetic</th>\n",
       "      <th>rescue.antiemetic</th>\n",
       "      <th>received.rescue.antiemetic</th>\n",
       "      <th>rescue.dexametasone</th>\n",
       "    </tr>\n",
       "  </thead>\n",
       "  <tbody>\n",
       "    <tr>\n",
       "      <th>count</th>\n",
       "      <td>1827</td>\n",
       "      <td>1945.000000</td>\n",
       "      <td>1945.000000</td>\n",
       "      <td>1945.000000</td>\n",
       "      <td>1945</td>\n",
       "      <td>1945</td>\n",
       "      <td>1928</td>\n",
       "      <td>1923</td>\n",
       "      <td>1859</td>\n",
       "      <td>1937</td>\n",
       "    </tr>\n",
       "    <tr>\n",
       "      <th>unique</th>\n",
       "      <td>2</td>\n",
       "      <td>NaN</td>\n",
       "      <td>NaN</td>\n",
       "      <td>NaN</td>\n",
       "      <td>2</td>\n",
       "      <td>2</td>\n",
       "      <td>2</td>\n",
       "      <td>2</td>\n",
       "      <td>2</td>\n",
       "      <td>2</td>\n",
       "    </tr>\n",
       "    <tr>\n",
       "      <th>top</th>\n",
       "      <td>False</td>\n",
       "      <td>NaN</td>\n",
       "      <td>NaN</td>\n",
       "      <td>NaN</td>\n",
       "      <td>False</td>\n",
       "      <td>False</td>\n",
       "      <td>False</td>\n",
       "      <td>True</td>\n",
       "      <td>False</td>\n",
       "      <td>False</td>\n",
       "    </tr>\n",
       "    <tr>\n",
       "      <th>freq</th>\n",
       "      <td>1670</td>\n",
       "      <td>NaN</td>\n",
       "      <td>NaN</td>\n",
       "      <td>NaN</td>\n",
       "      <td>1664</td>\n",
       "      <td>1770</td>\n",
       "      <td>1180</td>\n",
       "      <td>1215</td>\n",
       "      <td>1526</td>\n",
       "      <td>1927</td>\n",
       "    </tr>\n",
       "    <tr>\n",
       "      <th>mean</th>\n",
       "      <td>NaN</td>\n",
       "      <td>3.853985</td>\n",
       "      <td>2.550129</td>\n",
       "      <td>2.033419</td>\n",
       "      <td>NaN</td>\n",
       "      <td>NaN</td>\n",
       "      <td>NaN</td>\n",
       "      <td>NaN</td>\n",
       "      <td>NaN</td>\n",
       "      <td>NaN</td>\n",
       "    </tr>\n",
       "    <tr>\n",
       "      <th>std</th>\n",
       "      <td>NaN</td>\n",
       "      <td>0.665327</td>\n",
       "      <td>2.353021</td>\n",
       "      <td>1.699193</td>\n",
       "      <td>NaN</td>\n",
       "      <td>NaN</td>\n",
       "      <td>NaN</td>\n",
       "      <td>NaN</td>\n",
       "      <td>NaN</td>\n",
       "      <td>NaN</td>\n",
       "    </tr>\n",
       "    <tr>\n",
       "      <th>min</th>\n",
       "      <td>NaN</td>\n",
       "      <td>1.000000</td>\n",
       "      <td>1.000000</td>\n",
       "      <td>1.000000</td>\n",
       "      <td>NaN</td>\n",
       "      <td>NaN</td>\n",
       "      <td>NaN</td>\n",
       "      <td>NaN</td>\n",
       "      <td>NaN</td>\n",
       "      <td>NaN</td>\n",
       "    </tr>\n",
       "    <tr>\n",
       "      <th>25%</th>\n",
       "      <td>NaN</td>\n",
       "      <td>4.000000</td>\n",
       "      <td>1.000000</td>\n",
       "      <td>1.000000</td>\n",
       "      <td>NaN</td>\n",
       "      <td>NaN</td>\n",
       "      <td>NaN</td>\n",
       "      <td>NaN</td>\n",
       "      <td>NaN</td>\n",
       "      <td>NaN</td>\n",
       "    </tr>\n",
       "    <tr>\n",
       "      <th>50%</th>\n",
       "      <td>NaN</td>\n",
       "      <td>4.000000</td>\n",
       "      <td>1.000000</td>\n",
       "      <td>1.000000</td>\n",
       "      <td>NaN</td>\n",
       "      <td>NaN</td>\n",
       "      <td>NaN</td>\n",
       "      <td>NaN</td>\n",
       "      <td>NaN</td>\n",
       "      <td>NaN</td>\n",
       "    </tr>\n",
       "    <tr>\n",
       "      <th>75%</th>\n",
       "      <td>NaN</td>\n",
       "      <td>4.000000</td>\n",
       "      <td>4.000000</td>\n",
       "      <td>3.000000</td>\n",
       "      <td>NaN</td>\n",
       "      <td>NaN</td>\n",
       "      <td>NaN</td>\n",
       "      <td>NaN</td>\n",
       "      <td>NaN</td>\n",
       "      <td>NaN</td>\n",
       "    </tr>\n",
       "    <tr>\n",
       "      <th>max</th>\n",
       "      <td>NaN</td>\n",
       "      <td>5.000000</td>\n",
       "      <td>12.000000</td>\n",
       "      <td>8.000000</td>\n",
       "      <td>NaN</td>\n",
       "      <td>NaN</td>\n",
       "      <td>NaN</td>\n",
       "      <td>NaN</td>\n",
       "      <td>NaN</td>\n",
       "      <td>NaN</td>\n",
       "    </tr>\n",
       "  </tbody>\n",
       "</table>\n",
       "</div>"
      ],
      "text/plain": [
       "       rescue.antiemetic.6h  rescue.antiemetic.6h.which  \\\n",
       "count                  1827                 1945.000000   \n",
       "unique                    2                         NaN   \n",
       "top                   False                         NaN   \n",
       "freq                   1670                         NaN   \n",
       "mean                    NaN                    3.853985   \n",
       "std                     NaN                    0.665327   \n",
       "min                     NaN                    1.000000   \n",
       "25%                     NaN                    4.000000   \n",
       "50%                     NaN                    4.000000   \n",
       "75%                     NaN                    4.000000   \n",
       "max                     NaN                    5.000000   \n",
       "\n",
       "        postoperative.systemic.analgesic.regular  \\\n",
       "count                                1945.000000   \n",
       "unique                                       NaN   \n",
       "top                                          NaN   \n",
       "freq                                         NaN   \n",
       "mean                                    2.550129   \n",
       "std                                     2.353021   \n",
       "min                                     1.000000   \n",
       "25%                                     1.000000   \n",
       "50%                                     1.000000   \n",
       "75%                                     4.000000   \n",
       "max                                    12.000000   \n",
       "\n",
       "        postoperative.systemic.analgesi.rescue epidural.pca.24h  \\\n",
       "count                              1945.000000             1945   \n",
       "unique                                     NaN                2   \n",
       "top                                        NaN            False   \n",
       "freq                                       NaN             1664   \n",
       "mean                                  2.033419              NaN   \n",
       "std                                   1.699193              NaN   \n",
       "min                                   1.000000              NaN   \n",
       "25%                                   1.000000              NaN   \n",
       "50%                                   1.000000              NaN   \n",
       "75%                                   3.000000              NaN   \n",
       "max                                   8.000000              NaN   \n",
       "\n",
       "       venous.pca.24h regular.antiemetic rescue.antiemetic  \\\n",
       "count            1945               1928              1923   \n",
       "unique              2                  2                 2   \n",
       "top             False              False              True   \n",
       "freq             1770               1180              1215   \n",
       "mean              NaN                NaN               NaN   \n",
       "std               NaN                NaN               NaN   \n",
       "min               NaN                NaN               NaN   \n",
       "25%               NaN                NaN               NaN   \n",
       "50%               NaN                NaN               NaN   \n",
       "75%               NaN                NaN               NaN   \n",
       "max               NaN                NaN               NaN   \n",
       "\n",
       "       received.rescue.antiemetic rescue.dexametasone  \n",
       "count                        1859                1937  \n",
       "unique                          2                   2  \n",
       "top                         False               False  \n",
       "freq                         1526                1927  \n",
       "mean                          NaN                 NaN  \n",
       "std                           NaN                 NaN  \n",
       "min                           NaN                 NaN  \n",
       "25%                           NaN                 NaN  \n",
       "50%                           NaN                 NaN  \n",
       "75%                           NaN                 NaN  \n",
       "max                           NaN                 NaN  "
      ]
     },
     "execution_count": 8,
     "metadata": {},
     "output_type": "execute_result"
    }
   ],
   "source": [
    "raw_df.describe(include='all').iloc[:,40:50]"
   ]
  },
  {
   "cell_type": "code",
   "execution_count": 9,
   "metadata": {
    "ExecuteTime": {
     "end_time": "2020-08-08T22:41:29.953555Z",
     "start_time": "2020-08-08T22:41:29.826941Z"
    }
   },
   "outputs": [
    {
     "data": {
      "text/html": [
       "<div>\n",
       "<style scoped>\n",
       "    .dataframe tbody tr th:only-of-type {\n",
       "        vertical-align: middle;\n",
       "    }\n",
       "\n",
       "    .dataframe tbody tr th {\n",
       "        vertical-align: top;\n",
       "    }\n",
       "\n",
       "    .dataframe thead th {\n",
       "        text-align: right;\n",
       "    }\n",
       "</style>\n",
       "<table border=\"1\" class=\"dataframe\">\n",
       "  <thead>\n",
       "    <tr style=\"text-align: right;\">\n",
       "      <th></th>\n",
       "      <th>rescue.dimenidrate</th>\n",
       "      <th>rescue.bromopride</th>\n",
       "      <th>rescue.metoclopramide</th>\n",
       "      <th>regular.ondansetron</th>\n",
       "      <th>regular.dexamethasone</th>\n",
       "      <th>regular.dimenidrate</th>\n",
       "      <th>regular.bromopride</th>\n",
       "      <th>regular.metoclopramide</th>\n",
       "      <th>regular.droperidol</th>\n",
       "      <th>ever.smoked.1</th>\n",
       "    </tr>\n",
       "  </thead>\n",
       "  <tbody>\n",
       "    <tr>\n",
       "      <th>count</th>\n",
       "      <td>1931</td>\n",
       "      <td>1938</td>\n",
       "      <td>1934</td>\n",
       "      <td>1936</td>\n",
       "      <td>1934</td>\n",
       "      <td>1933</td>\n",
       "      <td>1933</td>\n",
       "      <td>1933</td>\n",
       "      <td>1793</td>\n",
       "      <td>1945</td>\n",
       "    </tr>\n",
       "    <tr>\n",
       "      <th>unique</th>\n",
       "      <td>2</td>\n",
       "      <td>2</td>\n",
       "      <td>2</td>\n",
       "      <td>2</td>\n",
       "      <td>2</td>\n",
       "      <td>2</td>\n",
       "      <td>2</td>\n",
       "      <td>2</td>\n",
       "      <td>2</td>\n",
       "      <td>2</td>\n",
       "    </tr>\n",
       "    <tr>\n",
       "      <th>top</th>\n",
       "      <td>False</td>\n",
       "      <td>False</td>\n",
       "      <td>False</td>\n",
       "      <td>False</td>\n",
       "      <td>False</td>\n",
       "      <td>False</td>\n",
       "      <td>False</td>\n",
       "      <td>False</td>\n",
       "      <td>False</td>\n",
       "      <td>False</td>\n",
       "    </tr>\n",
       "    <tr>\n",
       "      <th>freq</th>\n",
       "      <td>1870</td>\n",
       "      <td>1392</td>\n",
       "      <td>1443</td>\n",
       "      <td>1264</td>\n",
       "      <td>1805</td>\n",
       "      <td>1924</td>\n",
       "      <td>1892</td>\n",
       "      <td>1713</td>\n",
       "      <td>1787</td>\n",
       "      <td>1058</td>\n",
       "    </tr>\n",
       "    <tr>\n",
       "      <th>mean</th>\n",
       "      <td>NaN</td>\n",
       "      <td>NaN</td>\n",
       "      <td>NaN</td>\n",
       "      <td>NaN</td>\n",
       "      <td>NaN</td>\n",
       "      <td>NaN</td>\n",
       "      <td>NaN</td>\n",
       "      <td>NaN</td>\n",
       "      <td>NaN</td>\n",
       "      <td>NaN</td>\n",
       "    </tr>\n",
       "    <tr>\n",
       "      <th>std</th>\n",
       "      <td>NaN</td>\n",
       "      <td>NaN</td>\n",
       "      <td>NaN</td>\n",
       "      <td>NaN</td>\n",
       "      <td>NaN</td>\n",
       "      <td>NaN</td>\n",
       "      <td>NaN</td>\n",
       "      <td>NaN</td>\n",
       "      <td>NaN</td>\n",
       "      <td>NaN</td>\n",
       "    </tr>\n",
       "    <tr>\n",
       "      <th>min</th>\n",
       "      <td>NaN</td>\n",
       "      <td>NaN</td>\n",
       "      <td>NaN</td>\n",
       "      <td>NaN</td>\n",
       "      <td>NaN</td>\n",
       "      <td>NaN</td>\n",
       "      <td>NaN</td>\n",
       "      <td>NaN</td>\n",
       "      <td>NaN</td>\n",
       "      <td>NaN</td>\n",
       "    </tr>\n",
       "    <tr>\n",
       "      <th>25%</th>\n",
       "      <td>NaN</td>\n",
       "      <td>NaN</td>\n",
       "      <td>NaN</td>\n",
       "      <td>NaN</td>\n",
       "      <td>NaN</td>\n",
       "      <td>NaN</td>\n",
       "      <td>NaN</td>\n",
       "      <td>NaN</td>\n",
       "      <td>NaN</td>\n",
       "      <td>NaN</td>\n",
       "    </tr>\n",
       "    <tr>\n",
       "      <th>50%</th>\n",
       "      <td>NaN</td>\n",
       "      <td>NaN</td>\n",
       "      <td>NaN</td>\n",
       "      <td>NaN</td>\n",
       "      <td>NaN</td>\n",
       "      <td>NaN</td>\n",
       "      <td>NaN</td>\n",
       "      <td>NaN</td>\n",
       "      <td>NaN</td>\n",
       "      <td>NaN</td>\n",
       "    </tr>\n",
       "    <tr>\n",
       "      <th>75%</th>\n",
       "      <td>NaN</td>\n",
       "      <td>NaN</td>\n",
       "      <td>NaN</td>\n",
       "      <td>NaN</td>\n",
       "      <td>NaN</td>\n",
       "      <td>NaN</td>\n",
       "      <td>NaN</td>\n",
       "      <td>NaN</td>\n",
       "      <td>NaN</td>\n",
       "      <td>NaN</td>\n",
       "    </tr>\n",
       "    <tr>\n",
       "      <th>max</th>\n",
       "      <td>NaN</td>\n",
       "      <td>NaN</td>\n",
       "      <td>NaN</td>\n",
       "      <td>NaN</td>\n",
       "      <td>NaN</td>\n",
       "      <td>NaN</td>\n",
       "      <td>NaN</td>\n",
       "      <td>NaN</td>\n",
       "      <td>NaN</td>\n",
       "      <td>NaN</td>\n",
       "    </tr>\n",
       "  </tbody>\n",
       "</table>\n",
       "</div>"
      ],
      "text/plain": [
       "       rescue.dimenidrate rescue.bromopride rescue.metoclopramide  \\\n",
       "count                1931              1938                  1934   \n",
       "unique                  2                 2                     2   \n",
       "top                 False             False                 False   \n",
       "freq                 1870              1392                  1443   \n",
       "mean                  NaN               NaN                   NaN   \n",
       "std                   NaN               NaN                   NaN   \n",
       "min                   NaN               NaN                   NaN   \n",
       "25%                   NaN               NaN                   NaN   \n",
       "50%                   NaN               NaN                   NaN   \n",
       "75%                   NaN               NaN                   NaN   \n",
       "max                   NaN               NaN                   NaN   \n",
       "\n",
       "       regular.ondansetron regular.dexamethasone regular.dimenidrate  \\\n",
       "count                 1936                  1934                1933   \n",
       "unique                   2                     2                   2   \n",
       "top                  False                 False               False   \n",
       "freq                  1264                  1805                1924   \n",
       "mean                   NaN                   NaN                 NaN   \n",
       "std                    NaN                   NaN                 NaN   \n",
       "min                    NaN                   NaN                 NaN   \n",
       "25%                    NaN                   NaN                 NaN   \n",
       "50%                    NaN                   NaN                 NaN   \n",
       "75%                    NaN                   NaN                 NaN   \n",
       "max                    NaN                   NaN                 NaN   \n",
       "\n",
       "       regular.bromopride regular.metoclopramide regular.droperidol  \\\n",
       "count                1933                   1933               1793   \n",
       "unique                  2                      2                  2   \n",
       "top                 False                  False              False   \n",
       "freq                 1892                   1713               1787   \n",
       "mean                  NaN                    NaN                NaN   \n",
       "std                   NaN                    NaN                NaN   \n",
       "min                   NaN                    NaN                NaN   \n",
       "25%                   NaN                    NaN                NaN   \n",
       "50%                   NaN                    NaN                NaN   \n",
       "75%                   NaN                    NaN                NaN   \n",
       "max                   NaN                    NaN                NaN   \n",
       "\n",
       "       ever.smoked.1  \n",
       "count           1945  \n",
       "unique             2  \n",
       "top            False  \n",
       "freq            1058  \n",
       "mean             NaN  \n",
       "std              NaN  \n",
       "min              NaN  \n",
       "25%              NaN  \n",
       "50%              NaN  \n",
       "75%              NaN  \n",
       "max              NaN  "
      ]
     },
     "execution_count": 9,
     "metadata": {},
     "output_type": "execute_result"
    }
   ],
   "source": [
    "raw_df.describe(include='all').iloc[:,50:60]"
   ]
  },
  {
   "cell_type": "code",
   "execution_count": 10,
   "metadata": {
    "ExecuteTime": {
     "end_time": "2020-08-08T22:41:30.079286Z",
     "start_time": "2020-08-08T22:41:29.955394Z"
    }
   },
   "outputs": [
    {
     "data": {
      "text/html": [
       "<div>\n",
       "<style scoped>\n",
       "    .dataframe tbody tr th:only-of-type {\n",
       "        vertical-align: middle;\n",
       "    }\n",
       "\n",
       "    .dataframe tbody tr th {\n",
       "        vertical-align: top;\n",
       "    }\n",
       "\n",
       "    .dataframe thead th {\n",
       "        text-align: right;\n",
       "    }\n",
       "</style>\n",
       "<table border=\"1\" class=\"dataframe\">\n",
       "  <thead>\n",
       "    <tr style=\"text-align: right;\">\n",
       "      <th></th>\n",
       "      <th>when.stopped.smoking</th>\n",
       "      <th>packets.years</th>\n",
       "      <th>nausea.24h</th>\n",
       "      <th>ponv</th>\n",
       "      <th>nausea24h.intensity</th>\n",
       "      <th>vomiting24h</th>\n",
       "      <th>vomiting24h.count</th>\n",
       "    </tr>\n",
       "  </thead>\n",
       "  <tbody>\n",
       "    <tr>\n",
       "      <th>count</th>\n",
       "      <td>1870</td>\n",
       "      <td>1739</td>\n",
       "      <td>1902</td>\n",
       "      <td>1902</td>\n",
       "      <td>1875.000000</td>\n",
       "      <td>1909</td>\n",
       "      <td>1896.000000</td>\n",
       "    </tr>\n",
       "    <tr>\n",
       "      <th>unique</th>\n",
       "      <td>5</td>\n",
       "      <td>60</td>\n",
       "      <td>2</td>\n",
       "      <td>2</td>\n",
       "      <td>NaN</td>\n",
       "      <td>2</td>\n",
       "      <td>NaN</td>\n",
       "    </tr>\n",
       "    <tr>\n",
       "      <th>top</th>\n",
       "      <td>e.never.smoked</td>\n",
       "      <td>0</td>\n",
       "      <td>False</td>\n",
       "      <td>False</td>\n",
       "      <td>NaN</td>\n",
       "      <td>False</td>\n",
       "      <td>NaN</td>\n",
       "    </tr>\n",
       "    <tr>\n",
       "      <th>freq</th>\n",
       "      <td>1058</td>\n",
       "      <td>1195</td>\n",
       "      <td>1325</td>\n",
       "      <td>1325</td>\n",
       "      <td>NaN</td>\n",
       "      <td>1582</td>\n",
       "      <td>NaN</td>\n",
       "    </tr>\n",
       "    <tr>\n",
       "      <th>mean</th>\n",
       "      <td>NaN</td>\n",
       "      <td>NaN</td>\n",
       "      <td>NaN</td>\n",
       "      <td>NaN</td>\n",
       "      <td>1.628267</td>\n",
       "      <td>NaN</td>\n",
       "      <td>0.955696</td>\n",
       "    </tr>\n",
       "    <tr>\n",
       "      <th>std</th>\n",
       "      <td>NaN</td>\n",
       "      <td>NaN</td>\n",
       "      <td>NaN</td>\n",
       "      <td>NaN</td>\n",
       "      <td>2.967622</td>\n",
       "      <td>NaN</td>\n",
       "      <td>2.525676</td>\n",
       "    </tr>\n",
       "    <tr>\n",
       "      <th>min</th>\n",
       "      <td>NaN</td>\n",
       "      <td>NaN</td>\n",
       "      <td>NaN</td>\n",
       "      <td>NaN</td>\n",
       "      <td>0.000000</td>\n",
       "      <td>NaN</td>\n",
       "      <td>0.000000</td>\n",
       "    </tr>\n",
       "    <tr>\n",
       "      <th>25%</th>\n",
       "      <td>NaN</td>\n",
       "      <td>NaN</td>\n",
       "      <td>NaN</td>\n",
       "      <td>NaN</td>\n",
       "      <td>0.000000</td>\n",
       "      <td>NaN</td>\n",
       "      <td>0.000000</td>\n",
       "    </tr>\n",
       "    <tr>\n",
       "      <th>50%</th>\n",
       "      <td>NaN</td>\n",
       "      <td>NaN</td>\n",
       "      <td>NaN</td>\n",
       "      <td>NaN</td>\n",
       "      <td>0.000000</td>\n",
       "      <td>NaN</td>\n",
       "      <td>0.000000</td>\n",
       "    </tr>\n",
       "    <tr>\n",
       "      <th>75%</th>\n",
       "      <td>NaN</td>\n",
       "      <td>NaN</td>\n",
       "      <td>NaN</td>\n",
       "      <td>NaN</td>\n",
       "      <td>2.000000</td>\n",
       "      <td>NaN</td>\n",
       "      <td>0.000000</td>\n",
       "    </tr>\n",
       "    <tr>\n",
       "      <th>max</th>\n",
       "      <td>NaN</td>\n",
       "      <td>NaN</td>\n",
       "      <td>NaN</td>\n",
       "      <td>NaN</td>\n",
       "      <td>10.000000</td>\n",
       "      <td>NaN</td>\n",
       "      <td>10.000000</td>\n",
       "    </tr>\n",
       "  </tbody>\n",
       "</table>\n",
       "</div>"
      ],
      "text/plain": [
       "       when.stopped.smoking packets.years nausea.24h   ponv  \\\n",
       "count                  1870          1739       1902   1902   \n",
       "unique                    5            60          2      2   \n",
       "top          e.never.smoked             0      False  False   \n",
       "freq                   1058          1195       1325   1325   \n",
       "mean                    NaN           NaN        NaN    NaN   \n",
       "std                     NaN           NaN        NaN    NaN   \n",
       "min                     NaN           NaN        NaN    NaN   \n",
       "25%                     NaN           NaN        NaN    NaN   \n",
       "50%                     NaN           NaN        NaN    NaN   \n",
       "75%                     NaN           NaN        NaN    NaN   \n",
       "max                     NaN           NaN        NaN    NaN   \n",
       "\n",
       "        nausea24h.intensity vomiting24h  vomiting24h.count  \n",
       "count           1875.000000        1909        1896.000000  \n",
       "unique                  NaN           2                NaN  \n",
       "top                     NaN       False                NaN  \n",
       "freq                    NaN        1582                NaN  \n",
       "mean               1.628267         NaN           0.955696  \n",
       "std                2.967622         NaN           2.525676  \n",
       "min                0.000000         NaN           0.000000  \n",
       "25%                0.000000         NaN           0.000000  \n",
       "50%                0.000000         NaN           0.000000  \n",
       "75%                2.000000         NaN           0.000000  \n",
       "max               10.000000         NaN          10.000000  "
      ]
     },
     "execution_count": 10,
     "metadata": {},
     "output_type": "execute_result"
    }
   ],
   "source": [
    "raw_df.describe(include='all').iloc[:,60:67]"
   ]
  },
  {
   "cell_type": "code",
   "execution_count": 12,
   "metadata": {
    "ExecuteTime": {
     "end_time": "2020-08-08T22:41:30.089742Z",
     "start_time": "2020-08-08T22:41:30.086671Z"
    }
   },
   "outputs": [],
   "source": [
    "data_for_sql = raw_df.copy()"
   ]
  },
  {
   "cell_type": "markdown",
   "metadata": {},
   "source": [
    "### Cleaning up how.many.months.ago.chemotherapy"
   ]
  },
  {
   "cell_type": "code",
   "execution_count": 13,
   "metadata": {
    "ExecuteTime": {
     "end_time": "2020-08-08T22:41:30.094988Z",
     "start_time": "2020-08-08T22:41:30.091229Z"
    }
   },
   "outputs": [
    {
     "data": {
      "text/plain": [
       "1276"
      ]
     },
     "execution_count": 13,
     "metadata": {},
     "output_type": "execute_result"
    }
   ],
   "source": [
    "raw_df['how.many.months.ago.chemotherapy'].isna().sum()"
   ]
  },
  {
   "cell_type": "markdown",
   "metadata": {},
   "source": [
    "#### Assuming that if the previous chemotherapy is False, how.many.months.ago should be 0\n",
    "imputing 0 to null values in how.many.month.ago where previous.chemotherapy == False"
   ]
  },
  {
   "cell_type": "code",
   "execution_count": 14,
   "metadata": {
    "ExecuteTime": {
     "end_time": "2020-08-08T22:41:30.106260Z",
     "start_time": "2020-08-08T22:41:30.096502Z"
    }
   },
   "outputs": [
    {
     "data": {
      "text/html": [
       "<div>\n",
       "<style scoped>\n",
       "    .dataframe tbody tr th:only-of-type {\n",
       "        vertical-align: middle;\n",
       "    }\n",
       "\n",
       "    .dataframe tbody tr th {\n",
       "        vertical-align: top;\n",
       "    }\n",
       "\n",
       "    .dataframe thead th {\n",
       "        text-align: right;\n",
       "    }\n",
       "</style>\n",
       "<table border=\"1\" class=\"dataframe\">\n",
       "  <thead>\n",
       "    <tr style=\"text-align: right;\">\n",
       "      <th></th>\n",
       "      <th>non.smoker</th>\n",
       "      <th>surgical.procedure</th>\n",
       "      <th>surgery.group</th>\n",
       "      <th>chronic opioid user</th>\n",
       "      <th>previous.chemotherapy</th>\n",
       "      <th>how.many.months.ago.chemotherapy</th>\n",
       "      <th>chemotherapy.emetogenicity</th>\n",
       "    </tr>\n",
       "    <tr>\n",
       "      <th>num</th>\n",
       "      <th></th>\n",
       "      <th></th>\n",
       "      <th></th>\n",
       "      <th></th>\n",
       "      <th></th>\n",
       "      <th></th>\n",
       "      <th></th>\n",
       "    </tr>\n",
       "  </thead>\n",
       "  <tbody>\n",
       "    <tr>\n",
       "      <th>1559</th>\n",
       "      <td>False</td>\n",
       "      <td>Cistectomia</td>\n",
       "      <td>Urologic Surgery</td>\n",
       "      <td>False</td>\n",
       "      <td>False</td>\n",
       "      <td>12.0</td>\n",
       "      <td>b.low(10-30%)</td>\n",
       "    </tr>\n",
       "  </tbody>\n",
       "</table>\n",
       "</div>"
      ],
      "text/plain": [
       "      non.smoker surgical.procedure     surgery.group chronic opioid user  \\\n",
       "num                                                                         \n",
       "1559       False        Cistectomia  Urologic Surgery               False   \n",
       "\n",
       "      previous.chemotherapy  how.many.months.ago.chemotherapy  \\\n",
       "num                                                             \n",
       "1559                  False                              12.0   \n",
       "\n",
       "     chemotherapy.emetogenicity  \n",
       "num                              \n",
       "1559              b.low(10-30%)  "
      ]
     },
     "execution_count": 14,
     "metadata": {},
     "output_type": "execute_result"
    }
   ],
   "source": [
    "data_for_sql[(data_for_sql['previous.chemotherapy'] == False) &\n",
    "            data_for_sql['how.many.months.ago.chemotherapy']].iloc[:,5:12]"
   ]
  },
  {
   "cell_type": "code",
   "execution_count": 15,
   "metadata": {
    "ExecuteTime": {
     "end_time": "2020-08-08T22:41:30.112929Z",
     "start_time": "2020-08-08T22:41:30.107916Z"
    }
   },
   "outputs": [
    {
     "data": {
      "text/plain": [
       "True"
      ]
     },
     "execution_count": 15,
     "metadata": {},
     "output_type": "execute_result"
    }
   ],
   "source": [
    "# Fixing the one error above\n",
    "data_for_sql.loc[1559,'previous.chemotherapy'] = True\n",
    "data_for_sql.loc[1559,'previous.chemotherapy']"
   ]
  },
  {
   "cell_type": "code",
   "execution_count": 16,
   "metadata": {
    "ExecuteTime": {
     "end_time": "2020-08-08T22:41:30.124258Z",
     "start_time": "2020-08-08T22:41:30.117022Z"
    }
   },
   "outputs": [
    {
     "data": {
      "text/plain": [
       "(704, 68)"
      ]
     },
     "execution_count": 16,
     "metadata": {},
     "output_type": "execute_result"
    }
   ],
   "source": [
    "# Based on all the PCNV data, we can make an educated guess that ~704 patients are post-chemo.\n",
    "data_for_sql[data_for_sql['previous.chemotherapy'] == True].shape"
   ]
  },
  {
   "cell_type": "code",
   "execution_count": 17,
   "metadata": {
    "ExecuteTime": {
     "end_time": "2020-08-08T22:41:30.166402Z",
     "start_time": "2020-08-08T22:41:30.125995Z"
    }
   },
   "outputs": [],
   "source": [
    "# Fill all \"how many months ago\" to 0 if previous chemotherapy is false\n",
    "data_for_sql['how.many.months.ago.chemotherapy'] = data_for_sql.apply(lambda row: 0 if \\\n",
    "                                                                     row['previous.chemotherapy'] == False else\\\n",
    "                                                                    row['how.many.months.ago.chemotherapy'], axis=1)\n"
   ]
  },
  {
   "cell_type": "code",
   "execution_count": 18,
   "metadata": {
    "ExecuteTime": {
     "end_time": "2020-08-08T22:41:30.172408Z",
     "start_time": "2020-08-08T22:41:30.168046Z"
    }
   },
   "outputs": [
    {
     "data": {
      "text/plain": [
       "(35, 68)"
      ]
     },
     "execution_count": 18,
     "metadata": {},
     "output_type": "execute_result"
    }
   ],
   "source": [
    "# Data unavailable for 35 patients with chemo. Filling with median of 3.\n",
    "data_for_sql[data_for_sql['how.many.months.ago.chemotherapy'].isna()].shape"
   ]
  },
  {
   "cell_type": "code",
   "execution_count": 19,
   "metadata": {
    "ExecuteTime": {
     "end_time": "2020-08-08T22:41:30.179492Z",
     "start_time": "2020-08-08T22:41:30.173921Z"
    }
   },
   "outputs": [
    {
     "data": {
      "text/plain": [
       "3.0"
      ]
     },
     "execution_count": 19,
     "metadata": {},
     "output_type": "execute_result"
    }
   ],
   "source": [
    "data_for_sql[(data_for_sql['how.many.months.ago.chemotherapy']>0) &\n",
    "            (data_for_sql['how.many.months.ago.chemotherapy']<120)].loc[:,'how.many.months.ago.chemotherapy'].median()"
   ]
  },
  {
   "cell_type": "code",
   "execution_count": 20,
   "metadata": {
    "ExecuteTime": {
     "end_time": "2020-08-08T22:41:30.183895Z",
     "start_time": "2020-08-08T22:41:30.181325Z"
    }
   },
   "outputs": [],
   "source": [
    "data_for_sql['how.many.months.ago.chemotherapy'].fillna(3, inplace=True)"
   ]
  },
  {
   "cell_type": "markdown",
   "metadata": {},
   "source": [
    "### Chronic opioid user clean\n",
    "My thought is to assume that the NaNs are false as ~87% of patients surveyed are chronice opioid users.\n",
    "\n",
    "**Phase II:** Examine characteristics of true chronic opioid users and make an educated guess on whether the patient is a chronic user."
   ]
  },
  {
   "cell_type": "code",
   "execution_count": 21,
   "metadata": {
    "ExecuteTime": {
     "end_time": "2020-08-08T22:41:30.189217Z",
     "start_time": "2020-08-08T22:41:30.185445Z"
    }
   },
   "outputs": [],
   "source": [
    "data_for_sql['chronic opioid user'].fillna(False, inplace=True)"
   ]
  },
  {
   "cell_type": "markdown",
   "metadata": {},
   "source": [
    "## Chemotherapy emetogenicity\n",
    "Will likely drop this column because post chemo nausea and vomiting are the same thing. For now for the purpose of data preservation, I will fill with an empty string ''."
   ]
  },
  {
   "cell_type": "code",
   "execution_count": 22,
   "metadata": {
    "ExecuteTime": {
     "end_time": "2020-08-08T22:41:30.194298Z",
     "start_time": "2020-08-08T22:41:30.190930Z"
    }
   },
   "outputs": [
    {
     "data": {
      "text/plain": [
       "1330"
      ]
     },
     "execution_count": 22,
     "metadata": {},
     "output_type": "execute_result"
    }
   ],
   "source": [
    "# Missing approximately 90 data points. Maintain as Null.\n",
    "data_for_sql['chemotherapy.emetogenicity'].isna().sum()"
   ]
  },
  {
   "cell_type": "code",
   "execution_count": 23,
   "metadata": {
    "ExecuteTime": {
     "end_time": "2020-08-08T22:41:30.205341Z",
     "start_time": "2020-08-08T22:41:30.199915Z"
    }
   },
   "outputs": [],
   "source": [
    "# convert ['b.low(10-30%)'; 'c.moderate(30-90%)'; 'd.high(>90%)'; 'a.minimal(<10%)'] to ordinal int values\n",
    "emeto_scale_dict = dict(zip(data_for_sql['chemotherapy.emetogenicity'].value_counts().index,\\\n",
    "                            [2, 3, 4, 1]))\n",
    "data_for_sql['chemotherapy.emetogenicity'] = data_for_sql['chemotherapy.emetogenicity'].map(emeto_scale_dict)"
   ]
  },
  {
   "cell_type": "code",
   "execution_count": 24,
   "metadata": {
    "ExecuteTime": {
     "end_time": "2020-08-08T22:41:30.213666Z",
     "start_time": "2020-08-08T22:41:30.210151Z"
    }
   },
   "outputs": [],
   "source": [
    "data_for_sql['chemotherapy.emetogenicity'].fillna('', inplace=True)"
   ]
  },
  {
   "cell_type": "markdown",
   "metadata": {},
   "source": [
    "I initially speculated that anybody with a False post-chemo meant they didn't receive chemo but the assumption is inconsistent with the fact that there are some patients who have PCNV despite not going through chemo."
   ]
  },
  {
   "cell_type": "code",
   "execution_count": 25,
   "metadata": {
    "ExecuteTime": {
     "end_time": "2020-08-08T22:41:30.221492Z",
     "start_time": "2020-08-08T22:41:30.215154Z"
    }
   },
   "outputs": [],
   "source": [
    "chemo_nausea_mask = (data_for_sql['post.chemotherapy.nausea'] == True)\n",
    "chemo_vomit_mask = (data_for_sql['post.chemotherapy.vomiting'] == True)\n",
    "no_chemo_mask = (data_for_sql['previous.chemotherapy'] == False)\n",
    "no_chemo_nv_pos = data_for_sql[chemo_nausea_mask & chemo_vomit_mask & no_chemo_mask].iloc[:,:20].index"
   ]
  },
  {
   "cell_type": "code",
   "execution_count": 26,
   "metadata": {
    "ExecuteTime": {
     "end_time": "2020-08-08T22:41:30.227497Z",
     "start_time": "2020-08-08T22:41:30.223160Z"
    }
   },
   "outputs": [],
   "source": [
    "#These 17 patients don't make sense so I'm dropping them\n",
    "data_for_sql.drop(index=no_chemo_nv_pos, inplace=True)"
   ]
  },
  {
   "cell_type": "code",
   "execution_count": 27,
   "metadata": {
    "ExecuteTime": {
     "end_time": "2020-08-08T22:41:30.233042Z",
     "start_time": "2020-08-08T22:41:30.229021Z"
    }
   },
   "outputs": [],
   "source": [
    "# Patients with NA in these fields did not go through chemo\n",
    "data_for_sql['post.chemotherapy.nausea'].fillna(False, inplace=True)\n",
    "data_for_sql['post.chemotherapy.vomiting'].fillna(False, inplace=True)"
   ]
  },
  {
   "cell_type": "code",
   "execution_count": 28,
   "metadata": {
    "ExecuteTime": {
     "end_time": "2020-08-08T22:41:30.237544Z",
     "start_time": "2020-08-08T22:41:30.234794Z"
    }
   },
   "outputs": [],
   "source": [
    "#neuraxial.opioid data: should be able to glean the NA's from other columns\n",
    "data_for_sql['neuraxial.opioid'].fillna('', inplace=True)"
   ]
  },
  {
   "cell_type": "code",
   "execution_count": 29,
   "metadata": {
    "ExecuteTime": {
     "end_time": "2020-08-08T22:41:30.242289Z",
     "start_time": "2020-08-08T22:41:30.239212Z"
    }
   },
   "outputs": [],
   "source": [
    "# 1 missing data for intraoperative opioid. Overwhelming majority receives opioids so assumed True.\n",
    "data_for_sql['intraoperative.opioid'].fillna(True, inplace=True)"
   ]
  },
  {
   "cell_type": "code",
   "execution_count": 30,
   "metadata": {
    "ExecuteTime": {
     "end_time": "2020-08-08T22:41:30.247026Z",
     "start_time": "2020-08-08T22:41:30.243720Z"
    }
   },
   "outputs": [],
   "source": [
    "#data_for_sql[data_for_sql['intraoperative.ketamine'].isna()]\n",
    "data_for_sql['ketamine.dose'].fillna('', inplace=True)"
   ]
  },
  {
   "cell_type": "code",
   "execution_count": 31,
   "metadata": {
    "ExecuteTime": {
     "end_time": "2020-08-08T22:41:30.252281Z",
     "start_time": "2020-08-08T22:41:30.248568Z"
    }
   },
   "outputs": [],
   "source": [
    "data_for_sql['intraoperative.morphine'].fillna('', inplace=True)\n",
    "data_for_sql['intraoperative.morphine.dose'].fillna('', inplace=True)"
   ]
  },
  {
   "cell_type": "code",
   "execution_count": 32,
   "metadata": {
    "ExecuteTime": {
     "end_time": "2020-08-08T22:41:30.261700Z",
     "start_time": "2020-08-08T22:41:30.253922Z"
    }
   },
   "outputs": [],
   "source": [
    "# Fill NA dosage with median\n",
    "data_for_sql[data_for_sql['intraoperative.ondansetron.dose'].isna()].loc[:,'ondansetron.intraoperative':'intraoperative.ondansetron.dose']\n",
    "data_for_sql['intraoperative.ondansetron.dose'].fillna(data_for_sql['intraoperative.ondansetron.dose'].median(),inplace=True)"
   ]
  },
  {
   "cell_type": "code",
   "execution_count": 33,
   "metadata": {
    "ExecuteTime": {
     "end_time": "2020-08-08T22:41:30.268621Z",
     "start_time": "2020-08-08T22:41:30.263521Z"
    }
   },
   "outputs": [],
   "source": [
    "#fill dexamethasone.dose NA with median\n",
    "data_for_sql[data_for_sql['dexamethasone.dose'].isna()].loc[:,'intraoperative.dexamethasone':'dexamethasone.dose']\n",
    "data_for_sql['dexamethasone.dose'].fillna(data_for_sql['dexamethasone.dose'].median(),inplace=True)"
   ]
  },
  {
   "cell_type": "code",
   "execution_count": 34,
   "metadata": {
    "ExecuteTime": {
     "end_time": "2020-08-08T22:41:30.277977Z",
     "start_time": "2020-08-08T22:41:30.270582Z"
    }
   },
   "outputs": [
    {
     "data": {
      "text/html": [
       "<div>\n",
       "<style scoped>\n",
       "    .dataframe tbody tr th:only-of-type {\n",
       "        vertical-align: middle;\n",
       "    }\n",
       "\n",
       "    .dataframe tbody tr th {\n",
       "        vertical-align: top;\n",
       "    }\n",
       "\n",
       "    .dataframe thead th {\n",
       "        text-align: right;\n",
       "    }\n",
       "</style>\n",
       "<table border=\"1\" class=\"dataframe\">\n",
       "  <thead>\n",
       "    <tr style=\"text-align: right;\">\n",
       "      <th></th>\n",
       "      <th>nausea.6h</th>\n",
       "      <th>vomiting.6h</th>\n",
       "    </tr>\n",
       "    <tr>\n",
       "      <th>num</th>\n",
       "      <th></th>\n",
       "      <th></th>\n",
       "    </tr>\n",
       "  </thead>\n",
       "  <tbody>\n",
       "    <tr>\n",
       "      <th>1250</th>\n",
       "      <td>True</td>\n",
       "      <td>NaN</td>\n",
       "    </tr>\n",
       "    <tr>\n",
       "      <th>1148</th>\n",
       "      <td>False</td>\n",
       "      <td>NaN</td>\n",
       "    </tr>\n",
       "    <tr>\n",
       "      <th>935</th>\n",
       "      <td>False</td>\n",
       "      <td>NaN</td>\n",
       "    </tr>\n",
       "    <tr>\n",
       "      <th>1130</th>\n",
       "      <td>True</td>\n",
       "      <td>NaN</td>\n",
       "    </tr>\n",
       "    <tr>\n",
       "      <th>1152</th>\n",
       "      <td>False</td>\n",
       "      <td>NaN</td>\n",
       "    </tr>\n",
       "    <tr>\n",
       "      <th>589</th>\n",
       "      <td>False</td>\n",
       "      <td>NaN</td>\n",
       "    </tr>\n",
       "    <tr>\n",
       "      <th>1369</th>\n",
       "      <td>True</td>\n",
       "      <td>NaN</td>\n",
       "    </tr>\n",
       "  </tbody>\n",
       "</table>\n",
       "</div>"
      ],
      "text/plain": [
       "     nausea.6h vomiting.6h\n",
       "num                       \n",
       "1250      True         NaN\n",
       "1148     False         NaN\n",
       "935      False         NaN\n",
       "1130      True         NaN\n",
       "1152     False         NaN\n",
       "589      False         NaN\n",
       "1369      True         NaN"
      ]
     },
     "execution_count": 34,
     "metadata": {},
     "output_type": "execute_result"
    }
   ],
   "source": [
    "# A few patients had no nausea with NaN info regarding vomiting. Assumed these patients did not vomit.\n",
    "# As calculated below, about 55% of patients with nausea also vomitted. As we are trying to be sensitive to\n",
    "# detecting nausea, I will assume vomit was negative for all the patients below\n",
    "data_for_sql[(~data_for_sql['nausea.6h'].isna()) & \n",
    "             (data_for_sql['vomiting.6h'].isna())].iloc[:,38:40]"
   ]
  },
  {
   "cell_type": "code",
   "execution_count": 35,
   "metadata": {
    "ExecuteTime": {
     "end_time": "2020-08-08T22:41:30.283865Z",
     "start_time": "2020-08-08T22:41:30.279533Z"
    }
   },
   "outputs": [
    {
     "data": {
      "text/plain": [
       "0.5547445255474452"
      ]
     },
     "execution_count": 35,
     "metadata": {},
     "output_type": "execute_result"
    }
   ],
   "source": [
    "# A little over half of patients who were nauseous also vomitted. \n",
    "sum(data_for_sql['vomiting.6h']==True) / sum(data_for_sql['nausea.6h']==True)"
   ]
  },
  {
   "cell_type": "code",
   "execution_count": 36,
   "metadata": {
    "ExecuteTime": {
     "end_time": "2020-08-08T22:41:30.347311Z",
     "start_time": "2020-08-08T22:41:30.285431Z"
    }
   },
   "outputs": [],
   "source": [
    "# assumed patients who suffered from nausea did not vomit; both the same for analysis purposes\n",
    "data_for_sql['vomiting.6h'] = data_for_sql.apply(lambda row: False if ((row['nausea.6h'] is not np.nan) & \n",
    "                                                                       (row['vomiting.6h'] is np.nan)) \\\n",
    "                                                                         else row['vomiting.6h'], axis=1)"
   ]
  },
  {
   "cell_type": "code",
   "execution_count": 37,
   "metadata": {
    "ExecuteTime": {
     "end_time": "2020-08-08T22:41:30.354081Z",
     "start_time": "2020-08-08T22:41:30.348927Z"
    }
   },
   "outputs": [],
   "source": [
    "# Patient recorded pos for vomiting but neg for nausea; revised to be pos for both\n",
    "data_for_sql[(data_for_sql['nausea.6h'].isna()) & \n",
    "             (data_for_sql['vomiting.6h'].notna())].iloc[:,38:40]\n",
    "data_for_sql.loc[1354,'nausea.6h'] = True"
   ]
  },
  {
   "cell_type": "code",
   "execution_count": 38,
   "metadata": {
    "ExecuteTime": {
     "end_time": "2020-08-08T22:41:30.366565Z",
     "start_time": "2020-08-08T22:41:30.355730Z"
    }
   },
   "outputs": [
    {
     "data": {
      "text/html": [
       "<div>\n",
       "<style scoped>\n",
       "    .dataframe tbody tr th:only-of-type {\n",
       "        vertical-align: middle;\n",
       "    }\n",
       "\n",
       "    .dataframe tbody tr th {\n",
       "        vertical-align: top;\n",
       "    }\n",
       "\n",
       "    .dataframe thead th {\n",
       "        text-align: right;\n",
       "    }\n",
       "</style>\n",
       "<table border=\"1\" class=\"dataframe\">\n",
       "  <thead>\n",
       "    <tr style=\"text-align: right;\">\n",
       "      <th></th>\n",
       "      <th>nausea.6h</th>\n",
       "      <th>vomiting.6h</th>\n",
       "      <th>rescue.antiemetic.6h</th>\n",
       "      <th>rescue.antiemetic.6h.which</th>\n",
       "    </tr>\n",
       "    <tr>\n",
       "      <th>num</th>\n",
       "      <th></th>\n",
       "      <th></th>\n",
       "      <th></th>\n",
       "      <th></th>\n",
       "    </tr>\n",
       "  </thead>\n",
       "  <tbody>\n",
       "    <tr>\n",
       "      <th>650</th>\n",
       "      <td>True</td>\n",
       "      <td>True</td>\n",
       "      <td>True</td>\n",
       "      <td>4</td>\n",
       "    </tr>\n",
       "    <tr>\n",
       "      <th>1946</th>\n",
       "      <td>True</td>\n",
       "      <td>True</td>\n",
       "      <td>True</td>\n",
       "      <td>4</td>\n",
       "    </tr>\n",
       "    <tr>\n",
       "      <th>1817</th>\n",
       "      <td>True</td>\n",
       "      <td>True</td>\n",
       "      <td>True</td>\n",
       "      <td>4</td>\n",
       "    </tr>\n",
       "    <tr>\n",
       "      <th>1473</th>\n",
       "      <td>True</td>\n",
       "      <td>False</td>\n",
       "      <td>True</td>\n",
       "      <td>4</td>\n",
       "    </tr>\n",
       "    <tr>\n",
       "      <th>1156</th>\n",
       "      <td>True</td>\n",
       "      <td>True</td>\n",
       "      <td>True</td>\n",
       "      <td>4</td>\n",
       "    </tr>\n",
       "    <tr>\n",
       "      <th>1951</th>\n",
       "      <td>True</td>\n",
       "      <td>True</td>\n",
       "      <td>True</td>\n",
       "      <td>4</td>\n",
       "    </tr>\n",
       "  </tbody>\n",
       "</table>\n",
       "</div>"
      ],
      "text/plain": [
       "     nausea.6h vomiting.6h rescue.antiemetic.6h  rescue.antiemetic.6h.which\n",
       "num                                                                        \n",
       "650       True        True                 True                           4\n",
       "1946      True        True                 True                           4\n",
       "1817      True        True                 True                           4\n",
       "1473      True       False                 True                           4\n",
       "1156      True        True                 True                           4\n",
       "1951      True        True                 True                           4"
      ]
     },
     "execution_count": 38,
     "metadata": {},
     "output_type": "execute_result"
    }
   ],
   "source": [
    "# From deduction 'rescue.antiemetic.6h.which' == 4 appears to mean patient wasn't given anything. Rescue\n",
    "# antiemetic == True & rescue == 4 likely incorrect. \n",
    "data_for_sql[(data_for_sql['rescue.antiemetic.6h.which'] == 4)&\n",
    "             (data_for_sql['rescue.antiemetic.6h'] == True)].iloc[:,38:42]"
   ]
  },
  {
   "cell_type": "code",
   "execution_count": 39,
   "metadata": {
    "ExecuteTime": {
     "end_time": "2020-08-08T22:41:30.372125Z",
     "start_time": "2020-08-08T22:41:30.368200Z"
    }
   },
   "outputs": [],
   "source": [
    "# Looking at patients with NaN for nausea.6h and vomiting.6h, given records say they did not receive an antiemetic\n",
    "# filling as False\n",
    "data_for_sql['nausea.6h'].fillna(False, inplace=True)\n",
    "data_for_sql['vomiting.6h'].fillna(False, inplace=True)"
   ]
  },
  {
   "cell_type": "code",
   "execution_count": 40,
   "metadata": {
    "ExecuteTime": {
     "end_time": "2020-08-08T22:41:30.400812Z",
     "start_time": "2020-08-08T22:41:30.373638Z"
    }
   },
   "outputs": [],
   "source": [
    "data_for_sql['rescue.antiemetic.6h']=data_for_sql.apply(lambda row: False if row['rescue.antiemetic.6h.which'] == 4 else True, axis=1)"
   ]
  },
  {
   "cell_type": "code",
   "execution_count": 41,
   "metadata": {
    "ExecuteTime": {
     "end_time": "2020-08-08T22:41:30.405419Z",
     "start_time": "2020-08-08T22:41:30.402344Z"
    }
   },
   "outputs": [],
   "source": [
    "# Looking at patients with NaN for nausea.6h and vomiting.6h, given records say they did not receive an antiemetic\n",
    "# filling as False\n",
    "data_for_sql['nausea.6h'].fillna(False, inplace=True)\n",
    "data_for_sql['vomiting.6h'].fillna(False, inplace=True)"
   ]
  },
  {
   "cell_type": "code",
   "execution_count": 42,
   "metadata": {
    "ExecuteTime": {
     "end_time": "2020-08-08T22:41:30.416485Z",
     "start_time": "2020-08-08T22:41:30.407068Z"
    }
   },
   "outputs": [
    {
     "data": {
      "text/html": [
       "<div>\n",
       "<style scoped>\n",
       "    .dataframe tbody tr th:only-of-type {\n",
       "        vertical-align: middle;\n",
       "    }\n",
       "\n",
       "    .dataframe tbody tr th {\n",
       "        vertical-align: top;\n",
       "    }\n",
       "\n",
       "    .dataframe thead th {\n",
       "        text-align: right;\n",
       "    }\n",
       "</style>\n",
       "<table border=\"1\" class=\"dataframe\">\n",
       "  <thead>\n",
       "    <tr style=\"text-align: right;\">\n",
       "      <th></th>\n",
       "      <th>regular.antiemetic</th>\n",
       "      <th>rescue.antiemetic</th>\n",
       "      <th>received.rescue.antiemetic</th>\n",
       "    </tr>\n",
       "    <tr>\n",
       "      <th>num</th>\n",
       "      <th></th>\n",
       "      <th></th>\n",
       "      <th></th>\n",
       "    </tr>\n",
       "  </thead>\n",
       "  <tbody>\n",
       "    <tr>\n",
       "      <th>1858</th>\n",
       "      <td>NaN</td>\n",
       "      <td>NaN</td>\n",
       "      <td>False</td>\n",
       "    </tr>\n",
       "    <tr>\n",
       "      <th>863</th>\n",
       "      <td>NaN</td>\n",
       "      <td>True</td>\n",
       "      <td>False</td>\n",
       "    </tr>\n",
       "    <tr>\n",
       "      <th>416</th>\n",
       "      <td>False</td>\n",
       "      <td>NaN</td>\n",
       "      <td>NaN</td>\n",
       "    </tr>\n",
       "    <tr>\n",
       "      <th>802</th>\n",
       "      <td>NaN</td>\n",
       "      <td>False</td>\n",
       "      <td>False</td>\n",
       "    </tr>\n",
       "    <tr>\n",
       "      <th>1356</th>\n",
       "      <td>True</td>\n",
       "      <td>NaN</td>\n",
       "      <td>False</td>\n",
       "    </tr>\n",
       "    <tr>\n",
       "      <th>1335</th>\n",
       "      <td>True</td>\n",
       "      <td>NaN</td>\n",
       "      <td>False</td>\n",
       "    </tr>\n",
       "    <tr>\n",
       "      <th>1327</th>\n",
       "      <td>False</td>\n",
       "      <td>NaN</td>\n",
       "      <td>False</td>\n",
       "    </tr>\n",
       "    <tr>\n",
       "      <th>633</th>\n",
       "      <td>NaN</td>\n",
       "      <td>True</td>\n",
       "      <td>False</td>\n",
       "    </tr>\n",
       "    <tr>\n",
       "      <th>1368</th>\n",
       "      <td>False</td>\n",
       "      <td>NaN</td>\n",
       "      <td>False</td>\n",
       "    </tr>\n",
       "    <tr>\n",
       "      <th>1431</th>\n",
       "      <td>True</td>\n",
       "      <td>NaN</td>\n",
       "      <td>False</td>\n",
       "    </tr>\n",
       "  </tbody>\n",
       "</table>\n",
       "</div>"
      ],
      "text/plain": [
       "     regular.antiemetic rescue.antiemetic received.rescue.antiemetic\n",
       "num                                                                 \n",
       "1858                NaN               NaN                      False\n",
       "863                 NaN              True                      False\n",
       "416               False               NaN                        NaN\n",
       "802                 NaN             False                      False\n",
       "1356               True               NaN                      False\n",
       "1335               True               NaN                      False\n",
       "1327              False               NaN                      False\n",
       "633                 NaN              True                      False\n",
       "1368              False               NaN                      False\n",
       "1431               True               NaN                      False"
      ]
     },
     "execution_count": 42,
     "metadata": {},
     "output_type": "execute_result"
    }
   ],
   "source": [
    "data_for_sql[(data_for_sql['regular.antiemetic'].isna()) |\n",
    "             (data_for_sql['rescue.antiemetic'].isna())].iloc[:,46:49].head(10)"
   ]
  },
  {
   "cell_type": "code",
   "execution_count": 43,
   "metadata": {
    "ExecuteTime": {
     "end_time": "2020-08-08T22:41:30.425230Z",
     "start_time": "2020-08-08T22:41:30.418185Z"
    }
   },
   "outputs": [
    {
     "name": "stdout",
     "output_type": "stream",
     "text": [
      "False    1170\n",
      "True      741\n",
      "Name: regular.antiemetic, dtype: int64\n",
      "True     1202\n",
      "False     704\n",
      "Name: rescue.antiemetic, dtype: int64\n",
      "False    1514\n",
      "True      330\n",
      "Name: received.rescue.antiemetic, dtype: int64\n"
     ]
    }
   ],
   "source": [
    "def print_val_counts(x):\n",
    "    for y in range(x):\n",
    "        print(data_for_sql.iloc[:,46+y].value_counts())\n",
    "\n",
    "print_val_counts(3)"
   ]
  },
  {
   "cell_type": "code",
   "execution_count": 44,
   "metadata": {
    "ExecuteTime": {
     "end_time": "2020-08-08T22:41:30.431065Z",
     "start_time": "2020-08-08T22:41:30.426953Z"
    }
   },
   "outputs": [],
   "source": [
    "# I don't see a pattern here; will leave NaN as blanks and perhaps make assumptions on whether nan patients\n",
    "# received regular antiemetic based on apfel and other factors\n",
    "data_for_sql['regular.antiemetic'].fillna('', inplace=True)\n",
    "data_for_sql['rescue.antiemetic'].fillna('', inplace=True)\n",
    "data_for_sql['received.rescue.antiemetic'].fillna('', inplace=True)"
   ]
  },
  {
   "cell_type": "code",
   "execution_count": 45,
   "metadata": {
    "ExecuteTime": {
     "end_time": "2020-08-08T22:41:30.437026Z",
     "start_time": "2020-08-08T22:41:30.432421Z"
    }
   },
   "outputs": [
    {
     "data": {
      "text/plain": [
       "4    1771\n",
       "1      92\n",
       "3      32\n",
       "5      30\n",
       "2       3\n",
       "Name: rescue.antiemetic.6h.which, dtype: int64"
      ]
     },
     "execution_count": 45,
     "metadata": {},
     "output_type": "execute_result"
    }
   ],
   "source": [
    "data_for_sql['rescue.antiemetic.6h.which'].value_counts()"
   ]
  },
  {
   "cell_type": "code",
   "execution_count": 46,
   "metadata": {
    "ExecuteTime": {
     "end_time": "2020-08-08T22:41:30.442477Z",
     "start_time": "2020-08-08T22:41:30.438472Z"
    }
   },
   "outputs": [
    {
     "name": "stdout",
     "output_type": "stream",
     "text": [
      "rescue.dexametasone: 10\n",
      "rescue.dimenidrate: 61\n",
      "rescue.bromopride: 540\n"
     ]
    }
   ],
   "source": [
    "print(f'rescue.dexametasone: {(data_for_sql[\"rescue.dexametasone\"] == True).sum()}')\n",
    "print(f'rescue.dimenidrate: {(data_for_sql[\"rescue.dimenidrate\"] == True).sum()}')\n",
    "print(f'rescue.bromopride: {(data_for_sql[\"rescue.bromopride\"] == True).sum()}')"
   ]
  },
  {
   "cell_type": "code",
   "execution_count": 47,
   "metadata": {
    "ExecuteTime": {
     "end_time": "2020-08-08T22:41:30.454238Z",
     "start_time": "2020-08-08T22:41:30.443824Z"
    }
   },
   "outputs": [
    {
     "data": {
      "text/html": [
       "<div>\n",
       "<style scoped>\n",
       "    .dataframe tbody tr th:only-of-type {\n",
       "        vertical-align: middle;\n",
       "    }\n",
       "\n",
       "    .dataframe tbody tr th {\n",
       "        vertical-align: top;\n",
       "    }\n",
       "\n",
       "    .dataframe thead th {\n",
       "        text-align: right;\n",
       "    }\n",
       "</style>\n",
       "<table border=\"1\" class=\"dataframe\">\n",
       "  <thead>\n",
       "    <tr style=\"text-align: right;\">\n",
       "      <th></th>\n",
       "      <th>intraoperative.droperidol</th>\n",
       "      <th>regular.droperidol</th>\n",
       "    </tr>\n",
       "    <tr>\n",
       "      <th>num</th>\n",
       "      <th></th>\n",
       "      <th></th>\n",
       "    </tr>\n",
       "  </thead>\n",
       "  <tbody>\n",
       "    <tr>\n",
       "      <th>293</th>\n",
       "      <td>False</td>\n",
       "      <td>False</td>\n",
       "    </tr>\n",
       "    <tr>\n",
       "      <th>590</th>\n",
       "      <td>False</td>\n",
       "      <td>False</td>\n",
       "    </tr>\n",
       "    <tr>\n",
       "      <th>1262</th>\n",
       "      <td>False</td>\n",
       "      <td>False</td>\n",
       "    </tr>\n",
       "    <tr>\n",
       "      <th>124</th>\n",
       "      <td>False</td>\n",
       "      <td>False</td>\n",
       "    </tr>\n",
       "    <tr>\n",
       "      <th>237</th>\n",
       "      <td>False</td>\n",
       "      <td>False</td>\n",
       "    </tr>\n",
       "    <tr>\n",
       "      <th>...</th>\n",
       "      <td>...</td>\n",
       "      <td>...</td>\n",
       "    </tr>\n",
       "    <tr>\n",
       "      <th>613</th>\n",
       "      <td>False</td>\n",
       "      <td>False</td>\n",
       "    </tr>\n",
       "    <tr>\n",
       "      <th>892</th>\n",
       "      <td>False</td>\n",
       "      <td>False</td>\n",
       "    </tr>\n",
       "    <tr>\n",
       "      <th>1061</th>\n",
       "      <td>False</td>\n",
       "      <td>False</td>\n",
       "    </tr>\n",
       "    <tr>\n",
       "      <th>1173</th>\n",
       "      <td>False</td>\n",
       "      <td>False</td>\n",
       "    </tr>\n",
       "    <tr>\n",
       "      <th>1237</th>\n",
       "      <td>False</td>\n",
       "      <td>False</td>\n",
       "    </tr>\n",
       "  </tbody>\n",
       "</table>\n",
       "<p>1762 rows × 2 columns</p>\n",
       "</div>"
      ],
      "text/plain": [
       "      intraoperative.droperidol regular.droperidol\n",
       "num                                               \n",
       "293                       False              False\n",
       "590                       False              False\n",
       "1262                      False              False\n",
       "124                       False              False\n",
       "237                       False              False\n",
       "...                         ...                ...\n",
       "613                       False              False\n",
       "892                       False              False\n",
       "1061                      False              False\n",
       "1173                      False              False\n",
       "1237                      False              False\n",
       "\n",
       "[1762 rows x 2 columns]"
      ]
     },
     "execution_count": 47,
     "metadata": {},
     "output_type": "execute_result"
    }
   ],
   "source": [
    "# Can't tell if there's any sort of corrleation\n",
    "data_for_sql[(data_for_sql['intraoperative.droperidol'] == False) &\n",
    "            (data_for_sql['regular.droperidol'] == False)].iloc[:,np.r_[36,58]]"
   ]
  },
  {
   "cell_type": "code",
   "execution_count": 48,
   "metadata": {
    "ExecuteTime": {
     "end_time": "2020-08-08T22:41:30.460905Z",
     "start_time": "2020-08-08T22:41:30.455577Z"
    }
   },
   "outputs": [],
   "source": [
    "drug_nans = ['rescue.dimenidrate', 'rescue.bromopride', 'rescue.metoclopramide', 'regular.ondansetron', \n",
    "             'regular.dexamethasone', 'regular.dimenidrate', 'regular.bromopride', 'regular.metoclopramide',\n",
    "             'regular.droperidol']\n",
    "for drugs in drug_nans:\n",
    "    data_for_sql[drugs].fillna('',inplace=True)"
   ]
  },
  {
   "cell_type": "code",
   "execution_count": 49,
   "metadata": {
    "ExecuteTime": {
     "end_time": "2020-08-08T22:41:30.472235Z",
     "start_time": "2020-08-08T22:41:30.462461Z"
    }
   },
   "outputs": [
    {
     "data": {
      "text/html": [
       "<div>\n",
       "<style scoped>\n",
       "    .dataframe tbody tr th:only-of-type {\n",
       "        vertical-align: middle;\n",
       "    }\n",
       "\n",
       "    .dataframe tbody tr th {\n",
       "        vertical-align: top;\n",
       "    }\n",
       "\n",
       "    .dataframe thead th {\n",
       "        text-align: right;\n",
       "    }\n",
       "</style>\n",
       "<table border=\"1\" class=\"dataframe\">\n",
       "  <thead>\n",
       "    <tr style=\"text-align: right;\">\n",
       "      <th></th>\n",
       "      <th>ever.smoked.1</th>\n",
       "      <th>when.stopped.smoking</th>\n",
       "    </tr>\n",
       "    <tr>\n",
       "      <th>num</th>\n",
       "      <th></th>\n",
       "      <th></th>\n",
       "    </tr>\n",
       "  </thead>\n",
       "  <tbody>\n",
       "    <tr>\n",
       "      <th>124</th>\n",
       "      <td>True</td>\n",
       "      <td>d.&gt;6months.ago</td>\n",
       "    </tr>\n",
       "    <tr>\n",
       "      <th>237</th>\n",
       "      <td>True</td>\n",
       "      <td>d.&gt;6months.ago</td>\n",
       "    </tr>\n",
       "    <tr>\n",
       "      <th>736</th>\n",
       "      <td>True</td>\n",
       "      <td>d.&gt;6months.ago</td>\n",
       "    </tr>\n",
       "    <tr>\n",
       "      <th>1304</th>\n",
       "      <td>True</td>\n",
       "      <td>d.&gt;6months.ago</td>\n",
       "    </tr>\n",
       "    <tr>\n",
       "      <th>1831</th>\n",
       "      <td>True</td>\n",
       "      <td>d.&gt;6months.ago</td>\n",
       "    </tr>\n",
       "    <tr>\n",
       "      <th>...</th>\n",
       "      <td>...</td>\n",
       "      <td>...</td>\n",
       "    </tr>\n",
       "    <tr>\n",
       "      <th>1814</th>\n",
       "      <td>True</td>\n",
       "      <td>NaN</td>\n",
       "    </tr>\n",
       "    <tr>\n",
       "      <th>404</th>\n",
       "      <td>True</td>\n",
       "      <td>a.smokes</td>\n",
       "    </tr>\n",
       "    <tr>\n",
       "      <th>613</th>\n",
       "      <td>True</td>\n",
       "      <td>d.&gt;6months.ago</td>\n",
       "    </tr>\n",
       "    <tr>\n",
       "      <th>632</th>\n",
       "      <td>True</td>\n",
       "      <td>d.&gt;6months.ago</td>\n",
       "    </tr>\n",
       "    <tr>\n",
       "      <th>873</th>\n",
       "      <td>True</td>\n",
       "      <td>d.&gt;6months.ago</td>\n",
       "    </tr>\n",
       "  </tbody>\n",
       "</table>\n",
       "<p>881 rows × 2 columns</p>\n",
       "</div>"
      ],
      "text/plain": [
       "      ever.smoked.1 when.stopped.smoking\n",
       "num                                     \n",
       "124            True       d.>6months.ago\n",
       "237            True       d.>6months.ago\n",
       "736            True       d.>6months.ago\n",
       "1304           True       d.>6months.ago\n",
       "1831           True       d.>6months.ago\n",
       "...             ...                  ...\n",
       "1814           True                  NaN\n",
       "404            True             a.smokes\n",
       "613            True       d.>6months.ago\n",
       "632            True       d.>6months.ago\n",
       "873            True       d.>6months.ago\n",
       "\n",
       "[881 rows x 2 columns]"
      ]
     },
     "execution_count": 49,
     "metadata": {},
     "output_type": "execute_result"
    }
   ],
   "source": [
    "data_for_sql[data_for_sql['ever.smoked.1'] == True].iloc[:,59:61]"
   ]
  },
  {
   "cell_type": "code",
   "execution_count": 50,
   "metadata": {
    "ExecuteTime": {
     "end_time": "2020-08-08T22:41:30.478275Z",
     "start_time": "2020-08-08T22:41:30.473894Z"
    }
   },
   "outputs": [
    {
     "data": {
      "text/plain": [
       "e.never.smoked      1047\n",
       "d.>6months.ago       585\n",
       "c.1-6.months.ago     103\n",
       "a.smokes              85\n",
       "b.1.month.ago         33\n",
       "Name: when.stopped.smoking, dtype: int64"
      ]
     },
     "execution_count": 50,
     "metadata": {},
     "output_type": "execute_result"
    }
   ],
   "source": [
    "# Questionable status on 75 smoking patients (quit or no?). Will leave NaN and examine later to see if assumptions possible\n",
    "data_for_sql['when.stopped.smoking'].value_counts()"
   ]
  },
  {
   "cell_type": "code",
   "execution_count": 51,
   "metadata": {
    "ExecuteTime": {
     "end_time": "2020-08-08T22:41:30.483986Z",
     "start_time": "2020-08-08T22:41:30.479458Z"
    }
   },
   "outputs": [
    {
     "data": {
      "text/plain": [
       "{'e.never.smoked': 1,\n",
       " 'd.>6months.ago': 2,\n",
       " 'c.1-6.months.ago': 3,\n",
       " 'a.smokes': 5,\n",
       " 'b.1.month.ago': 4}"
      ]
     },
     "execution_count": 51,
     "metadata": {},
     "output_type": "execute_result"
    }
   ],
   "source": [
    "# Map the time lapsed since quitting\n",
    "smoke_scale = [1, 2, 3, 5, 4]\n",
    "smoke_key_list = list(data_for_sql['when.stopped.smoking'].value_counts().index)\n",
    "smoke_scale_dict = dict(zip(smoke_key_list, smoke_scale))\n",
    "smoke_scale_dict"
   ]
  },
  {
   "cell_type": "code",
   "execution_count": 52,
   "metadata": {
    "ExecuteTime": {
     "end_time": "2020-08-08T22:41:30.489122Z",
     "start_time": "2020-08-08T22:41:30.485400Z"
    }
   },
   "outputs": [],
   "source": [
    "# converted when.stopped.smoking to nominal scale\n",
    "data_for_sql['when.stopped.smoking'] = data_for_sql['when.stopped.smoking'].map(smoke_scale_dict)"
   ]
  },
  {
   "cell_type": "code",
   "execution_count": 53,
   "metadata": {
    "ExecuteTime": {
     "end_time": "2020-08-08T22:41:30.493375Z",
     "start_time": "2020-08-08T22:41:30.490595Z"
    }
   },
   "outputs": [],
   "source": [
    "# replace unknown stop date NaNs\n",
    "data_for_sql['when.stopped.smoking'].fillna('', inplace=True)"
   ]
  },
  {
   "cell_type": "code",
   "execution_count": 54,
   "metadata": {
    "ExecuteTime": {
     "end_time": "2020-08-08T22:41:30.500341Z",
     "start_time": "2020-08-08T22:41:30.494969Z"
    }
   },
   "outputs": [],
   "source": [
    "temp_smokes = data_for_sql[data_for_sql['ever.smoked.1'] == True].loc[:,'packets.years']"
   ]
  },
  {
   "cell_type": "code",
   "execution_count": 55,
   "metadata": {
    "ExecuteTime": {
     "end_time": "2020-08-08T22:41:30.523592Z",
     "start_time": "2020-08-08T22:41:30.502013Z"
    }
   },
   "outputs": [
    {
     "name": "stderr",
     "output_type": "stream",
     "text": [
      "/Users/paulchung/opt/anaconda3/envs/metis/lib/python3.8/site-packages/pandas/core/generic.py:3939: SettingWithCopyWarning: \n",
      "A value is trying to be set on a copy of a slice from a DataFrame\n",
      "\n",
      "See the caveats in the documentation: https://pandas.pydata.org/pandas-docs/stable/user_guide/indexing.html#returning-a-view-versus-a-copy\n",
      "  self._update_inplace(obj)\n"
     ]
    }
   ],
   "source": [
    "temp_smokes.str.strip()\n",
    "temp_smokes.drop(1620, inplace=True)"
   ]
  },
  {
   "cell_type": "code",
   "execution_count": 56,
   "metadata": {
    "ExecuteTime": {
     "end_time": "2020-08-08T22:41:30.528711Z",
     "start_time": "2020-08-08T22:41:30.525333Z"
    }
   },
   "outputs": [],
   "source": [
    "med_smoked_packs = temp_smokes.astype(float).median()"
   ]
  },
  {
   "cell_type": "code",
   "execution_count": 57,
   "metadata": {
    "ExecuteTime": {
     "end_time": "2020-08-08T22:41:30.594918Z",
     "start_time": "2020-08-08T22:41:30.530435Z"
    }
   },
   "outputs": [],
   "source": [
    "# For ever.smoked.1 == False, replacing packets.years to 0 and for True, replacing NaN with the median 15\n",
    "data_for_sql['packets.years'] = data_for_sql.apply(lambda row: 0 if (row['ever.smoked.1'] == False) &\n",
    "                                                  (row['packets.years'] is np.nan) else row['packets.years'], axis=1)"
   ]
  },
  {
   "cell_type": "code",
   "execution_count": 58,
   "metadata": {
    "ExecuteTime": {
     "end_time": "2020-08-08T22:41:30.655408Z",
     "start_time": "2020-08-08T22:41:30.596337Z"
    }
   },
   "outputs": [],
   "source": [
    "data_for_sql['packets.years'] = data_for_sql.apply(lambda row: med_smoked_packs if (row['ever.smoked.1'] == True) &\n",
    "                                                  (row['packets.years'] is np.nan) else row['packets.years'], axis=1)"
   ]
  },
  {
   "cell_type": "code",
   "execution_count": 59,
   "metadata": {
    "ExecuteTime": {
     "end_time": "2020-08-08T22:41:30.676991Z",
     "start_time": "2020-08-08T22:41:30.656878Z"
    }
   },
   "outputs": [
    {
     "data": {
      "text/html": [
       "<div>\n",
       "<style scoped>\n",
       "    .dataframe tbody tr th:only-of-type {\n",
       "        vertical-align: middle;\n",
       "    }\n",
       "\n",
       "    .dataframe tbody tr th {\n",
       "        vertical-align: top;\n",
       "    }\n",
       "\n",
       "    .dataframe thead th {\n",
       "        text-align: right;\n",
       "    }\n",
       "</style>\n",
       "<table border=\"1\" class=\"dataframe\">\n",
       "  <thead>\n",
       "    <tr style=\"text-align: right;\">\n",
       "      <th></th>\n",
       "      <th>sex</th>\n",
       "      <th>age</th>\n",
       "      <th>Apfel</th>\n",
       "      <th>previous.ponv</th>\n",
       "      <th>postoperative.opioids</th>\n",
       "      <th>non.smoker</th>\n",
       "      <th>surgical.procedure</th>\n",
       "      <th>surgery.group</th>\n",
       "      <th>chronic opioid user</th>\n",
       "      <th>previous.chemotherapy</th>\n",
       "      <th>...</th>\n",
       "      <th>regular.droperidol</th>\n",
       "      <th>ever.smoked.1</th>\n",
       "      <th>when.stopped.smoking</th>\n",
       "      <th>packets.years</th>\n",
       "      <th>nausea.24h</th>\n",
       "      <th>ponv</th>\n",
       "      <th>nausea24h.intensity</th>\n",
       "      <th>vomiting24h</th>\n",
       "      <th>vomiting24h.count</th>\n",
       "      <th>intraoperative.antiemectics.count</th>\n",
       "    </tr>\n",
       "    <tr>\n",
       "      <th>num</th>\n",
       "      <th></th>\n",
       "      <th></th>\n",
       "      <th></th>\n",
       "      <th></th>\n",
       "      <th></th>\n",
       "      <th></th>\n",
       "      <th></th>\n",
       "      <th></th>\n",
       "      <th></th>\n",
       "      <th></th>\n",
       "      <th></th>\n",
       "      <th></th>\n",
       "      <th></th>\n",
       "      <th></th>\n",
       "      <th></th>\n",
       "      <th></th>\n",
       "      <th></th>\n",
       "      <th></th>\n",
       "      <th></th>\n",
       "      <th></th>\n",
       "      <th></th>\n",
       "    </tr>\n",
       "  </thead>\n",
       "  <tbody>\n",
       "    <tr>\n",
       "      <th>1858</th>\n",
       "      <td>Female</td>\n",
       "      <td>76</td>\n",
       "      <td>3</td>\n",
       "      <td>False</td>\n",
       "      <td>True</td>\n",
       "      <td>True</td>\n",
       "      <td>Anexectomia/Ooforectomia</td>\n",
       "      <td>Gynaecological Surgery</td>\n",
       "      <td>False</td>\n",
       "      <td>True</td>\n",
       "      <td>...</td>\n",
       "      <td>False</td>\n",
       "      <td>True</td>\n",
       "      <td>2</td>\n",
       "      <td>7</td>\n",
       "      <td>NaN</td>\n",
       "      <td>NaN</td>\n",
       "      <td>NaN</td>\n",
       "      <td>False</td>\n",
       "      <td>0.0</td>\n",
       "      <td>1</td>\n",
       "    </tr>\n",
       "    <tr>\n",
       "      <th>971</th>\n",
       "      <td>Female</td>\n",
       "      <td>81</td>\n",
       "      <td>2</td>\n",
       "      <td>False</td>\n",
       "      <td>False</td>\n",
       "      <td>True</td>\n",
       "      <td>Cirurgia Gastrointestinal</td>\n",
       "      <td>Gastrointenstinal Surgery</td>\n",
       "      <td>False</td>\n",
       "      <td>True</td>\n",
       "      <td>...</td>\n",
       "      <td></td>\n",
       "      <td>False</td>\n",
       "      <td>1</td>\n",
       "      <td>0</td>\n",
       "      <td>NaN</td>\n",
       "      <td>NaN</td>\n",
       "      <td>NaN</td>\n",
       "      <td>False</td>\n",
       "      <td>0.0</td>\n",
       "      <td>3</td>\n",
       "    </tr>\n",
       "    <tr>\n",
       "      <th>416</th>\n",
       "      <td>Male</td>\n",
       "      <td>61</td>\n",
       "      <td>1</td>\n",
       "      <td>False</td>\n",
       "      <td>True</td>\n",
       "      <td>False</td>\n",
       "      <td>Esofagectomia</td>\n",
       "      <td>Gastrointenstinal Surgery</td>\n",
       "      <td>False</td>\n",
       "      <td>True</td>\n",
       "      <td>...</td>\n",
       "      <td>False</td>\n",
       "      <td>True</td>\n",
       "      <td>2</td>\n",
       "      <td>10</td>\n",
       "      <td>NaN</td>\n",
       "      <td>NaN</td>\n",
       "      <td>NaN</td>\n",
       "      <td>NaN</td>\n",
       "      <td>NaN</td>\n",
       "      <td>0</td>\n",
       "    </tr>\n",
       "    <tr>\n",
       "      <th>1192</th>\n",
       "      <td>Female</td>\n",
       "      <td>85</td>\n",
       "      <td>3</td>\n",
       "      <td>False</td>\n",
       "      <td>True</td>\n",
       "      <td>True</td>\n",
       "      <td>Esofagectomia</td>\n",
       "      <td>Gastrointenstinal Surgery</td>\n",
       "      <td>False</td>\n",
       "      <td>True</td>\n",
       "      <td>...</td>\n",
       "      <td>False</td>\n",
       "      <td>False</td>\n",
       "      <td>1</td>\n",
       "      <td>0</td>\n",
       "      <td>NaN</td>\n",
       "      <td>NaN</td>\n",
       "      <td>NaN</td>\n",
       "      <td>NaN</td>\n",
       "      <td>NaN</td>\n",
       "      <td>0</td>\n",
       "    </tr>\n",
       "    <tr>\n",
       "      <th>979</th>\n",
       "      <td>Female</td>\n",
       "      <td>50</td>\n",
       "      <td>2</td>\n",
       "      <td>False</td>\n",
       "      <td>True</td>\n",
       "      <td>False</td>\n",
       "      <td>Laparotomia Exploradora</td>\n",
       "      <td>Exploratory Laparotomy</td>\n",
       "      <td>False</td>\n",
       "      <td>True</td>\n",
       "      <td>...</td>\n",
       "      <td>False</td>\n",
       "      <td>True</td>\n",
       "      <td>3</td>\n",
       "      <td>40</td>\n",
       "      <td>NaN</td>\n",
       "      <td>NaN</td>\n",
       "      <td>NaN</td>\n",
       "      <td>True</td>\n",
       "      <td>NaN</td>\n",
       "      <td>0</td>\n",
       "    </tr>\n",
       "  </tbody>\n",
       "</table>\n",
       "<p>5 rows × 68 columns</p>\n",
       "</div>"
      ],
      "text/plain": [
       "         sex  age  Apfel  previous.ponv  postoperative.opioids  non.smoker  \\\n",
       "num                                                                          \n",
       "1858  Female   76      3          False                   True        True   \n",
       "971   Female   81      2          False                  False        True   \n",
       "416     Male   61      1          False                   True       False   \n",
       "1192  Female   85      3          False                   True        True   \n",
       "979   Female   50      2          False                   True       False   \n",
       "\n",
       "             surgical.procedure              surgery.group  \\\n",
       "num                                                          \n",
       "1858   Anexectomia/Ooforectomia     Gynaecological Surgery   \n",
       "971   Cirurgia Gastrointestinal  Gastrointenstinal Surgery   \n",
       "416               Esofagectomia  Gastrointenstinal Surgery   \n",
       "1192              Esofagectomia  Gastrointenstinal Surgery   \n",
       "979     Laparotomia Exploradora     Exploratory Laparotomy   \n",
       "\n",
       "      chronic opioid user  previous.chemotherapy  ...  regular.droperidol  \\\n",
       "num                                               ...                       \n",
       "1858                False                   True  ...               False   \n",
       "971                 False                   True  ...                       \n",
       "416                 False                   True  ...               False   \n",
       "1192                False                   True  ...               False   \n",
       "979                 False                   True  ...               False   \n",
       "\n",
       "     ever.smoked.1  when.stopped.smoking  packets.years  nausea.24h  ponv  \\\n",
       "num                                                                         \n",
       "1858          True                     2              7         NaN   NaN   \n",
       "971          False                     1              0         NaN   NaN   \n",
       "416           True                     2             10         NaN   NaN   \n",
       "1192         False                     1              0         NaN   NaN   \n",
       "979           True                     3             40         NaN   NaN   \n",
       "\n",
       "     nausea24h.intensity  vomiting24h  vomiting24h.count  \\\n",
       "num                                                        \n",
       "1858                 NaN        False                0.0   \n",
       "971                  NaN        False                0.0   \n",
       "416                  NaN          NaN                NaN   \n",
       "1192                 NaN          NaN                NaN   \n",
       "979                  NaN         True                NaN   \n",
       "\n",
       "      intraoperative.antiemectics.count  \n",
       "num                                      \n",
       "1858                                  1  \n",
       "971                                   3  \n",
       "416                                   0  \n",
       "1192                                  0  \n",
       "979                                   0  \n",
       "\n",
       "[5 rows x 68 columns]"
      ]
     },
     "execution_count": 59,
     "metadata": {},
     "output_type": "execute_result"
    }
   ],
   "source": [
    "# patients with no nausea or ponv diagnosis overlap; using blanks as placeholders for NaN\n",
    "data_for_sql[data_for_sql['nausea.24h'] != data_for_sql['ponv']].head()"
   ]
  },
  {
   "cell_type": "code",
   "execution_count": 60,
   "metadata": {
    "ExecuteTime": {
     "end_time": "2020-08-08T22:41:30.681770Z",
     "start_time": "2020-08-08T22:41:30.678539Z"
    }
   },
   "outputs": [],
   "source": [
    "data_for_sql['nausea.24h'].fillna('',inplace=True)\n",
    "data_for_sql['ponv'].fillna('',inplace=True)"
   ]
  },
  {
   "cell_type": "code",
   "execution_count": 61,
   "metadata": {
    "ExecuteTime": {
     "end_time": "2020-08-08T22:41:30.687850Z",
     "start_time": "2020-08-08T22:41:30.683293Z"
    }
   },
   "outputs": [],
   "source": [
    "# remaining data trivial for the analysis; filling nan with blanks\n",
    "data_for_sql['nausea24h.intensity'].fillna('', inplace=True)\n",
    "data_for_sql['vomiting24h'].fillna('', inplace=True)\n",
    "data_for_sql['vomiting24h.count'].fillna('', inplace=True)"
   ]
  },
  {
   "cell_type": "code",
   "execution_count": 63,
   "metadata": {
    "ExecuteTime": {
     "end_time": "2020-08-08T22:41:30.713977Z",
     "start_time": "2020-08-08T22:41:30.709924Z"
    }
   },
   "outputs": [],
   "source": [
    "# Convert packets.years to float\n",
    "data_for_sql.loc[1620,'packets.years'] = 0\n",
    "data_for_sql['packets.years'] = data_for_sql['packets.years'].astype(float)"
   ]
  },
  {
   "cell_type": "code",
   "execution_count": 64,
   "metadata": {
    "ExecuteTime": {
     "end_time": "2020-08-08T22:41:30.719127Z",
     "start_time": "2020-08-08T22:41:30.715456Z"
    }
   },
   "outputs": [
    {
     "data": {
      "text/plain": [
       "0.0"
      ]
     },
     "execution_count": 64,
     "metadata": {},
     "output_type": "execute_result"
    }
   ],
   "source": [
    "data_for_sql.loc[1620,'packets.years']"
   ]
  },
  {
   "cell_type": "code",
   "execution_count": 65,
   "metadata": {
    "ExecuteTime": {
     "end_time": "2020-08-08T22:41:32.901585Z",
     "start_time": "2020-08-08T22:41:30.720527Z"
    }
   },
   "outputs": [],
   "source": [
    "data_for_sql.to_csv('../SQL_load/PONV_clean.csv')"
   ]
  },
  {
   "cell_type": "markdown",
   "metadata": {},
   "source": [
    "## Additional tables to make\n",
    "#### The following data was aggregated to be converted into SQL to convert text to ordinal categorical data:\n",
    "- surgery types\n",
    "- chemo emeogenicity table mapping\n",
    "- smoke table mapping\n",
    "- apfel score probability"
   ]
  },
  {
   "cell_type": "code",
   "execution_count": 66,
   "metadata": {
    "ExecuteTime": {
     "end_time": "2020-08-08T22:41:32.908887Z",
     "start_time": "2020-08-08T22:41:32.903455Z"
    }
   },
   "outputs": [
    {
     "data": {
      "text/plain": [
       "array(['Cirurgia Gastrointestinal', 'Amputação de Membro',\n",
       "       'Anexectomia/Ooforectomia', 'Artoplastia Quadril',\n",
       "       'Artrodese Espinhal', 'Cirurgia biliodigestiva',\n",
       "       'Cirurgia de Cabeça e Pescoço', 'Cirurgia Plástica',\n",
       "       'Cirurgia Torácica', 'Cirurgias Ortopédicas', 'Cistectomia',\n",
       "       'Citorredução  ', 'Esofagectomia', 'Hepatectomia', 'Histerectomia',\n",
       "       'Histerectomia VLP ', 'Laparotomia Exploradora',\n",
       "       'Linfadenectomia Extenso', 'Mastectomia', 'Nefrectomia', 'Outros',\n",
       "       'Pancreatectomia', 'Prostatectomia', 'Ressecção TU partes moles',\n",
       "       'Setorectomia Mamária'], dtype=object)"
      ]
     },
     "execution_count": 66,
     "metadata": {},
     "output_type": "execute_result"
    }
   ],
   "source": [
    "procedures_pr = data_for_sql['surgical.procedure'].unique()\n",
    "procedures_pr"
   ]
  },
  {
   "cell_type": "code",
   "execution_count": 67,
   "metadata": {
    "ExecuteTime": {
     "end_time": "2020-08-08T22:41:32.913599Z",
     "start_time": "2020-08-08T22:41:32.910631Z"
    }
   },
   "outputs": [],
   "source": [
    "procedures_en = ['Gastrointestinal', 'Limb Amputation', 'Anexectomy/Ovariectomy/', 'Hip Arthoplasty',\n",
    "               'Spine Surgery', 'Gallbladder', 'Head/Neck', 'Plastic', 'Thoracic', 'Orthopedic',\n",
    "               'Cystectomy', 'Cytoreduction', 'Esophagectomy', 'Hepatectomy', 'Hysterectomy', 'Hysterectomy VLP',\n",
    "               'Exploratory Laparotomy', 'Extensive Lymphadenectomy', 'Mastectomy', 'Nephrectomy', 'Other',\n",
    "               'Pancreatectomy', 'Prostatectomy', 'Soft Tissue Resection', 'Breast Lumpectomy']"
   ]
  },
  {
   "cell_type": "code",
   "execution_count": 68,
   "metadata": {
    "ExecuteTime": {
     "end_time": "2020-08-08T22:41:32.935468Z",
     "start_time": "2020-08-08T22:41:32.925392Z"
    }
   },
   "outputs": [
    {
     "data": {
      "text/html": [
       "<div>\n",
       "<style scoped>\n",
       "    .dataframe tbody tr th:only-of-type {\n",
       "        vertical-align: middle;\n",
       "    }\n",
       "\n",
       "    .dataframe tbody tr th {\n",
       "        vertical-align: top;\n",
       "    }\n",
       "\n",
       "    .dataframe thead th {\n",
       "        text-align: right;\n",
       "    }\n",
       "</style>\n",
       "<table border=\"1\" class=\"dataframe\">\n",
       "  <thead>\n",
       "    <tr style=\"text-align: right;\">\n",
       "      <th></th>\n",
       "      <th>surgical_procedure</th>\n",
       "      <th>Procedure_EN</th>\n",
       "    </tr>\n",
       "  </thead>\n",
       "  <tbody>\n",
       "    <tr>\n",
       "      <th>0</th>\n",
       "      <td>Cirurgia Gastrointestinal</td>\n",
       "      <td>Gastrointestinal</td>\n",
       "    </tr>\n",
       "    <tr>\n",
       "      <th>1</th>\n",
       "      <td>Amputação de Membro</td>\n",
       "      <td>Limb Amputation</td>\n",
       "    </tr>\n",
       "    <tr>\n",
       "      <th>2</th>\n",
       "      <td>Anexectomia/Ooforectomia</td>\n",
       "      <td>Anexectomy/Ovariectomy/</td>\n",
       "    </tr>\n",
       "    <tr>\n",
       "      <th>3</th>\n",
       "      <td>Artoplastia Quadril</td>\n",
       "      <td>Hip Arthoplasty</td>\n",
       "    </tr>\n",
       "    <tr>\n",
       "      <th>4</th>\n",
       "      <td>Artrodese Espinhal</td>\n",
       "      <td>Spine Surgery</td>\n",
       "    </tr>\n",
       "  </tbody>\n",
       "</table>\n",
       "</div>"
      ],
      "text/plain": [
       "          surgical_procedure             Procedure_EN\n",
       "0  Cirurgia Gastrointestinal         Gastrointestinal\n",
       "1        Amputação de Membro          Limb Amputation\n",
       "2   Anexectomia/Ooforectomia  Anexectomy/Ovariectomy/\n",
       "3        Artoplastia Quadril          Hip Arthoplasty\n",
       "4         Artrodese Espinhal            Spine Surgery"
      ]
     },
     "execution_count": 68,
     "metadata": {},
     "output_type": "execute_result"
    }
   ],
   "source": [
    "proc_trans = dict(zip(procedures_pr,procedures_en))\n",
    "proc_table = pd.Series(proc_trans, name='Procedure_EN')\n",
    "proc_table.index.name='surgical_procedure'\n",
    "proc_table.reset_index().head()"
   ]
  },
  {
   "cell_type": "code",
   "execution_count": 69,
   "metadata": {
    "ExecuteTime": {
     "end_time": "2020-08-08T22:41:32.944765Z",
     "start_time": "2020-08-08T22:41:32.939426Z"
    }
   },
   "outputs": [],
   "source": [
    "#proc_table.to_csv('../SQL_load/proced_trans.csv')"
   ]
  },
  {
   "cell_type": "code",
   "execution_count": 70,
   "metadata": {
    "ExecuteTime": {
     "end_time": "2020-08-08T22:41:32.954435Z",
     "start_time": "2020-08-08T22:41:32.946303Z"
    }
   },
   "outputs": [
    {
     "data": {
      "text/html": [
       "<div>\n",
       "<style scoped>\n",
       "    .dataframe tbody tr th:only-of-type {\n",
       "        vertical-align: middle;\n",
       "    }\n",
       "\n",
       "    .dataframe tbody tr th {\n",
       "        vertical-align: top;\n",
       "    }\n",
       "\n",
       "    .dataframe thead th {\n",
       "        text-align: right;\n",
       "    }\n",
       "</style>\n",
       "<table border=\"1\" class=\"dataframe\">\n",
       "  <thead>\n",
       "    <tr style=\"text-align: right;\">\n",
       "      <th></th>\n",
       "      <th>Apfel Score</th>\n",
       "      <th>PONV %</th>\n",
       "    </tr>\n",
       "  </thead>\n",
       "  <tbody>\n",
       "    <tr>\n",
       "      <th>0</th>\n",
       "      <td>0</td>\n",
       "      <td>0.1</td>\n",
       "    </tr>\n",
       "    <tr>\n",
       "      <th>1</th>\n",
       "      <td>1</td>\n",
       "      <td>0.2</td>\n",
       "    </tr>\n",
       "    <tr>\n",
       "      <th>2</th>\n",
       "      <td>2</td>\n",
       "      <td>0.4</td>\n",
       "    </tr>\n",
       "    <tr>\n",
       "      <th>3</th>\n",
       "      <td>3</td>\n",
       "      <td>0.6</td>\n",
       "    </tr>\n",
       "    <tr>\n",
       "      <th>4</th>\n",
       "      <td>4</td>\n",
       "      <td>0.8</td>\n",
       "    </tr>\n",
       "  </tbody>\n",
       "</table>\n",
       "</div>"
      ],
      "text/plain": [
       "   Apfel Score  PONV %\n",
       "0            0     0.1\n",
       "1            1     0.2\n",
       "2            2     0.4\n",
       "3            3     0.6\n",
       "4            4     0.8"
      ]
     },
     "execution_count": 70,
     "metadata": {},
     "output_type": "execute_result"
    }
   ],
   "source": [
    "apfel_dict = {0:.1,\n",
    "             1:.2,\n",
    "             2:.4,\n",
    "             3:.6,\n",
    "             4:.8}\n",
    "apfel_table = pd.Series(apfel_dict, name='PONV %')\n",
    "apfel_table.index.name='Apfel Score'\n",
    "apfel_table.reset_index()"
   ]
  },
  {
   "cell_type": "code",
   "execution_count": 71,
   "metadata": {
    "ExecuteTime": {
     "end_time": "2020-08-08T22:41:32.960650Z",
     "start_time": "2020-08-08T22:41:32.956092Z"
    }
   },
   "outputs": [],
   "source": [
    "#proc_table.to_csv('../SQL_load/apfel_table.csv')"
   ]
  },
  {
   "cell_type": "code",
   "execution_count": 72,
   "metadata": {
    "ExecuteTime": {
     "end_time": "2020-08-08T22:41:32.976223Z",
     "start_time": "2020-08-08T22:41:32.962126Z"
    }
   },
   "outputs": [
    {
     "data": {
      "text/html": [
       "<div>\n",
       "<style scoped>\n",
       "    .dataframe tbody tr th:only-of-type {\n",
       "        vertical-align: middle;\n",
       "    }\n",
       "\n",
       "    .dataframe tbody tr th {\n",
       "        vertical-align: top;\n",
       "    }\n",
       "\n",
       "    .dataframe thead th {\n",
       "        text-align: right;\n",
       "    }\n",
       "</style>\n",
       "<table border=\"1\" class=\"dataframe\">\n",
       "  <thead>\n",
       "    <tr style=\"text-align: right;\">\n",
       "      <th></th>\n",
       "      <th>Level</th>\n",
       "      <th>Description</th>\n",
       "    </tr>\n",
       "  </thead>\n",
       "  <tbody>\n",
       "    <tr>\n",
       "      <th>0</th>\n",
       "      <td>3</td>\n",
       "      <td>c.moderate(30-90%)</td>\n",
       "    </tr>\n",
       "    <tr>\n",
       "      <th>1</th>\n",
       "      <td>4</td>\n",
       "      <td>d.high(&gt;90%)</td>\n",
       "    </tr>\n",
       "    <tr>\n",
       "      <th>2</th>\n",
       "      <td></td>\n",
       "      <td>NaN</td>\n",
       "    </tr>\n",
       "    <tr>\n",
       "      <th>3</th>\n",
       "      <td>2</td>\n",
       "      <td>b.low(10-30%)</td>\n",
       "    </tr>\n",
       "    <tr>\n",
       "      <th>4</th>\n",
       "      <td>1</td>\n",
       "      <td>a.minimal(&lt;10%)</td>\n",
       "    </tr>\n",
       "  </tbody>\n",
       "</table>\n",
       "</div>"
      ],
      "text/plain": [
       "  Level         Description\n",
       "0     3  c.moderate(30-90%)\n",
       "1     4        d.high(>90%)\n",
       "2                       NaN\n",
       "3     2       b.low(10-30%)\n",
       "4     1     a.minimal(<10%)"
      ]
     },
     "execution_count": 72,
     "metadata": {},
     "output_type": "execute_result"
    }
   ],
   "source": [
    "chemo_emeto_dict = dict(zip(data_for_sql['chemotherapy.emetogenicity'].unique(),\n",
    "                            raw_df['chemotherapy.emetogenicity'].unique()))\n",
    "chemo_emet_table = pd.Series(chemo_emeto_dict, name='Description')\n",
    "chemo_emet_table.index.name='Level'\n",
    "chemo_emet_table.reset_index()"
   ]
  },
  {
   "cell_type": "code",
   "execution_count": 73,
   "metadata": {
    "ExecuteTime": {
     "end_time": "2020-08-08T22:41:32.983244Z",
     "start_time": "2020-08-08T22:41:32.978401Z"
    }
   },
   "outputs": [],
   "source": [
    "#chemo_emet_table.to_csv('chemo_emet_table.csv')"
   ]
  },
  {
   "cell_type": "code",
   "execution_count": null,
   "metadata": {},
   "outputs": [],
   "source": []
  }
 ],
 "metadata": {
  "kernelspec": {
   "display_name": "Python [conda env:metis] *",
   "language": "python",
   "name": "conda-env-metis-py"
  },
  "language_info": {
   "codemirror_mode": {
    "name": "ipython",
    "version": 3
   },
   "file_extension": ".py",
   "mimetype": "text/x-python",
   "name": "python",
   "nbconvert_exporter": "python",
   "pygments_lexer": "ipython3",
   "version": "3.8.3"
  }
 },
 "nbformat": 4,
 "nbformat_minor": 4
}
